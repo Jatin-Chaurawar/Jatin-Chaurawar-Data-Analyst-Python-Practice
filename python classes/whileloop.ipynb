{
 "cells": [
  {
   "cell_type": "code",
   "execution_count": 8,
   "id": "7303816b-2c1c-4903-a9c9-aabd4ae1577f",
   "metadata": {},
   "outputs": [
    {
     "name": "stdout",
     "output_type": "stream",
     "text": [
      "0\n",
      "1\n",
      "2\n",
      "3\n",
      "4\n"
     ]
    }
   ],
   "source": [
    "#printing number \n",
    "i=0\n",
    "while i<5:\n",
    "    print(i)\n",
    "    i+=1"
   ]
  },
  {
   "cell_type": "code",
   "execution_count": 10,
   "id": "e5166779-4c02-4872-ac43-86a3d024ac2e",
   "metadata": {},
   "outputs": [
    {
     "name": "stdout",
     "output_type": "stream",
     "text": [
      "0 1 2 3 4 "
     ]
    }
   ],
   "source": [
    "#printing number \n",
    "i=0\n",
    "while i<5:\n",
    "    print(i,end=\" \")\n",
    "    i+=1"
   ]
  },
  {
   "cell_type": "code",
   "execution_count": 20,
   "id": "f8d5ac38-a56e-471b-a0a1-a9a4367219df",
   "metadata": {},
   "outputs": [
    {
     "name": "stdout",
     "output_type": "stream",
     "text": [
      "Swift\n",
      "Python\n",
      "Go\n",
      "JavaScript\n"
     ]
    }
   ],
   "source": [
    "#running while loop in list \n",
    "languages=['Swift','Python','Go','JavaScript']\n",
    "#initialize an index variable\n",
    "i=0\n",
    "while i <len(languages):\n",
    "    print(languages[i])\n",
    "    i+=1"
   ]
  },
  {
   "cell_type": "code",
   "execution_count": 22,
   "id": "e4cec3fe-7ffe-42ef-980d-fca5942bfea5",
   "metadata": {},
   "outputs": [
    {
     "name": "stdout",
     "output_type": "stream",
     "text": [
      "0\n",
      "1\n",
      "5\n",
      "no items left\n"
     ]
    }
   ],
   "source": [
    "digits=[0,1,5]\n",
    "i=0\n",
    "while i < len(digits):\n",
    "    print(digits[i])\n",
    "    i+=1\n",
    "else:\n",
    "    print(\"no items left\")"
   ]
  },
  {
   "cell_type": "code",
   "execution_count": 36,
   "id": "0b5b9736-93a5-4ccd-ab23-f8d9efe3c967",
   "metadata": {},
   "outputs": [
    {
     "name": "stdout",
     "output_type": "stream",
     "text": [
      "3 9 3 9 7 \n",
      "These are the odd number present in mydata\n"
     ]
    }
   ],
   "source": [
    "mydata=(3,4,6,8,9,2,3,8,9,7)\n",
    "i=0\n",
    "while i < len(mydata):\n",
    "    if mydata[i]%2!=0:\n",
    "        print(mydata[i],end=\" \")\n",
    "    i+=1\n",
    "else:\n",
    "    print(\"\")\n",
    "    print(\"These are the odd number present in mydata\")"
   ]
  },
  {
   "cell_type": "code",
   "execution_count": 46,
   "id": "97c05f94-e4c9-4a85-845e-94f4de87aee4",
   "metadata": {},
   "outputs": [
    {
     "name": "stdout",
     "output_type": "stream",
     "text": [
      "The following lines will print each letter of Apple\n",
      "A p p l e  \n",
      "The following lines will print each letter of Banana\n",
      "B a n a n a  \n",
      "The following lines will print each letter of Car\n",
      "C a r  \n",
      "The following lines will print each letter of Dolphin\n",
      "D o l p h i n  \n"
     ]
    }
   ],
   "source": [
    "words=[\"Apple\",\"Banana\",\"Car\",\"Dolphin\"]\n",
    "a=0\n",
    "while a<len(words):\n",
    "    current_word=words[a]\n",
    "    print(\"The following lines will print each letter of \"+ current_word)\n",
    "    b=0\n",
    "    while b<len(current_word):\n",
    "        current_letter=current_word[b]\n",
    "        print(current_letter,end=\" \")\n",
    "        b+=1\n",
    "    print(\" \")\n",
    "    a+=1"
   ]
  },
  {
   "cell_type": "code",
   "execution_count": 50,
   "id": "aa9eefd5-4f2f-4485-90f2-fb1c7855fcb5",
   "metadata": {},
   "outputs": [
    {
     "name": "stdout",
     "output_type": "stream",
     "text": [
      "sum is: 5050\n"
     ]
    }
   ],
   "source": [
    "#sum of number 1 to100\n",
    "total=0\n",
    "i=1\n",
    "while i<=100:\n",
    "    total+=i\n",
    "    i+=1\n",
    "print(\"sum is:\",total)"
   ]
  },
  {
   "cell_type": "code",
   "execution_count": 52,
   "id": "3ee01c07-ecd1-48a1-82c2-c658e0958958",
   "metadata": {},
   "outputs": [
    {
     "name": "stdout",
     "output_type": "stream",
     "text": [
      "sum of even numbers: 2550\n",
      "sum of odd numbers: 2500\n"
     ]
    }
   ],
   "source": [
    "sum_even=0\n",
    "sum_odd=0\n",
    "i=1\n",
    "while i<=100:\n",
    "    if i%2==0:\n",
    "        sum_even+=i\n",
    "    else:\n",
    "        sum_odd+=i\n",
    "    i+=1\n",
    "print(\"sum of even numbers:\",sum_even)\n",
    "print(\"sum of odd numbers:\",sum_odd)\n"
   ]
  },
  {
   "cell_type": "code",
   "execution_count": 54,
   "id": "00a87320-fe7f-4db8-819b-ee2e1375411a",
   "metadata": {},
   "outputs": [
    {
     "name": "stdout",
     "output_type": "stream",
     "text": [
      "1\n",
      "2\n"
     ]
    }
   ],
   "source": [
    "mydata=[1,2,3,4,5,6,7,8]\n",
    "i=0\n",
    "while i<len(mydata):\n",
    "    if mydata[i]==3:\n",
    "        break\n",
    "    print(mydata[i])\n",
    "    i+=1"
   ]
  },
  {
   "cell_type": "code",
   "execution_count": 3,
   "id": "a25aa982-1580-4a1c-8220-59d13032a260",
   "metadata": {},
   "outputs": [
    {
     "name": "stdout",
     "output_type": "stream",
     "text": [
      "1\n",
      "2\n",
      "3\n"
     ]
    }
   ],
   "source": [
    "mydata=[1,2,3,4,5,6,7,8]\n",
    "i=0\n",
    "while i<len(mydata):\n",
    "    print(mydata[i])\n",
    "    if mydata[i]==3:\n",
    "        break\n",
    "    i+=1"
   ]
  },
  {
   "cell_type": "code",
   "execution_count": 1,
   "id": "d99c563f-45ce-4511-83c6-2c5c750bb0e0",
   "metadata": {},
   "outputs": [
    {
     "name": "stdout",
     "output_type": "stream",
     "text": [
      "1\n",
      "2\n",
      "4\n",
      "5\n",
      "6\n",
      "7\n",
      "8\n"
     ]
    }
   ],
   "source": [
    "mydata=[1,2,3,4,5,6,7,8]\n",
    "i=0\n",
    "while i<len(mydata):\n",
    "    if mydata[i]==3:\n",
    "        i+=1\n",
    "        continue\n",
    "    print(mydata[i])\n",
    "    i+=1"
   ]
  },
  {
   "cell_type": "code",
   "execution_count": 11,
   "id": "e0847851-618e-4758-8796-b96ccf9b5bc3",
   "metadata": {},
   "outputs": [
    {
     "name": "stdout",
     "output_type": "stream",
     "text": [
      "1\n",
      "2\n",
      "3\n",
      "4\n",
      "5\n",
      "6\n",
      "7\n",
      "8\n"
     ]
    }
   ],
   "source": [
    "mydata=[1,2,3,4,5,6,7,8]\n",
    "i=0\n",
    "while i<len(mydata):\n",
    "    print(mydata[i])\n",
    "    if mydata[i]==3:\n",
    "        i+=1\n",
    "        continue\n",
    "    i+=1"
   ]
  },
  {
   "cell_type": "code",
   "execution_count": null,
   "id": "c8d7848c-dd3f-4459-b4d8-ecc5c18554e9",
   "metadata": {},
   "outputs": [],
   "source": [
    "a=['Nikhil','Nikhilesh','Jatin','Purab']\n",
    "b=['Mansi','Chan']"
   ]
  }
 ],
 "metadata": {
  "kernelspec": {
   "display_name": "Python 3 (ipykernel)",
   "language": "python",
   "name": "python3"
  },
  "language_info": {
   "codemirror_mode": {
    "name": "ipython",
    "version": 3
   },
   "file_extension": ".py",
   "mimetype": "text/x-python",
   "name": "python",
   "nbconvert_exporter": "python",
   "pygments_lexer": "ipython3",
   "version": "3.12.4"
  }
 },
 "nbformat": 4,
 "nbformat_minor": 5
}
