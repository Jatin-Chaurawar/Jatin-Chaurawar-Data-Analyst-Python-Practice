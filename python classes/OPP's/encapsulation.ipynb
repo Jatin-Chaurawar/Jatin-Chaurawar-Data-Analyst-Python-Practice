{
 "cells": [
  {
   "cell_type": "code",
   "execution_count": 9,
   "id": "7c0dc816-d46a-4b14-8ea7-a33da02e4e1b",
   "metadata": {},
   "outputs": [
    {
     "name": "stdout",
     "output_type": "stream",
     "text": [
      "Name: Minal Salary: 48500\n",
      "Name:Minal and Salary 48500\n"
     ]
    }
   ],
   "source": [
    "# using public member\n",
    "class Employee:\n",
    "    def __init__(self,name,salary):\n",
    "        #public datamember \n",
    "        self.name=name\n",
    "        self.salary=salary\n",
    "    def show(self):\n",
    "        print(f\"Name:{self.name} and Salary {self.salary}\")\n",
    "emp=Employee(\"Minal\",48500)\n",
    "print(\"Name:\",emp.name,\"Salary:\",emp.salary)\n",
    "emp.show()"
   ]
  },
  {
   "cell_type": "code",
   "execution_count": 27,
   "id": "02f00ef3-0ae2-46d8-b64f-a6c7df13722a",
   "metadata": {},
   "outputs": [
    {
     "name": "stdout",
     "output_type": "stream",
     "text": [
      "Name: Sonali Salary: 55000\n"
     ]
    }
   ],
   "source": [
    "#creating private member \n",
    "class Employee:\n",
    "    def __init__(self,name,salary):\n",
    "        self.name=name\n",
    "        self.__salary=salary\n",
    "    def show(self):\n",
    "        print(\"Name:\",self.name,\"Salary:\",self.__salary)\n",
    "    #reating object of aclass \n",
    "emp=Employee(\"Sonali\",55000)\n",
    "emp.show()"
   ]
  },
  {
   "cell_type": "code",
   "execution_count": 1,
   "id": "4f5137c7-4e79-41f3-8a88-b7d1aa11ecfa",
   "metadata": {},
   "outputs": [
    {
     "name": "stdout",
     "output_type": "stream",
     "text": [
      "Name: Nikhil\n",
      "Salary: 35000\n"
     ]
    }
   ],
   "source": [
    "# Name mangling to access private member\n",
    "class Employee:\n",
    "    def __init__(self,name,salary):\n",
    "        self.name=name\n",
    "        self.__salary=salary\n",
    "emp=Employee('Nikhil',35000)\n",
    "print('Name:',emp.name)\n",
    "#direct access to private member using name mangling\n",
    "print('Salary:',emp._Employee__salary)"
   ]
  },
  {
   "cell_type": "code",
   "execution_count": 7,
   "id": "586bb743-2ae4-44e5-a89f-053aaebf7264",
   "metadata": {},
   "outputs": [
    {
     "name": "stdout",
     "output_type": "stream",
     "text": [
      "Employee Name: Adarsh\n",
      "Working on project: Raisoni College\n",
      "Project Raisoni College\n"
     ]
    }
   ],
   "source": [
    "#Creating parent class \n",
    "class Company:\n",
    "    def __init__(self):\n",
    "        self._project=\"Raisoni College\"\n",
    "class Employee(Company):\n",
    "    def __init__(self,name):\n",
    "        self.name=name\n",
    "        Company.__init__(self)\n",
    "    def show(self):\n",
    "        print(\"Employee Name:\",self.name)\n",
    "        #accessing protected member in child class \n",
    "        print(\"Working on project:\",self._project)\n",
    "c=Employee(\"Adarsh\")\n",
    "c.show()\n",
    "#direct access to protected data member\n",
    "print(\"Project\",c._project)"
   ]
  },
  {
   "cell_type": "code",
   "execution_count": 15,
   "id": "f27030da-b63c-469a-b905-18f2be0b2d78",
   "metadata": {},
   "outputs": [
    {
     "name": "stdout",
     "output_type": "stream",
     "text": [
      "Account Number:123456789\n",
      "Account Holder:Priya Sharma\n",
      "Balance:Rs.50000\n",
      "Deposited Rs.50000. New balance is Rs.100000\n",
      "Insufficient funds or invalid amount\n",
      "Balance:Rs.100000\n"
     ]
    }
   ],
   "source": [
    "class BankAccount:\n",
    "    def __init__(self,account_number,balance):\n",
    "        self.account_number=account_number       #public data member\n",
    "        self._account_holder=\"Priya Sharma\"       #public data member\n",
    "        self.__balance=balance\n",
    "    def deposit(self,amount):\n",
    "        if amount>0:\n",
    "            self.__balance+=amount\n",
    "            print(f\"Deposited Rs.{amount}. New balance is Rs.{self.__balance}\")\n",
    "        else:\n",
    "            print(\"Deposited ammount must be positive\")\n",
    "    def withdraw(self,amount):\n",
    "        if amount>0 and amount<=self.__balance:\n",
    "            self.__balance=amount\n",
    "            print(f\"Withdraw rs.{amount}. New balance is Rs.{self.__balance} \")\n",
    "        else:\n",
    "            print(\"Insufficient funds or invalid amount\")\n",
    "    def mybalance(self):\n",
    "        return self.__balance\n",
    "b=BankAccount(\"123456789\",50000)\n",
    "print(f\"Account Number:{b.account_number}\")\n",
    "print(f\"Account Holder:{b._account_holder}\")\n",
    "print(f\"Balance:Rs.{b.mybalance()}\")\n",
    "#Perform some operation\n",
    "b.deposit(50000)\n",
    "b.withdraw(200000)\n",
    "#display account details after operation\n",
    "print(f\"Balance:Rs.{b.mybalance()}\")"
   ]
  },
  {
   "cell_type": "code",
   "execution_count": 21,
   "id": "27af106e-c7a1-4ba0-8b05-7d0cd98ca86a",
   "metadata": {},
   "outputs": [
    {
     "ename": "SyntaxError",
     "evalue": "invalid syntax (1575412796.py, line 8)",
     "output_type": "error",
     "traceback": [
      "\u001b[1;36m  Cell \u001b[1;32mIn[21], line 8\u001b[1;36m\u001b[0m\n\u001b[1;33m    super().__init__(self._name,self.age,self.__mobilenumber):\u001b[0m\n\u001b[1;37m                                                             ^\u001b[0m\n\u001b[1;31mSyntaxError\u001b[0m\u001b[1;31m:\u001b[0m invalid syntax\n"
     ]
    }
   ],
   "source": [
    "class Myself:\n",
    "    def __init__(self,name,age):\n",
    "        self.age=age\n",
    "        self._name=\"Jatin\"\n",
    "        self.__mobilenumber=mobilenumber\n",
    "class Intro(Myself):\n",
    "    def myinfo(self,name,age,mobilenumber):\n",
    "        super().__init__(self._name,self.age,self.__mobilenumber)\n",
    "        print(f\"My name is {self._name}. My age is {self.age}\")\n",
    "        return self.__mobilenumber\n",
    "a=Intro()\n",
    "a.myinfo(23,988154133)"
   ]
  },
  {
   "cell_type": "code",
   "execution_count": 21,
   "id": "4ca20bfc-a2d8-405d-af95-ac4198d3acaf",
   "metadata": {},
   "outputs": [
    {
     "name": "stdout",
     "output_type": "stream",
     "text": [
      "Creature makes a sound\n",
      "Buddy barks\n"
     ]
    }
   ],
   "source": [
    "class Animal:                              # Base class (Inheritance)\n",
    "    def __init__(self, name): self.__name = name  # Encapsulation (__name is private)\n",
    "    def speak(self): \n",
    "        return f\"{self.__name} makes a sound\"  # Polymorphic method\n",
    "\n",
    "class Dog(Animal):                         # Derived class\n",
    "    def speak(self): \n",
    "        return f\"{self._Animal__name} barks\"   # Polymorphism (method override)\n",
    "\n",
    "a = Animal(\"Creature\")                    # Object of base class\n",
    "d = Dog(\"Buddy\")                          # Object of derived class\n",
    "\n",
    "print(a.speak())                          # Calls base class method\n",
    "print(d.speak())                          # Calls overridden method\n"
   ]
  },
  {
   "cell_type": "code",
   "execution_count": 1,
   "id": "b0f45dec-f89f-402d-bf98-55041764c625",
   "metadata": {},
   "outputs": [
    {
     "name": "stdout",
     "output_type": "stream",
     "text": [
      "Creature the Unknown says ...\n",
      "Buddy the Dog says Woof\n"
     ]
    }
   ],
   "source": [
    "class Animal:                                  \n",
    "    def __init__(self, name): \n",
    "        self.name, self._type, self.__sound = name, \"Unknown\", \"...\"  # public, protected, private\n",
    "    def speak(self):\n",
    "        return f\"{self.name} the {self._type} says {self.__sound}\"             # encapsulation + polymorphism\n",
    "class Dog(Animal):                             \n",
    "    def __init__(self, name): super().__init__(name); self._type, self._Animal__sound = \"Dog\", \"Woof\"  # override protected & private\n",
    "a, d = Animal(\"Creature\"), Dog(\"Buddy\")        \n",
    "print(a.speak())                               \n",
    "print(d.speak())                               \n"
   ]
  },
  {
   "cell_type": "code",
   "execution_count": 5,
   "id": "9e0799fa-46b6-4f93-b9a4-fa4c7832869b",
   "metadata": {},
   "outputs": [
    {
     "name": "stdout",
     "output_type": "stream",
     "text": [
      "Name: Adarsh Age: 24\n",
      "Name: Adarsh Age: 21\n"
     ]
    }
   ],
   "source": [
    "#using getter and setter\n",
    "class Student:\n",
    "    def __init__(self,name,age):\n",
    "        self.name=name\n",
    "        self.__age=age\n",
    "    def get_age(self):\n",
    "        return self.__age\n",
    "    def set_age(self,age):\n",
    "        self.__age=age\n",
    "stud = Student('Adarsh',24)\n",
    "# retriving age using getter\n",
    "print('Name:',stud.name,'Age:',stud.get_age())\n",
    "#hanging age using setter\n",
    "stud.set_age(21)\n",
    "#retriving age using getter\n",
    "print('Name:',stud.name,'Age:',stud.get_age())"
   ]
  },
  {
   "cell_type": "code",
   "execution_count": 11,
   "id": "71367521-1359-42ba-a20a-d95794178d0e",
   "metadata": {},
   "outputs": [
    {
     "name": "stdout",
     "output_type": "stream",
     "text": [
      "Student Details: Sonali 10\n",
      "Invalid Roll_no. Please set correct Roll_no\n",
      "Student Details: Sonali 25\n"
     ]
    }
   ],
   "source": [
    "class Student:\n",
    "    def __init__(self,name,roll_no,age):\n",
    "        self.name=name\n",
    "        self.__roll_no=roll_no\n",
    "        self.__age=age\n",
    "    def show(self):\n",
    "        print('Student Details:',self.name,self.__roll_no)\n",
    "    def get_roll_no(self):\n",
    "        return self.__roll_no\n",
    "    def set_roll_no(self,number):\n",
    "        if number>50:\n",
    "            print('Invalid Roll_no. Please set correct Roll_no')\n",
    "        else:\n",
    "            self.__roll_no=number\n",
    "s1=Student('Sonali',10,25)\n",
    "s1.show()\n",
    "s1.set_roll_no(120)\n",
    "s1.set_roll_no(25)\n",
    "s1.show()"
   ]
  },
  {
   "cell_type": "code",
   "execution_count": null,
   "id": "05ab4847-457c-4b67-ad40-d76a51c18978",
   "metadata": {},
   "outputs": [],
   "source": []
  }
 ],
 "metadata": {
  "kernelspec": {
   "display_name": "Python 3 (ipykernel)",
   "language": "python",
   "name": "python3"
  },
  "language_info": {
   "codemirror_mode": {
    "name": "ipython",
    "version": 3
   },
   "file_extension": ".py",
   "mimetype": "text/x-python",
   "name": "python",
   "nbconvert_exporter": "python",
   "pygments_lexer": "ipython3",
   "version": "3.12.4"
  }
 },
 "nbformat": 4,
 "nbformat_minor": 5
}
