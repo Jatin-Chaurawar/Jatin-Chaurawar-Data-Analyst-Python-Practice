{
 "cells": [
  {
   "cell_type": "code",
   "execution_count": 14,
   "id": "e2ef5c87-d38d-44ac-8256-0c28e3a204ec",
   "metadata": {},
   "outputs": [
    {
     "name": "stdout",
     "output_type": "stream",
     "text": [
      "Title: Harry Potter\n",
      "Author: J.K. Rowling\n"
     ]
    }
   ],
   "source": [
    "class Book:\n",
    "    def status(self, title, author):\n",
    "        print(\"Title:\",title)\n",
    "        print(\"Author:\",author)\n",
    "my_book = Book()\n",
    "my_book.status(\"Harry Potter\", \"J.K. Rowling\")"
   ]
  },
  {
   "cell_type": "code",
   "execution_count": 4,
   "id": "1f8ee921-49a7-4926-b169-b722da18b9a4",
   "metadata": {},
   "outputs": [
    {
     "name": "stdout",
     "output_type": "stream",
     "text": [
      "Title: Harry Potter\n",
      "Author: J.K. Rowling\n"
     ]
    }
   ],
   "source": [
    "class Book:\n",
    "    def __init__(self, title, author):\n",
    "        self.title = title\n",
    "        self.author = author\n",
    "my_book = Book(\"Harry Potter\", \"J.K. Rowling\")\n",
    "print(\"Title:\", my_book.title)\n",
    "print(\"Author:\", my_book.author)\n"
   ]
  },
  {
   "cell_type": "code",
   "execution_count": 6,
   "id": "6a5175b7-db13-4eee-b2d9-4991d02adeb6",
   "metadata": {},
   "outputs": [
    {
     "name": "stdout",
     "output_type": "stream",
     "text": [
      "Car created: Toyota Corolla\n"
     ]
    }
   ],
   "source": [
    "class Car:\n",
    "    def __init__(self, brand, model):\n",
    "        self.brand = brand\n",
    "        self.model = model\n",
    "        print(f\"Car created: {self.brand} {self.model}\")\n",
    "my_car = Car(\"Toyota\", \"Corolla\")\n"
   ]
  },
  {
   "cell_type": "code",
   "execution_count": 16,
   "id": "f8395413-a1bf-4ac4-ba41-0efb7f230d83",
   "metadata": {},
   "outputs": [
    {
     "name": "stdout",
     "output_type": "stream",
     "text": [
      "Dog barks\n"
     ]
    }
   ],
   "source": [
    "# Base class\n",
    "class Animal:\n",
    "    def speak(self):\n",
    "        print(\"Animal speaks\")\n",
    "class Dog(Animal):\n",
    "    def speak(self):\n",
    "        print(\"Dog barks\")\n",
    "my_dog = Dog()\n",
    "my_dog.speak()"
   ]
  },
  {
   "cell_type": "code",
   "execution_count": 18,
   "id": "898b49d7-bc0b-4c04-849d-bc6fee102cb3",
   "metadata": {},
   "outputs": [
    {
     "name": "stdout",
     "output_type": "stream",
     "text": [
      "Animals make sounds\n",
      "Most mammals have hair\n",
      "Dog barks\n"
     ]
    }
   ],
   "source": [
    "# Base class\n",
    "class Animal:\n",
    "    def sound(self):\n",
    "        print(\"Animals make sounds\")\n",
    "# Intermediate class\n",
    "class Mammal(Animal):\n",
    "    def has_hair(self):\n",
    "        print(\"Most mammals have hair\")\n",
    "# Derived class\n",
    "class Dog(Mammal):\n",
    "    def bark(self):\n",
    "        print(\"Dog barks\")\n",
    "my_dog = Dog()\n",
    "my_dog.sound()\n",
    "my_dog.has_hair()\n",
    "my_dog.bark()\n"
   ]
  },
  {
   "cell_type": "code",
   "execution_count": 22,
   "id": "fd02e272-5040-4ec7-be8d-3efe3bf94dd7",
   "metadata": {},
   "outputs": [
    {
     "name": "stdout",
     "output_type": "stream",
     "text": [
      "This is a Device\n",
      "Making a Call\n",
      "Photo clicked\n",
      "Using smart features\n"
     ]
    }
   ],
   "source": [
    "'''Create the following classes:\n",
    "- `Device` with method `device_info()` → prints \"This is a device\"\n",
    "- `Phone` inherits from `Device`, adds `call()` → prints \"Making a call\"\n",
    "- `Camera` inherits from `Device`, adds `click_photo()` → prints \"Photo clicked\"\n",
    "- `SmartPhone` inherits from both `Phone` and `Camera`, adds `smart_feature()` → prints \"Using smart features\"\n",
    "Create an object of `SmartPhone` and call all four methods.'''\n",
    "class Device:\n",
    "    def device_info(self):\n",
    "        print(\"This is a Device\")\n",
    "class Phone(Device):\n",
    "    def call(self):\n",
    "        print(\"Making a Call\")\n",
    "class Camera(Device):\n",
    "    def click_photo(self):\n",
    "        print(\"Photo clicked\")\n",
    "class SmartPhone(Phone,Camera):\n",
    "    def smart_feature(self):\n",
    "        print(\"Using smart features\")\n",
    "my_phone=SmartPhone()\n",
    "my_phone.device_info()\n",
    "my_phone.call()\n",
    "my_phone.click_photo()\n",
    "my_phone.smart_feature()"
   ]
  },
  {
   "cell_type": "code",
   "execution_count": 28,
   "id": "a2f7a128-50da-4c1a-8740-b56a815d5919",
   "metadata": {},
   "outputs": [
    {
     "name": "stdout",
     "output_type": "stream",
     "text": [
      "My name is Jatin\n",
      "My grades are 98%\n"
     ]
    }
   ],
   "source": [
    "'''Create a class `Person` with a constructor that takes `name`.\n",
    "Create another class `Student` that inherits from `Person` and adds an attribute `grade`. \n",
    "Print both `name` and `grade` from an object of `Student`.'''\n",
    "class Person:\n",
    "    def a(self,name):\n",
    "        print(\"My name is\",name)\n",
    "class Student(Person):\n",
    "    def grades(self,grade):\n",
    "        print(f\"My grades are {grade}%\")\n",
    "stu1=Student()\n",
    "stu1.a(\"Jatin\")\n",
    "stu1.grades(98)"
   ]
  },
  {
   "cell_type": "code",
   "execution_count": null,
   "id": "a6d927ed-9501-4ef3-9267-4ce6934cb68b",
   "metadata": {},
   "outputs": [],
   "source": []
  }
 ],
 "metadata": {
  "kernelspec": {
   "display_name": "Python 3 (ipykernel)",
   "language": "python",
   "name": "python3"
  },
  "language_info": {
   "codemirror_mode": {
    "name": "ipython",
    "version": 3
   },
   "file_extension": ".py",
   "mimetype": "text/x-python",
   "name": "python",
   "nbconvert_exporter": "python",
   "pygments_lexer": "ipython3",
   "version": "3.12.4"
  }
 },
 "nbformat": 4,
 "nbformat_minor": 5
}
