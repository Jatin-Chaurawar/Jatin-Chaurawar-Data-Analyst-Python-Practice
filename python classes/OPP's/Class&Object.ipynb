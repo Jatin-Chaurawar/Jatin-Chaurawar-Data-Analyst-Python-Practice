{
 "cells": [
  {
   "cell_type": "code",
   "execution_count": 2,
   "id": "779b6b8d-87bd-4df3-9113-c790724ee157",
   "metadata": {},
   "outputs": [
    {
     "name": "stdout",
     "output_type": "stream",
     "text": [
      "<class '__main__.MyClass'>\n"
     ]
    }
   ],
   "source": [
    "# create a class name Myclaas\n",
    "class MyClass:\n",
    "    x=5\n",
    "print(MyClass)"
   ]
  },
  {
   "cell_type": "code",
   "execution_count": 4,
   "id": "43204874-df03-4844-9d7a-a86150de7c89",
   "metadata": {},
   "outputs": [
    {
     "name": "stdout",
     "output_type": "stream",
     "text": [
      "5\n"
     ]
    }
   ],
   "source": [
    "# create a class name p1 and print value of x\n",
    "class MyClass:\n",
    "    x=5\n",
    "p1=MyClass()\n",
    "print(p1.x)"
   ]
  },
  {
   "cell_type": "code",
   "execution_count": 8,
   "id": "f1a58ab6-e2a7-436c-afff-2dd5b2863b95",
   "metadata": {},
   "outputs": [
    {
     "name": "stdout",
     "output_type": "stream",
     "text": [
      "Not Done\n"
     ]
    }
   ],
   "source": [
    "# using a default constructor\n",
    "class Assignments:\n",
    "    check=\"Not Done\"\n",
    "    #creating a method\n",
    "    def done(self):\n",
    "        print(self.check)\n",
    "    #creating an object of the class \n",
    "a1=Assignments()\n",
    "#calling the instance method\n",
    "a1.done()   "
   ]
  },
  {
   "cell_type": "code",
   "execution_count": 10,
   "id": "f73eab76-d893-4514-93f8-afea2a01bc74",
   "metadata": {},
   "outputs": [
    {
     "name": "stdout",
     "output_type": "stream",
     "text": [
      "This is parameterized constructor\n",
      "Is assignment done Yes\n"
     ]
    }
   ],
   "source": [
    "# Using parameterized constructor\n",
    "class Assignments:\n",
    "     #creating a paramerize constructor\n",
    "    def __init__(self,status):\n",
    "        self.status=status\n",
    "        print(\"This is parameterized constructor\")\n",
    "    def done(self):\n",
    "        print(\"Is assignment done\",self.status)\n",
    "    #creating an object of the class \n",
    "a1=Assignments('Yes')\n",
    "#calling the instance method\n",
    "a1.done()   "
   ]
  },
  {
   "cell_type": "code",
   "execution_count": 12,
   "id": "9b08028c-c201-4aaf-be7d-24db10724a3d",
   "metadata": {},
   "outputs": [
    {
     "name": "stdout",
     "output_type": "stream",
     "text": [
      "This is non parameterized constructor\n",
      "Is assignment done Yes\n"
     ]
    }
   ],
   "source": [
    "# Using Non parameterized constructor\n",
    "class Assignments:\n",
    "    status=\"Yes\"\n",
    "     #creating a Non paramerize constructor\n",
    "    def __init__(self):\n",
    "        print(\"This is non parameterized constructor\")\n",
    "    def done(self):\n",
    "        print(\"Is assignment done\",self.status)\n",
    "    #creating an object of the class \n",
    "a1=Assignments()\n",
    "#calling the instance method\n",
    "a1.done()   "
   ]
  },
  {
   "cell_type": "code",
   "execution_count": 14,
   "id": "a089b849-c292-40d9-bcd2-d187face80bf",
   "metadata": {},
   "outputs": [
    {
     "name": "stdout",
     "output_type": "stream",
     "text": [
      "Chanakshi\n",
      "24\n"
     ]
    }
   ],
   "source": [
    "#passing values\n",
    "class Person:\n",
    "    def __init__(self,name,age):\n",
    "        self.name=name\n",
    "        self.age=age\n",
    "p1=Person(\"Chanakshi\",24)\n",
    "print(p1.name)\n",
    "print(p1.age)\n"
   ]
  },
  {
   "cell_type": "code",
   "execution_count": 18,
   "id": "bc867a48-fbe1-4922-86c9-37b29f0e5cb9",
   "metadata": {},
   "outputs": [
    {
     "name": "stdout",
     "output_type": "stream",
     "text": [
      "Hello my name is Jatin\n"
     ]
    }
   ],
   "source": [
    "# Use the word test and abc insted of self\n",
    "class Person:\n",
    "    def __init__(test,name):\n",
    "        test.name=name\n",
    "    def myfunc(abc):\n",
    "        print(\"Hello my name is \"+abc.name)\n",
    "p1=Person(\"Jatin\")\n",
    "p1.myfunc()"
   ]
  },
  {
   "cell_type": "code",
   "execution_count": 22,
   "id": "8c2fdd1f-dace-4464-abb2-066a5c945c63",
   "metadata": {},
   "outputs": [
    {
     "name": "stdout",
     "output_type": "stream",
     "text": [
      "Hello my name is Nilesh\n",
      "Hello my age is 25\n"
     ]
    }
   ],
   "source": [
    "class Person:\n",
    "    def __init__(self,name,age):\n",
    "        self.a=name\n",
    "        self.b=age\n",
    "    def myfunc(self):\n",
    "        print(\"Hello my name is\",self.a)\n",
    "        print(\"Hello my age is\",self.b)\n",
    "p1=Person(\"Nilesh\",24)\n",
    "p1.b=25\n",
    "p1.myfunc()"
   ]
  },
  {
   "cell_type": "code",
   "execution_count": 28,
   "id": "f95cd961-5c6d-4c61-a5ac-ff84dc73b1a1",
   "metadata": {},
   "outputs": [
    {
     "name": "stdout",
     "output_type": "stream",
     "text": [
      "Hello my name is Nilesh\n",
      "Hello my age is 25\n"
     ]
    }
   ],
   "source": [
    "class Person:\n",
    "    name=\"Nilesh\"\n",
    "    age=25\n",
    "    def __init__(self):\n",
    "        print(\"Hello my name is\",self.name)\n",
    "        print(\"Hello my age is\",self.age)\n",
    "p1=Person()"
   ]
  },
  {
   "cell_type": "code",
   "execution_count": 32,
   "id": "b766f581-41b8-4356-8867-b4a8edaf1c77",
   "metadata": {},
   "outputs": [
    {
     "name": "stdout",
     "output_type": "stream",
     "text": [
      "Hello my name is Nilesh\n",
      "Hello my age is 23\n"
     ]
    }
   ],
   "source": [
    "class Person:\n",
    "    def myself(self,name,age):\n",
    "        print(\"Hello my name is\",name)\n",
    "        print(\"Hello my age is\",age)\n",
    "p1=Person()\n",
    "p1.myself(\"Nilesh\",23)"
   ]
  },
  {
   "cell_type": "code",
   "execution_count": null,
   "id": "de3897c2-9587-4dc7-be24-86c9fbbb6a30",
   "metadata": {},
   "outputs": [],
   "source": []
  }
 ],
 "metadata": {
  "kernelspec": {
   "display_name": "Python 3 (ipykernel)",
   "language": "python",
   "name": "python3"
  },
  "language_info": {
   "codemirror_mode": {
    "name": "ipython",
    "version": 3
   },
   "file_extension": ".py",
   "mimetype": "text/x-python",
   "name": "python",
   "nbconvert_exporter": "python",
   "pygments_lexer": "ipython3",
   "version": "3.12.4"
  }
 },
 "nbformat": 4,
 "nbformat_minor": 5
}
