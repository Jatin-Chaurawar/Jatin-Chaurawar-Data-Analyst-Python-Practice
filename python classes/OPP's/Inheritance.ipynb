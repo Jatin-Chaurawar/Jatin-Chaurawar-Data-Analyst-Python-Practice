{
 "cells": [
  {
   "cell_type": "code",
   "execution_count": 4,
   "id": "3f51f4da-4d30-4f2c-b7d0-47d0fe2bc93a",
   "metadata": {},
   "outputs": [
    {
     "name": "stdout",
     "output_type": "stream",
     "text": [
      "Tejas Jaiswal\n"
     ]
    }
   ],
   "source": [
    "class Person:\n",
    "    def __init__(self,firstname,lastname):\n",
    "        self.firstname=firstname\n",
    "        self.lastname=lastname\n",
    "    def printname(self):\n",
    "        print(self.firstname,self.lastname)\n",
    "x=Person(\"Tejas\",\"Jaiswal\")\n",
    "x.printname()"
   ]
  },
  {
   "cell_type": "code",
   "execution_count": 10,
   "id": "54e31032-c51d-49b0-b607-bddf3975ea04",
   "metadata": {},
   "outputs": [
    {
     "name": "stdout",
     "output_type": "stream",
     "text": [
      "Milind Raut\n"
     ]
    }
   ],
   "source": [
    "# Creating a child class from parent class\n",
    "class Person:\n",
    "    def __init__(self,firstname,lastname):\n",
    "        self.firstname=firstname\n",
    "        self.lastname=lastname\n",
    "    def printname(self):\n",
    "        print(self.firstname,self.lastname)\n",
    "#creating a child class \n",
    "class Student(Person):\n",
    "    pass\n",
    "x=Person(\"Milind\",\"Raut\")\n",
    "x.printname()"
   ]
  },
  {
   "cell_type": "code",
   "execution_count": 12,
   "id": "163fa5ef-f636-4a17-a38e-0f2db84ccac6",
   "metadata": {},
   "outputs": [
    {
     "name": "stdout",
     "output_type": "stream",
     "text": [
      "shruti punekar\n",
      "shruti punekar\n"
     ]
    }
   ],
   "source": [
    "# Creating a child class from parent class\n",
    "class Person:\n",
    "    def __init__(self,firstname,lastname):\n",
    "        self.firstname=firstname\n",
    "        self.lastname=lastname\n",
    "    def printname(self):\n",
    "        print(self.firstname,self.lastname)\n",
    "# creating a child class with default constructor\n",
    "class Student(Person):\n",
    "    def print(self):\n",
    "        print(self.firstname,self.lastname)\n",
    "x=Student(\"shruti\",\"punekar\")\n",
    "x.printname()\n",
    "x.print()"
   ]
  },
  {
   "cell_type": "code",
   "execution_count": null,
   "id": "1dc08ec8-c603-48b4-9ed1-8cb4b7054470",
   "metadata": {},
   "outputs": [],
   "source": [
    "# Creating a child class from parent class\n",
    "class Person:\n",
    "    def __init__(self,firstname,lastname):\n",
    "        self.firstname=firstname\n",
    "        self.lastname=lastname\n",
    "    def printname(self):\n",
    "        print(self.firstname,self.lastname)\n",
    "class Student(Person):\n",
    "    def __init__(self,firstname,lastname,milddlename):\n",
    "        self.middlename=middlename\n",
    "    def print(self):\n",
    "        print(self.firstname,self.middlename,self.lastname)\n",
    "x=Student(\"Rashmi\",\"Naveen\",\"Joshi\")\n",
    "x.print()"
   ]
  },
  {
   "cell_type": "code",
   "execution_count": 22,
   "id": "5aa17368-7f1c-4a1c-8cb4-8e765cab980f",
   "metadata": {},
   "outputs": [
    {
     "name": "stdout",
     "output_type": "stream",
     "text": [
      "Rashmi Joshi Naveen\n",
      "Rashmi Naveen\n"
     ]
    }
   ],
   "source": [
    "# Creating a child class from parent class\n",
    "class Person:\n",
    "    def __init__(self,firstname,lastname):\n",
    "        self.firstname=firstname\n",
    "        self.lastname=lastname\n",
    "    def printname(self):\n",
    "        print(self.firstname,self.lastname)\n",
    "#creating a child class with paramaterized constructor\n",
    "class Student(Person):\n",
    "    def __init__(self,firstname,lastname,middlename):\n",
    "        Person.__init__(self,firstname,lastname)#adding parent class name\n",
    "        self.middlename=middlename\n",
    "    def printing(self):\n",
    "        print(self.firstname,self.middlename,self.lastname)\n",
    "x=Student(\"Rashmi\",\"Naveen\",\"Joshi\")\n",
    "x.printing()\n",
    "x.printname()"
   ]
  },
  {
   "cell_type": "code",
   "execution_count": 26,
   "id": "fdbe41c6-9ad9-448c-aef6-17f932fa0f9e",
   "metadata": {},
   "outputs": [
    {
     "name": "stdout",
     "output_type": "stream",
     "text": [
      "Rashmi Joshi Naveen\n",
      "Rashmi Naveen\n"
     ]
    }
   ],
   "source": [
    "# Creating a child class from parent class\n",
    "class Person:\n",
    "    def __init__(self,firstname,lastname):\n",
    "        self.firstname=firstname\n",
    "        self.lastname=lastname\n",
    "    def printname(self):\n",
    "        print(self.firstname,self.lastname)\n",
    "#creating a child class with paramaterized constructor\n",
    "class Student(Person):\n",
    "    def __init__(self,firstname,lastname,middlename):\n",
    "        super().__init__(firstname,lastname)#adding parent class name\n",
    "        self.middlename=middlename\n",
    "    def printing(self):\n",
    "        print(self.firstname,self.middlename,self.lastname)\n",
    "x=Student(\"Rashmi\",\"Naveen\",\"Joshi\")\n",
    "x.printing()\n",
    "x.printname()"
   ]
  },
  {
   "cell_type": "code",
   "execution_count": null,
   "id": "f7b275a9-fa37-4d86-a582-a862dd9db9ef",
   "metadata": {},
   "outputs": [],
   "source": []
  }
 ],
 "metadata": {
  "kernelspec": {
   "display_name": "Python 3 (ipykernel)",
   "language": "python",
   "name": "python3"
  },
  "language_info": {
   "codemirror_mode": {
    "name": "ipython",
    "version": 3
   },
   "file_extension": ".py",
   "mimetype": "text/x-python",
   "name": "python",
   "nbconvert_exporter": "python",
   "pygments_lexer": "ipython3",
   "version": "3.12.4"
  }
 },
 "nbformat": 4,
 "nbformat_minor": 5
}
