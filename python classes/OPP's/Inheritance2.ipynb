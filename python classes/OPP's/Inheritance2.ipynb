{
 "cells": [
  {
   "cell_type": "code",
   "execution_count": 3,
   "id": "859a751f-43e6-482b-aee0-dcc6b70a8eaf",
   "metadata": {},
   "outputs": [
    {
     "name": "stdout",
     "output_type": "stream",
     "text": [
      "My vehicle Details are  Hyundai 2019\n",
      "My Car details are  Red 19 Jul 2022\n"
     ]
    }
   ],
   "source": [
    "#example of single inheritance\n",
    "#base\n",
    "class Vehicle:\n",
    "    def __init__(self,companyname,year):\n",
    "        self.companyname=companyname\n",
    "        self.year=year\n",
    "    def Vehicle_info(self):\n",
    "        print(\"My vehicle Details are \",self.companyname,self.year)\n",
    "#child \n",
    "class Car(Vehicle):\n",
    "    def __init__(self,companyname,year,carcolor,purchasedate):\n",
    "        super().__init__(companyname,year)\n",
    "        self.carcolor=carcolor\n",
    "        self.purchasedate=purchasedate\n",
    "    def car_info(self):\n",
    "        print(\"My Car details are \",self.carcolor,self.purchasedate)\n",
    "accent=Car(\"Hyundai\",2019,\"Red\",\"19 Jul 2022\")\n",
    "accent.Vehicle_info()\n",
    "accent.car_info()"
   ]
  },
  {
   "cell_type": "code",
   "execution_count": 19,
   "id": "62e6f724-cae4-4976-9005-9cc0d99a19d7",
   "metadata": {},
   "outputs": [
    {
     "ename": "TypeError",
     "evalue": "Car.__init__() missing 4 required positional arguments: 'companyname', 'year', 'carcolor', and 'purchasedate'",
     "output_type": "error",
     "traceback": [
      "\u001b[1;31m---------------------------------------------------------------------------\u001b[0m",
      "\u001b[1;31mTypeError\u001b[0m                                 Traceback (most recent call last)",
      "Cell \u001b[1;32mIn[19], line 18\u001b[0m\n\u001b[0;32m     16\u001b[0m         \u001b[38;5;28mprint\u001b[39m(\u001b[38;5;124m\"\u001b[39m\u001b[38;5;124mMy car details are:\u001b[39m\u001b[38;5;124m\"\u001b[39m, \u001b[38;5;28mself\u001b[39m\u001b[38;5;241m.\u001b[39mcarcolor, \u001b[38;5;28mself\u001b[39m\u001b[38;5;241m.\u001b[39mpurchasedate)  \n\u001b[0;32m     17\u001b[0m \u001b[38;5;66;03m# Creating an instance of Car using default arguments  \u001b[39;00m\n\u001b[1;32m---> 18\u001b[0m default_accent \u001b[38;5;241m=\u001b[39m Car()  \n\u001b[0;32m     19\u001b[0m \u001b[38;5;66;03m# Creating an instance of Car with specific attributes  \u001b[39;00m\n\u001b[0;32m     20\u001b[0m specific_accent \u001b[38;5;241m=\u001b[39m Car(\u001b[38;5;124m\"\u001b[39m\u001b[38;5;124mHyundai\u001b[39m\u001b[38;5;124m\"\u001b[39m, \u001b[38;5;241m2019\u001b[39m, \u001b[38;5;124m\"\u001b[39m\u001b[38;5;124mRed\u001b[39m\u001b[38;5;124m\"\u001b[39m, \u001b[38;5;124m\"\u001b[39m\u001b[38;5;124m19 Jul 2022\u001b[39m\u001b[38;5;124m\"\u001b[39m)  \n",
      "\u001b[1;31mTypeError\u001b[0m: Car.__init__() missing 4 required positional arguments: 'companyname', 'year', 'carcolor', and 'purchasedate'"
     ]
    }
   ],
   "source": [
    "# Example of single inheritance with default constructor  \n",
    "# Base class  \n",
    "class Vehicle:  \n",
    "    def __init__(self, companyname, year):  \n",
    "        self.companyname = companyname  \n",
    "        self.year = year  \n",
    "    def Vehicle_info(self):  \n",
    "        print(\"My vehicle details are:\", self.companyname, self.year)  \n",
    "# Child class  \n",
    "class Car(Vehicle):  \n",
    "    def __init__(self, companyname, year, carcolor, purchasedate):  \n",
    "        super().__init__(companyname, year)  \n",
    "        self.carcolor = carcolor  \n",
    "        self.purchasedate = purchasedate  \n",
    "    def car_info(self):  \n",
    "        print(\"My car details are:\", self.carcolor, self.purchasedate)  \n",
    "# Creating an instance of Car using default arguments  \n",
    "default_accent = Car()  \n",
    "# Creating an instance of Car with specific attributes  \n",
    "specific_accent = Car(\"Hyundai\", 2019, \"Red\", \"19 Jul 2022\")  \n",
    "# Accessing methods of both Vehicle and Car classes for default instance  \n",
    "accent.Vehicle_info()  \n",
    "accent.car_info()  \n"
   ]
  },
  {
   "cell_type": "code",
   "execution_count": 4,
   "id": "41204a1b-b947-46b3-a26e-dc6740c815e6",
   "metadata": {},
   "outputs": [
    {
     "name": "stdout",
     "output_type": "stream",
     "text": [
      "Inside the class\n",
      "Name: Madhu Age: 28\n",
      "Inside Company Class\n",
      "Name: IBM Location: Pune\n",
      "Inside Employee Class\n",
      "Salarry: 92000 Skill: Python\n"
     ]
    }
   ],
   "source": [
    "#multiple\n",
    "class Person:\n",
    "    def person_info(self,name,age):\n",
    "        print(\"Inside the class\")\n",
    "        print(\"Name:\",name,\"Age:\",age)\n",
    "class Company:\n",
    "    def company_info(self,company_name,location):\n",
    "        print(\"Inside Company Class\")\n",
    "        print(\"Name:\",company_name,\"Location:\",location)\n",
    "class Employee(Person,Company):\n",
    "    def employee_info(self,salary,skill):\n",
    "        print(\"Inside Employee Class\")\n",
    "        print(\"Salarry:\",salary,\"Skill:\",skill)\n",
    "emp=Employee()\n",
    "emp.person_info('Madhu',28)\n",
    "emp.company_info(\"IBM\",\"Pune\")\n",
    "emp.employee_info(92000,\"Python\")"
   ]
  },
  {
   "cell_type": "code",
   "execution_count": 10,
   "id": "664f4e92-0181-47ed-89ff-eaf9aeab2607",
   "metadata": {},
   "outputs": [
    {
     "name": "stdout",
     "output_type": "stream",
     "text": [
      "My Vehicle Details are  Bayerische Mortoren Werke AG 2019\n",
      "My Car Details are Red 17th June 2022\n",
      "My Luxury Car is BMW Alpina\n"
     ]
    }
   ],
   "source": [
    "#multilevel\n",
    "class Vehicle:\n",
    "    def __init__(self,companyname,year):\n",
    "        self.companyname=companyname\n",
    "        self.year=year\n",
    "    def Vehicle_info(self):\n",
    "        print(\"My Vehicle Details are \",self.companyname,self.year)\n",
    "#derive class 1\n",
    "class Car(Vehicle):\n",
    "    def __init__(self,companyname,year,carcolor,purchasedate):\n",
    "        super().__init__(companyname,year)\n",
    "        self.carcolor=carcolor\n",
    "        self.purchasedate=purchasedate\n",
    "    def car_info(self):\n",
    "        print(\"My Car Details are\",self.carcolor,self.purchasedate)\n",
    "#derive class 2\n",
    "class LuxuryCar(Car):\n",
    "    def __init__(self,companyname,year,carcolor,purchasedate,carname):\n",
    "        Car.__init__(self,companyname,year,carcolor,purchasedate)\n",
    "        self.carname=carname\n",
    "    def luxury_info(self):\n",
    "        print(\"My Luxury Car is\",self.carname)\n",
    "#object\n",
    "car1=LuxuryCar(\"Bayerische Mortoren Werke AG\",2019,\"Red\",\"17th June 2022\",\"BMW Alpina\")\n",
    "car1.Vehicle_info()\n",
    "car1.car_info()\n",
    "car1.luxury_info()"
   ]
  },
  {
   "cell_type": "code",
   "execution_count": 14,
   "id": "01a481ed-3521-4c40-bc83-3ef566a6061d",
   "metadata": {},
   "outputs": [
    {
     "name": "stdout",
     "output_type": "stream",
     "text": [
      "Vehicle is from the company BMW\n",
      "My Car name is: BMW i\n",
      "Vehicle is from the company BMW\n",
      "My Truck name is: Ford\n"
     ]
    }
   ],
   "source": [
    "#hirechecal\n",
    "class Vehicle:\n",
    "    def info(self,companyname):\n",
    "        print(\"Vehicle is from the company\",companyname)\n",
    "#child 1\n",
    "class Car(Vehicle):\n",
    "    def car_info(self,name):\n",
    "        print(\"My Car name is:\",name)\n",
    "#child 2\n",
    "class Truck(Vehicle):\n",
    "    def truck_info(self,name):\n",
    "        print(\"My Truck name is:\",name)\n",
    "obj1=Car()\n",
    "obj1.info(\"BMW\")\n",
    "obj1.car_info(\"BMW i\")\n",
    "obj2=Truck()\n",
    "obj2.info(\"BMW\")\n",
    "obj2.truck_info(\"Ford\")"
   ]
  },
  {
   "cell_type": "code",
   "execution_count": 7,
   "id": "07e8b89a-f119-4f56-bf42-134473e1052f",
   "metadata": {},
   "outputs": [
    {
     "name": "stdout",
     "output_type": "stream",
     "text": [
      "MY name is Jatin\n",
      "MY id is 1\n",
      "My middle name is Chetan\n",
      "MY area is Patil Layout\n",
      "My last name is Chaurawar\n",
      "MY city is Nagpur\n",
      "My pincode is 440022\n",
      "My state is Maharashtra\n",
      "My country is India\n"
     ]
    }
   ],
   "source": [
    "class A:\n",
    "    def a_info(self,name,id):\n",
    "        print(\"MY name is\",name)\n",
    "        print(\"MY id is\",id)\n",
    "#child 1\n",
    "class B(A):\n",
    "    def b_info(self,mname,area):\n",
    "        print(\"My middle name is\",mname)\n",
    "        print(\"MY area is\",area)\n",
    "#child 2\n",
    "class C(A):\n",
    "    def c_info(self,lname,city):\n",
    "        print(\"My last name is\",lname)\n",
    "        print(\"MY city is\",city)\n",
    "class D(A):\n",
    "    def d_info(self,pincode):\n",
    "        print(\"My pincode is\",pincode)\n",
    "class E(B,C):\n",
    "    def e_info(self,state):\n",
    "        print(\"My state is\",state)\n",
    "class F(D,E):\n",
    "    def f_info(self,country):\n",
    "        print(\"My country is\",country)\n",
    "obj1=F()\n",
    "obj1.a_info(\"Jatin\",1)\n",
    "obj1.b_info(\"Chetan\",\"Patil Layout\")\n",
    "obj1.c_info(\"Chaurawar\",\"Nagpur\")\n",
    "obj1.d_info(440022)\n",
    "obj1.e_info(\"Maharashtra\")\n",
    "obj1.f_info(\"India\")\n",
    "\n",
    "        "
   ]
  },
  {
   "cell_type": "code",
   "execution_count": 6,
   "id": "8af52c9e-0774-48f8-8960-61a0a000ea1c",
   "metadata": {},
   "outputs": [
    {
     "name": "stdout",
     "output_type": "stream",
     "text": [
      "My name is Jatin\n",
      "My id is 1\n",
      "My last name is Chaurawar\n",
      "My city is Nagpur\n",
      "My middle name is Chetan\n",
      "My area is Patil Layout\n",
      "My state is Maharashtra\n",
      "My pincode is 440022\n",
      "My country is India\n"
     ]
    }
   ],
   "source": [
    "class A:\n",
    "    def __init__(self, name, id, **kwargs):\n",
    "        super().__init__(**kwargs)\n",
    "        self.name = name\n",
    "        self.id = id\n",
    "        print(\"My name is\", self.name)\n",
    "        print(\"My id is\", self.id)\n",
    "class B(A):\n",
    "    def __init__(self, mname, area, **kwargs):\n",
    "        super().__init__(**kwargs)\n",
    "        self.mname = mname\n",
    "        self.area = area\n",
    "        print(\"My middle name is\", self.mname)\n",
    "        print(\"My area is\", self.area)\n",
    "class C(A):\n",
    "    def __init__(self, lname, city, **kwargs):\n",
    "        super().__init__(**kwargs)\n",
    "        self.lname = lname\n",
    "        self.city = city\n",
    "        print(\"My last name is\", self.lname)\n",
    "        print(\"My city is\", self.city)\n",
    "class D(A):\n",
    "    def __init__(self, pincode, **kwargs):\n",
    "        super().__init__(**kwargs)\n",
    "        self.pincode = pincode\n",
    "        print(\"My pincode is\", self.pincode)\n",
    "class E(B, C):\n",
    "    def __init__(self, state, **kwargs):\n",
    "        super().__init__(**kwargs)\n",
    "        self.state = state\n",
    "        print(\"My state is\", self.state)\n",
    "class F(D, E):\n",
    "    def __init__(self, country, **kwargs):\n",
    "        super().__init__(**kwargs)\n",
    "        self.country = country\n",
    "        print(\"My country is\", self.country)\n",
    "obj1 = F(\n",
    "    name=\"Jatin\",\n",
    "    id=1,\n",
    "    mname=\"Chetan\",\n",
    "    area=\"Patil Layout\",\n",
    "    lname=\"Chaurawar\",\n",
    "    city=\"Nagpur\",\n",
    "    pincode=440022,\n",
    "    state=\"Maharashtra\",\n",
    "    country=\"India\"\n",
    ")"
   ]
  }
 ],
 "metadata": {
  "kernelspec": {
   "display_name": "Python 3 (ipykernel)",
   "language": "python",
   "name": "python3"
  },
  "language_info": {
   "codemirror_mode": {
    "name": "ipython",
    "version": 3
   },
   "file_extension": ".py",
   "mimetype": "text/x-python",
   "name": "python",
   "nbconvert_exporter": "python",
   "pygments_lexer": "ipython3",
   "version": "3.12.4"
  }
 },
 "nbformat": 4,
 "nbformat_minor": 5
}
