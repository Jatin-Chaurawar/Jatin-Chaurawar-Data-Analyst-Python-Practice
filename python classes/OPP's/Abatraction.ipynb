{
 "cells": [
  {
   "cell_type": "code",
   "execution_count": 1,
   "id": "ef0221ca-7c37-4f23-8a5e-fc454ab4bb50",
   "metadata": {},
   "outputs": [
    {
     "name": "stdout",
     "output_type": "stream",
     "text": [
      "The mileage is 30kmph\n",
      "The mileage is 25kmph\n",
      "The mileage is 24kmph\n"
     ]
    }
   ],
   "source": [
    "#Python program to show data abstraction in child class\n",
    "from abc import ABC\n",
    "class Car(ABC):\n",
    "    def mileage(self):\n",
    "        pass\n",
    "class Tesla(Car):\n",
    "    def mileage(self):\n",
    "        print(\"The mileage is 30kmph\")\n",
    "class Suzuki(Car):\n",
    "    def mileage(self):\n",
    "        print(\"The mileage is 25kmph\")\n",
    "class Duster(Car):\n",
    "    def mileage(self):\n",
    "        print(\"The mileage is 24kmph\")\n",
    "t=Tesla()\n",
    "s=Suzuki()\n",
    "d=Duster()\n",
    "t.mileage()\n",
    "s.mileage()\n",
    "d.mileage()"
   ]
  },
  {
   "cell_type": "code",
   "execution_count": 9,
   "id": "c8225df7-fdf9-4f41-986c-4f330dea63f7",
   "metadata": {},
   "outputs": [
    {
     "name": "stdout",
     "output_type": "stream",
     "text": [
      "Book:1984 by Gorge Orwell\n",
      "Reading 1984 by Gorge Orwell\n",
      "Movie: Inception directed by Chreistopher Nolan\n",
      "Movie Inception directed by Chreistopher Nolan\n"
     ]
    }
   ],
   "source": [
    "from abc import ABC \n",
    "class Media(ABC):\n",
    "    def get_info(self):\n",
    "        pass\n",
    "    def play(self):\n",
    "        pass\n",
    "#concrete class for book\n",
    "class Book(Media):\n",
    "    def __init__(self,title,author):\n",
    "        self.title=title\n",
    "        self.author=author\n",
    "    def get_info(self):\n",
    "        return f\"Book:{self.title} by {self.author}\"\n",
    "    def play(self):\n",
    "        print(f\"Reading {self.title} by {self.author}\")\n",
    "\n",
    "\n",
    "class Movie(Media):\n",
    "    def __init__(self,title,director):\n",
    "        self.title=title\n",
    "        self.director=director\n",
    "    def get_info(self):\n",
    "        return f\"Movie: {self.title} directed by {self.director}\"\n",
    "    def play(self):\n",
    "        print(f\"Movie {self.title} directed by {self.director}\")\n",
    "\n",
    "b=Book(\"1984\",\"Gorge Orwell\")\n",
    "m=Movie(\"Inception\",\"Chreistopher Nolan\")\n",
    "print(b.get_info())\n",
    "b.play()\n",
    "print(m.get_info())\n",
    "m.play()"
   ]
  },
  {
   "cell_type": "code",
   "execution_count": null,
   "id": "e6319234-a0c2-4764-987f-404c456ce18a",
   "metadata": {},
   "outputs": [],
   "source": []
  }
 ],
 "metadata": {
  "kernelspec": {
   "display_name": "Python 3 (ipykernel)",
   "language": "python",
   "name": "python3"
  },
  "language_info": {
   "codemirror_mode": {
    "name": "ipython",
    "version": 3
   },
   "file_extension": ".py",
   "mimetype": "text/x-python",
   "name": "python",
   "nbconvert_exporter": "python",
   "pygments_lexer": "ipython3",
   "version": "3.12.4"
  }
 },
 "nbformat": 4,
 "nbformat_minor": 5
}
