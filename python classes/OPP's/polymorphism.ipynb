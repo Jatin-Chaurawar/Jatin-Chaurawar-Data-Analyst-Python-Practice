{
 "cells": [
  {
   "cell_type": "code",
   "execution_count": 7,
   "id": "0978e9f1-ed24-428f-9ed2-61f4d948a9fb",
   "metadata": {},
   "outputs": [
    {
     "name": "stdout",
     "output_type": "stream",
     "text": [
      "Details: Car x1 Red 20000\n",
      "Car max speed id 240\n",
      "Car change 7 Gear\n",
      "Details: Truck x1 White 75000\n",
      "Vehicle max speed is 150\n",
      "Vehicle change 6 gear\n"
     ]
    }
   ],
   "source": [
    "#polymorphism with inheritance\n",
    "class Vehicle:\n",
    "    def __init__(self,name ,color,price):\n",
    "        self.name=name\n",
    "        self.color=color\n",
    "        self.price=price\n",
    "    def show(self):\n",
    "        print('Details:',self.name,self.color,self.price)\n",
    "    def max_speed(self):\n",
    "        print(\"Vehicle max speed is 150\")\n",
    "    def change_gear(self):\n",
    "        print(\"Vehicle change 6 gear\")\n",
    "#child \n",
    "class Car(Vehicle):\n",
    "    def max_speed(self):\n",
    "        print(\"Car max speed id 240\")\n",
    "    def change_gear(self):\n",
    "        print(\"Car change 7 Gear\")\n",
    "#car object\n",
    "c1=Car('Car x1','Red',20000)\n",
    "c1.show()\n",
    "c1.max_speed()\n",
    "c1.change_gear()\n",
    "v1=Vehicle('Truck x1','White',75000)\n",
    "v1.show()\n",
    "v1.max_speed()\n",
    "v1.change_gear()"
   ]
  },
  {
   "cell_type": "code",
   "execution_count": 11,
   "id": "74b99d68-4b26-4257-b7b3-23b2e6fb1a10",
   "metadata": {},
   "outputs": [
    {
     "name": "stdout",
     "output_type": "stream",
     "text": [
      "Petrol\n",
      "Speed is 240\n",
      "Diseal\n",
      "Speed is 350\n"
     ]
    }
   ],
   "source": [
    "#ploymorphism in class methods\n",
    "class Hyundai:\n",
    "    def fuel_type(self):\n",
    "        print(\"Petrol\")\n",
    "    def max_speed(self):\n",
    "        print(\"Speed is 240\")\n",
    "class BMW:\n",
    "    def fuel_type(self):\n",
    "        print(\"Diseal\")\n",
    "    def max_speed(self):\n",
    "       print(\"Speed is 350\") \n",
    "h1=Hyundai()\n",
    "b1=BMW()\n",
    "for car in (h1,b1):\n",
    "    car.fuel_type()\n",
    "    car.max_speed()"
   ]
  },
  {
   "cell_type": "code",
   "execution_count": 15,
   "id": "3b6aacb9-720c-44d7-a6ae-f53d77398952",
   "metadata": {},
   "outputs": [
    {
     "name": "stdout",
     "output_type": "stream",
     "text": [
      "Petrol\n",
      "Max Speed is 350\n",
      "Diseal\n",
      "Max Speed is 240\n"
     ]
    }
   ],
   "source": [
    "#ploymorphism in class methods\n",
    "#class 1\n",
    "class Hyundai:\n",
    "    def fuel_type(self):\n",
    "        print(\"Petrol\")\n",
    "    def max_speed(self):\n",
    "        print(\"Max Speed is 350\")\n",
    "#class 2\n",
    "class BMW:\n",
    "    def fuel_type(self):\n",
    "        print(\"Diseal\")\n",
    "    def max_speed(self):\n",
    "       print(\"Max Speed is 240\") \n",
    "def car_details(call):\n",
    "    call.fuel_type()\n",
    "    call.max_speed()\n",
    "h1=Hyundai()\n",
    "b1=BMW()\n",
    "car_details(h1)\n",
    "car_details(b1)\n"
   ]
  },
  {
   "cell_type": "code",
   "execution_count": 19,
   "id": "63a548c9-ec00-40fa-bd95-21f36b2bb7ef",
   "metadata": {},
   "outputs": [
    {
     "name": "stdout",
     "output_type": "stream",
     "text": [
      "The sum is: 24\n"
     ]
    }
   ],
   "source": [
    "#method overriding \n",
    "class Maths:\n",
    "    def sum(self,a,b):\n",
    "        print(\"The sum is:\",a+b)\n",
    "    def sum(self,a,b,c):\n",
    "        print(\"The sum is:\",a+b+c)\n",
    "m1=Maths()\n",
    "#the below line show an error\n",
    "#m1.sum(2,20)\n",
    "#this line will call thesecond product method\n",
    "m1.sum(2,10,12)"
   ]
  },
  {
   "cell_type": "code",
   "execution_count": null,
   "id": "93814591-b95e-4abc-9f7d-a5bf95916c82",
   "metadata": {},
   "outputs": [],
   "source": []
  }
 ],
 "metadata": {
  "kernelspec": {
   "display_name": "Python 3 (ipykernel)",
   "language": "python",
   "name": "python3"
  },
  "language_info": {
   "codemirror_mode": {
    "name": "ipython",
    "version": 3
   },
   "file_extension": ".py",
   "mimetype": "text/x-python",
   "name": "python",
   "nbconvert_exporter": "python",
   "pygments_lexer": "ipython3",
   "version": "3.12.4"
  }
 },
 "nbformat": 4,
 "nbformat_minor": 5
}
