{
 "cells": [
  {
   "cell_type": "code",
   "execution_count": 6,
   "id": "3b15162a-98d9-4ebd-8df4-22a7eb1306aa",
   "metadata": {},
   "outputs": [
    {
     "name": "stdout",
     "output_type": "stream",
     "text": [
      "Hello\n"
     ]
    }
   ],
   "source": [
    "# Defining a function\n",
    "def my_function():\n",
    "    print(\"Hello\")\n",
    "my_function()"
   ]
  },
  {
   "cell_type": "code",
   "execution_count": 10,
   "id": "7db1205f-9f9f-4642-aa29-d6768e114801",
   "metadata": {},
   "outputs": [
    {
     "name": "stdout",
     "output_type": "stream",
     "text": [
      "Hello,Rashmi!\n",
      "Hi,Rashmi!\n"
     ]
    }
   ],
   "source": [
    "#using default argument\n",
    "def greet(name,greeting=\"Hello\"):\n",
    "    print(f\"{greeting},{name}!\")\n",
    "greet(\"Rashmi\")\n",
    "greet(\"Rashmi\",\"Hi\")"
   ]
  },
  {
   "cell_type": "code",
   "execution_count": 12,
   "id": "a233ce01-bb0f-4441-a549-92bd821619f0",
   "metadata": {},
   "outputs": [
    {
     "name": "stdout",
     "output_type": "stream",
     "text": [
      "8\n"
     ]
    }
   ],
   "source": [
    "# using require arguments\n",
    "def add_number(a,b):\n",
    "    return a+b\n",
    "# calling with require arguments\n",
    "result=add_number(3,5)\n",
    "print(result)\n",
    "# Uncommenting the line below would result in a typeerror\n",
    "#result=add_number(3)\n",
    "#"
   ]
  },
  {
   "cell_type": "code",
   "execution_count": 18,
   "id": "927df1d0-34c0-4f06-9ad6-304dfd435886",
   "metadata": {},
   "outputs": [
    {
     "name": "stdout",
     "output_type": "stream",
     "text": [
      "Name:Rashmi,Age:40,Genderfemale\n",
      "Name:Riya,Age:35,Genderfemale\n"
     ]
    }
   ],
   "source": [
    "#using keyword arguments\n",
    "def student_info(name,age,gender):\n",
    "    print(f\"Name:{name},Age:{age},Gender{gender}\")\n",
    "student_info(name=\"Rashmi\",age=40,gender=\"female\")\n",
    "student_info(age=35,gender=\"female\",name=\"Riya\")"
   ]
  },
  {
   "cell_type": "code",
   "execution_count": 20,
   "id": "4c98a44a-0564-4b30-bead-046fffde5692",
   "metadata": {},
   "outputs": [
    {
     "name": "stdout",
     "output_type": "stream",
     "text": [
      "2+3=5\n"
     ]
    }
   ],
   "source": [
    "def sum(a,b):\n",
    "    print(f\"{a}+{b}={a+b}\")\n",
    "sum(2,3)"
   ]
  },
  {
   "cell_type": "code",
   "execution_count": 22,
   "id": "756741dd-a0ff-4081-9f42-9c1ad268c61c",
   "metadata": {},
   "outputs": [
    {
     "name": "stdout",
     "output_type": "stream",
     "text": [
      "The area of the circle is: 50.264\n",
      "\n",
      "    We are calculating the are of circle.\n",
      "    Parameters:The radius of circle\n",
      "    returns:float:The area of circle.\n",
      "    \n"
     ]
    }
   ],
   "source": [
    "def calculate_area(radius):\n",
    "    '''\n",
    "    We are calculating the are of circle.\n",
    "    Parameters:The radius of circle\n",
    "    returns:float:The area of circle.\n",
    "    '''\n",
    "    pi=3.1415\n",
    "    area=pi*radius**2\n",
    "    return area \n",
    "a=calculate_area(4)\n",
    "print(\"The area of the circle is:\",a)\n",
    "print(calculate_area.__doc__)"
   ]
  },
  {
   "cell_type": "code",
   "execution_count": 24,
   "id": "cf90efdc-d4b9-4462-bfcd-9ccf6f8729da",
   "metadata": {},
   "outputs": [
    {
     "name": "stdout",
     "output_type": "stream",
     "text": [
      "Inside the function:\n",
      "Accessing Local variabe: 5\n",
      "Accessing Global variable 10\n",
      "Accessing Global variable 10\n"
     ]
    }
   ],
   "source": [
    "#global variable \n",
    "myvar=10\n",
    "def my_function():\n",
    "    #local variable\n",
    "    localvar=5\n",
    "    print(\"Inside the function:\")\n",
    "    print(\"Accessing Local variabe:\",localvar)\n",
    "    print(\"Accessing Global variable\",myvar)\n",
    "my_function()\n",
    "#print(\"Accessing Local variable:\",localvar)\n",
    "print(\"Accessing Global variable\",myvar)\n"
   ]
  },
  {
   "cell_type": "code",
   "execution_count": 6,
   "id": "589b4a0b-704e-4e61-bd40-4ee62d48eaed",
   "metadata": {},
   "outputs": [
    {
     "name": "stdout",
     "output_type": "stream",
     "text": [
      "5.0\n"
     ]
    }
   ],
   "source": [
    "def divide_or_square(number):\n",
    "    if number % 5==0:\n",
    "        sq_root=number**0.5\n",
    "        print(sq_root)\n",
    "    else:\n",
    "        remainder=number%5\n",
    "        print(remainder)\n",
    "div=divide_or_square(25)"
   ]
  },
  {
   "cell_type": "code",
   "execution_count": 8,
   "id": "278a20a3-a416-4f56-9fab-223b0cc78b13",
   "metadata": {},
   "outputs": [
    {
     "name": "stdout",
     "output_type": "stream",
     "text": [
      "apple\n"
     ]
    }
   ],
   "source": [
    "def longest_value(d:dict):\n",
    "    longest=max(d.values(),key=len)\n",
    "    return longest\n",
    "fruits={'fruit':'apple','colour':'green'}\n",
    "print(longest_value(fruits))"
   ]
  },
  {
   "cell_type": "code",
   "execution_count": 10,
   "id": "4552e456-e6c3-4cb8-9c66-6f5e90bf759b",
   "metadata": {},
   "outputs": [
    {
     "name": "stdout",
     "output_type": "stream",
     "text": [
      "9\n"
     ]
    }
   ],
   "source": [
    "def convert_add(a):\n",
    "    b=[]\n",
    "    for i in a:\n",
    "        b.append(int(i))\n",
    "    return sum(b)\n",
    "print(convert_add(['1','3','5']))"
   ]
  },
  {
   "cell_type": "code",
   "execution_count": 14,
   "id": "d47440a8-d904-49b8-9443-30668f53d3f9",
   "metadata": {},
   "outputs": [
    {
     "name": "stdout",
     "output_type": "stream",
     "text": [
      "Apple\n",
      "No Duplicates\n"
     ]
    }
   ],
   "source": [
    "def check_duplicates(a):\n",
    "    for x in a:\n",
    "        if a.count(x)>1:\n",
    "            return x\n",
    "        else:\n",
    "            return 'No Duplicates'\n",
    "fruits=['Apple','orange','Banana','Apple']\n",
    "names=['Kuniket','Rakesh','Mrudul','pushpak']\n",
    "print(check_duplicates(fruits))\n",
    "print(check_duplicates(names))\n"
   ]
  },
  {
   "cell_type": "code",
   "execution_count": 20,
   "id": "c5a42137-0769-4b2e-95ca-8357f16fae91",
   "metadata": {},
   "outputs": [
    {
     "name": "stdout",
     "output_type": "stream",
     "text": [
      "('Number of students in school is ', 3)\n"
     ]
    }
   ],
   "source": [
    "register={'sarthak':'yes','Harsh':'no','Saachi':'yes','Chanakshi':'yes'}\n",
    "def register_check(a):\n",
    "    count=0\n",
    "    for x in a.values():\n",
    "        if x=='yes':\n",
    "            count+=1\n",
    "    return 'Number of students in school is ',count \n",
    "print(register_check(register))"
   ]
  },
  {
   "cell_type": "code",
   "execution_count": 24,
   "id": "3c0e75e3-3b08-49dc-8066-b35b03c6eca9",
   "metadata": {},
   "outputs": [
    {
     "name": "stdout",
     "output_type": "stream",
     "text": [
      "('rakesh', 'pratham', 'madhu', 'kuniket')\n"
     ]
    }
   ],
   "source": [
    "def get_lower_sorted_tuple(names):\n",
    "    d=[]\n",
    "    for x in sorted(names,reverse=True):\n",
    "        if x.islower():\n",
    "            d.append(x)\n",
    "    mytuple=tuple(d)\n",
    "    return mytuple\n",
    "names=[\"kuniket\",\"madhu\",\"Shubham\",\"Pallavi\",\"pratham\",\"Pushpak\",\"rakesh\"]\n",
    "result=get_lower_sorted_tuple(names)\n",
    "print(result)"
   ]
  },
  {
   "cell_type": "code",
   "execution_count": null,
   "id": "e59601ad-1201-4e9b-a175-61a850be84cb",
   "metadata": {},
   "outputs": [],
   "source": [
    "def only_floats(a,b):\n",
    "    if x in a.digit(float):\n",
    "        print()"
   ]
  }
 ],
 "metadata": {
  "kernelspec": {
   "display_name": "Python 3 (ipykernel)",
   "language": "python",
   "name": "python3"
  },
  "language_info": {
   "codemirror_mode": {
    "name": "ipython",
    "version": 3
   },
   "file_extension": ".py",
   "mimetype": "text/x-python",
   "name": "python",
   "nbconvert_exporter": "python",
   "pygments_lexer": "ipython3",
   "version": "3.12.4"
  }
 },
 "nbformat": 4,
 "nbformat_minor": 5
}
