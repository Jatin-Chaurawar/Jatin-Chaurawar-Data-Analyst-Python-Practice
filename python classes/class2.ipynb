{
 "cells": [
  {
   "cell_type": "code",
   "execution_count": 2,
   "id": "699d5dd4-0020-4ff7-bf8a-81d44a67a15a",
   "metadata": {},
   "outputs": [
    {
     "name": "stdout",
     "output_type": "stream",
     "text": [
      "<class 'int'>\n"
     ]
    }
   ],
   "source": [
    "#integer \n",
    "a=10\n",
    "b=-20\n",
    "c=26475\n",
    "print(type(a))"
   ]
  },
  {
   "cell_type": "code",
   "execution_count": 4,
   "id": "8d3dc97e-ba71-4fe4-bec1-f6248c607755",
   "metadata": {},
   "outputs": [
    {
     "name": "stdout",
     "output_type": "stream",
     "text": [
      "<class 'float'>\n"
     ]
    }
   ],
   "source": [
    "#float | decimal\n",
    "a=2.5\n",
    "b=-6.45\n",
    "c=24553.23\n",
    "print(type(a))\n"
   ]
  },
  {
   "cell_type": "code",
   "execution_count": 6,
   "id": "c4a87302-7faf-4d89-811e-1e33c1bc50b6",
   "metadata": {},
   "outputs": [
    {
     "name": "stdout",
     "output_type": "stream",
     "text": [
      "<class 'complex'>\n"
     ]
    }
   ],
   "source": [
    "#complex \n",
    "a=2j\n",
    "b=-34j\n",
    "c=344j\n",
    "print(type(a))"
   ]
  },
  {
   "cell_type": "code",
   "execution_count": 10,
   "id": "7a7508f4-1e91-46cf-8721-458f7a5c8bd2",
   "metadata": {},
   "outputs": [
    {
     "name": "stdout",
     "output_type": "stream",
     "text": [
      "10 10 10.0 (10+0j)\n",
      "<class 'str'>\n",
      "<class 'int'>\n",
      "<class 'float'>\n",
      "<class 'complex'>\n"
     ]
    }
   ],
   "source": [
    "# python casting\n",
    "a=str(10)\n",
    "b=int(10)\n",
    "c=float(10)\n",
    "d=complex(10)\n",
    "print(a,b,c,d)\n",
    "print(type(a))\n",
    "print(type(b))\n",
    "print(type(c))\n",
    "print(type(d))"
   ]
  },
  {
   "cell_type": "code",
   "execution_count": 21,
   "id": "f7d687db-ed81-489d-aa91-0b29677d89ee",
   "metadata": {},
   "outputs": [
    {
     "name": "stdout",
     "output_type": "stream",
     "text": [
      "<class 'float'>\n",
      "10.0\n",
      "<class 'complex'>\n",
      "(10+0j)\n",
      "<class 'int'>\n",
      "34\n",
      "<class 'complex'>\n",
      "(34.4+0j)\n"
     ]
    },
    {
     "ename": "TypeError",
     "evalue": "int() argument must be a string, a bytes-like object or a real number, not 'complex'",
     "output_type": "error",
     "traceback": [
      "\u001b[1;31m---------------------------------------------------------------------------\u001b[0m",
      "\u001b[1;31mTypeError\u001b[0m                                 Traceback (most recent call last)",
      "Cell \u001b[1;32mIn[21], line 27\u001b[0m\n\u001b[0;32m     24\u001b[0m \u001b[38;5;28mprint\u001b[39m(g)\n\u001b[0;32m     26\u001b[0m \u001b[38;5;66;03m#convert complex to int\u001b[39;00m\n\u001b[1;32m---> 27\u001b[0m h\u001b[38;5;241m=\u001b[39m\u001b[38;5;28mint\u001b[39m(c)\n\u001b[0;32m     28\u001b[0m \u001b[38;5;28mprint\u001b[39m(\u001b[38;5;28mtype\u001b[39m(h))\n\u001b[0;32m     29\u001b[0m \u001b[38;5;28mprint\u001b[39m(h)\n",
      "\u001b[1;31mTypeError\u001b[0m: int() argument must be a string, a bytes-like object or a real number, not 'complex'"
     ]
    }
   ],
   "source": [
    "#type conversion\n",
    "a=10 #int \n",
    "b=34.40\n",
    "c=4j\n",
    "\n",
    "#convert int to float\n",
    "d=float(a)\n",
    "print(type(d))\n",
    "print(d)\n",
    "\n",
    "#convert int to complex\n",
    "e=complex(a)\n",
    "print(type(e))\n",
    "print(e)\n",
    "\n",
    "#convert float to int\n",
    "f=int(b)\n",
    "print(type(f))\n",
    "print(f)\n",
    "\n",
    "#convert float to complex\n",
    "g=complex(b)\n",
    "print(type(g))\n",
    "print(g)\n",
    "\n",
    "#convert complex to int\n",
    "h=int(c)\n",
    "print(type(h))\n",
    "print(h)"
   ]
  },
  {
   "cell_type": "code",
   "execution_count": 25,
   "id": "82deb7a5-ba2b-4f81-9e13-7269cf70d1d9",
   "metadata": {},
   "outputs": [
    {
     "name": "stdout",
     "output_type": "stream",
     "text": [
      "12\n",
      "8\n",
      "20\n",
      "5.0\n",
      "5\n",
      "0\n",
      "100\n"
     ]
    }
   ],
   "source": [
    "# learning arithmetic operation\n",
    "a=10\n",
    "b=2\n",
    "print(a+b) #additon\n",
    "print(a-b) #SUBSTRACTTION\n",
    "print(a*b) #multiplication\n",
    "print(a/b) #division\n",
    "print(a//b)#floor division\n",
    "print(a%b) #modulus\n",
    "print(a**b) #exponentiation"
   ]
  },
  {
   "cell_type": "code",
   "execution_count": 29,
   "id": "7787bd2c-4a3f-4331-be8d-41b2e93c23f7",
   "metadata": {},
   "outputs": [
    {
     "name": "stdout",
     "output_type": "stream",
     "text": [
      "6\n",
      "5\n",
      "5\n",
      "5.0\n",
      "5.0\n",
      "0.0\n",
      "0.0\n"
     ]
    }
   ],
   "source": [
    "#learning assignment operator \n",
    "a=5\n",
    "a+=1\n",
    "print(a) #additon\n",
    "\n",
    "a-=1\n",
    "print(a)#substraction\n",
    "\n",
    "a*=1\n",
    "print(a)#multiplication\n",
    "\n",
    "a/=1\n",
    "print(a)#division \n",
    "\n",
    "a//=1\n",
    "print(a)#floor division \n",
    "\n",
    "a%=1\n",
    "print(a)#modulus\n",
    "\n",
    "a**=1\n",
    "print(a)#eponentiation"
   ]
  },
  {
   "cell_type": "code",
   "execution_count": 31,
   "id": "3f42052d-8668-4c4e-829c-4e932a2b2e51",
   "metadata": {},
   "outputs": [
    {
     "name": "stdout",
     "output_type": "stream",
     "text": [
      "False\n",
      "True\n",
      "True\n",
      "True\n",
      "False\n",
      "False\n"
     ]
    }
   ],
   "source": [
    "#learning comparision operator \n",
    "a=10\n",
    "b=20\n",
    "print(a==b) #equal to\n",
    "print(a!=b) #not equal to\n",
    "print(a<b) # less than\n",
    "print(a<=b) # lessthan equal to \n",
    "print(a>b) #greater thsn\n",
    "print(a>=b) #greater than equal to"
   ]
  },
  {
   "cell_type": "code",
   "execution_count": 33,
   "id": "48ef2d05-5411-4104-81e0-fc0071afeccc",
   "metadata": {},
   "outputs": [
    {
     "name": "stdout",
     "output_type": "stream",
     "text": [
      "False\n",
      "True\n",
      "True\n",
      "False\n"
     ]
    }
   ],
   "source": [
    "#learning logical operator\n",
    "a=10\n",
    "b=20\n",
    "print(a==b and a!=b) #and operator\n",
    "print(a<b or a>b) #or operator \n",
    "print(not(a<b and a>b)) #not with and operator\n",
    "print(not(a<b or a>b)) # not with or operator\n"
   ]
  },
  {
   "cell_type": "code",
   "execution_count": null,
   "id": "9e791899-fc3b-416a-8754-2454dcba8490",
   "metadata": {},
   "outputs": [],
   "source": []
  }
 ],
 "metadata": {
  "kernelspec": {
   "display_name": "Python 3 (ipykernel)",
   "language": "python",
   "name": "python3"
  },
  "language_info": {
   "codemirror_mode": {
    "name": "ipython",
    "version": 3
   },
   "file_extension": ".py",
   "mimetype": "text/x-python",
   "name": "python",
   "nbconvert_exporter": "python",
   "pygments_lexer": "ipython3",
   "version": "3.12.4"
  }
 },
 "nbformat": 4,
 "nbformat_minor": 5
}
