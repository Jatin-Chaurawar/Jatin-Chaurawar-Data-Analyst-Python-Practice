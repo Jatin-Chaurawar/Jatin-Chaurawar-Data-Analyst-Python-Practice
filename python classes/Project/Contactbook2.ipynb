{
 "cells": [
  {
   "cell_type": "code",
   "execution_count": 5,
   "id": "2c0e3505-1473-4f1e-b17f-931e6707ea3a",
   "metadata": {},
   "outputs": [
    {
     "name": "stdout",
     "output_type": "stream",
     "text": [
      "\n",
      "1.Add Contact\n",
      "2.Display Contact\n",
      "3.Search Contact\n",
      "4.Delete Contact\n",
      "5.Exit\n"
     ]
    },
    {
     "name": "stdin",
     "output_type": "stream",
     "text": [
      "Enter choice: jatin \n"
     ]
    },
    {
     "name": "stdout",
     "output_type": "stream",
     "text": [
      "Invalid choice,try again.\n",
      "\n",
      "1.Add Contact\n",
      "2.Display Contact\n",
      "3.Search Contact\n",
      "4.Delete Contact\n",
      "5.Exit\n"
     ]
    },
    {
     "name": "stdin",
     "output_type": "stream",
     "text": [
      "Enter choice: 1\n",
      "Enter name: jatin\n",
      "Enter phone number: 98275785685\n",
      "Enter email: kfgigkhhigkg\n"
     ]
    },
    {
     "name": "stdout",
     "output_type": "stream",
     "text": [
      "Error: 1045 (28000): Access denied for user 'root'@'localhost' (using password: YES)\n"
     ]
    },
    {
     "ename": "AttributeError",
     "evalue": "'NoneType' object has no attribute 'cursor'",
     "output_type": "error",
     "traceback": [
      "\u001b[31m---------------------------------------------------------------------------\u001b[39m",
      "\u001b[31mAttributeError\u001b[39m                            Traceback (most recent call last)",
      "\u001b[36mCell\u001b[39m\u001b[36m \u001b[39m\u001b[32mIn[5]\u001b[39m\u001b[32m, line 75\u001b[39m\n\u001b[32m     72\u001b[39m         \u001b[38;5;28;01melse\u001b[39;00m:\n\u001b[32m     73\u001b[39m             \u001b[38;5;28mprint\u001b[39m(\u001b[33m\"\u001b[39m\u001b[33mInvalid choice,try again.\u001b[39m\u001b[33m\"\u001b[39m)\n\u001b[32m---> \u001b[39m\u001b[32m75\u001b[39m \u001b[43mmain\u001b[49m\u001b[43m(\u001b[49m\u001b[43m)\u001b[49m\n",
      "\u001b[36mCell\u001b[39m\u001b[36m \u001b[39m\u001b[32mIn[5]\u001b[39m\u001b[32m, line 62\u001b[39m, in \u001b[36mmain\u001b[39m\u001b[34m()\u001b[39m\n\u001b[32m     60\u001b[39m choice=\u001b[38;5;28minput\u001b[39m(\u001b[33m\"\u001b[39m\u001b[33mEnter choice:\u001b[39m\u001b[33m\"\u001b[39m)\n\u001b[32m     61\u001b[39m \u001b[38;5;28;01mif\u001b[39;00m choice==\u001b[33m'\u001b[39m\u001b[33m1\u001b[39m\u001b[33m'\u001b[39m:\n\u001b[32m---> \u001b[39m\u001b[32m62\u001b[39m     \u001b[43madd_contact\u001b[49m\u001b[43m(\u001b[49m\u001b[43m)\u001b[49m\n\u001b[32m     63\u001b[39m \u001b[38;5;28;01melif\u001b[39;00m choice==\u001b[33m'\u001b[39m\u001b[33m2\u001b[39m\u001b[33m'\u001b[39m:\n\u001b[32m     64\u001b[39m     display_contacts()\n",
      "\u001b[36mCell\u001b[39m\u001b[36m \u001b[39m\u001b[32mIn[5]\u001b[39m\u001b[32m, line 16\u001b[39m, in \u001b[36madd_contact\u001b[39m\u001b[34m()\u001b[39m\n\u001b[32m     14\u001b[39m email=\u001b[38;5;28minput\u001b[39m(\u001b[33m\"\u001b[39m\u001b[33mEnter email:\u001b[39m\u001b[33m\"\u001b[39m)\n\u001b[32m     15\u001b[39m conn=get_connection()\n\u001b[32m---> \u001b[39m\u001b[32m16\u001b[39m cursor=\u001b[43mconn\u001b[49m\u001b[43m.\u001b[49m\u001b[43mcursor\u001b[49m()\n\u001b[32m     17\u001b[39m cursor.execute(\u001b[33m\"\u001b[39m\u001b[33mINSERT INTO contacts (name,phone,email) Values (\u001b[39m\u001b[38;5;132;01m%s\u001b[39;00m\u001b[33m,\u001b[39m\u001b[38;5;132;01m%s\u001b[39;00m\u001b[33m,\u001b[39m\u001b[38;5;132;01m%s\u001b[39;00m\u001b[33m)\u001b[39m\u001b[33m\"\u001b[39m,(name,phone,email))\n\u001b[32m     18\u001b[39m conn.commit()\n",
      "\u001b[31mAttributeError\u001b[39m: 'NoneType' object has no attribute 'cursor'"
     ]
    }
   ],
   "source": [
    "import mysql.connector\n",
    "\n",
    "\n",
    "def get_connection():\n",
    "        try:\n",
    "            conn = mysql.connector.connect(host=\"localhost\",database=\"contact_book\",user='root',password='J@tin145')\n",
    "        except mysql.connector.Error as err:\n",
    "           print(f\"Error: {err}\")\n",
    "\n",
    "#add contact\n",
    "def add_contact():\n",
    "    name=input(\"Enter name:\")\n",
    "    phone=input(\"Enter phone number:\")\n",
    "    email=input(\"Enter email:\")\n",
    "    conn=get_connection()\n",
    "    cursor=conn.cursor()\n",
    "    cursor.execute(\"INSERT INTO contacts (name,phone,email) Values (%s,%s,%s)\",(name,phone,email))\n",
    "    conn.commit()\n",
    "    print(\"Contact added successfully.\")\n",
    "    conn.close()\n",
    "\n",
    "\n",
    "#display all contact\n",
    "def display_contacts():\n",
    "    con=get_connection()\n",
    "    cursor=con.cursor()\n",
    "    cursor.execute(\"SELECT name,phone,email From contacts\")\n",
    "    for row in cursor.fetchall():\n",
    "        print(f\"Name:{row[0]},Phone:{row[1]},Email:{row[2]}\")\n",
    "    conn.close()\n",
    "\n",
    "#search contact\n",
    "def search_contact():\n",
    "    name=input(\"Enter name:\")\n",
    "    conn=get_connection()\n",
    "    cursor=conn.cursor()\n",
    "    cursor.execute(\"SELECT * FROM contacts where name =%s\",(name))\n",
    "    contact=cursor.fetchdone()\n",
    "    if contact:\n",
    "        print(f\"Name:{contact[0]},Phone:{contact[1]},Email:{contact[2]}\")\n",
    "    else:\n",
    "        print(\"Contact not found.\")\n",
    "    conn.close()\n",
    "\n",
    "#delete contact\n",
    "def delete_contact():\n",
    "    name=input(\"Enter name:\")\n",
    "    conn=get_connection()\n",
    "    cursor=conn.cursor()\n",
    "    cursor.execute(\"DELETE FROM contacts where name =%s\",(name))\n",
    "    contact=cursor.fetchdone()\n",
    "    conn.commit()\n",
    "    print(\"Contact deleted successfully.\")\n",
    "    conn.closee()\n",
    "\n",
    "#main menu\n",
    "def main():\n",
    "    while True:\n",
    "        print(\"\\n1.Add Contact\\n2.Display Contact\\n3.Search Contact\\n4.Delete Contact\\n5.Exit\")\n",
    "        choice=input(\"Enter choice:\")\n",
    "        if choice=='1':\n",
    "            add_contact()\n",
    "        elif choice=='2':\n",
    "            display_contacts()\n",
    "        elif choice=='3':\n",
    "            search_contact()\n",
    "        elif choice=='4':\n",
    "            delete_contact()\n",
    "        elif choice=='5':\n",
    "            print(\"GoodBye!\")\n",
    "            break\n",
    "        else:\n",
    "            print(\"Invalid choice,try again.\")\n",
    "\n",
    "main()"
   ]
  },
  {
   "cell_type": "code",
   "execution_count": null,
   "id": "fc39f66a-bfcb-46ed-9910-4770a4054310",
   "metadata": {},
   "outputs": [],
   "source": []
  }
 ],
 "metadata": {
  "kernelspec": {
   "display_name": "Python 3 (ipykernel)",
   "language": "python",
   "name": "python3"
  },
  "language_info": {
   "codemirror_mode": {
    "name": "ipython",
    "version": 3
   },
   "file_extension": ".py",
   "mimetype": "text/x-python",
   "name": "python",
   "nbconvert_exporter": "python",
   "pygments_lexer": "ipython3",
   "version": "3.12.2"
  }
 },
 "nbformat": 4,
 "nbformat_minor": 5
}
