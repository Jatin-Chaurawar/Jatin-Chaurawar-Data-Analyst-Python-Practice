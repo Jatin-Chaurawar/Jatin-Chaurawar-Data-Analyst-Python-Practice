{
 "cells": [
  {
   "cell_type": "code",
   "execution_count": 4,
   "id": "67dd6b90-8d69-45dd-9134-ec45dc09ed5b",
   "metadata": {},
   "outputs": [],
   "source": [
    "import os\n",
    "old_name=r\"demo.txt\"\n",
    "new_name=r\"demo1.txt\"\n",
    "os.rename(old_name,new_name)"
   ]
  },
  {
   "cell_type": "code",
   "execution_count": 8,
   "id": "5c854a25-5986-4479-a30d-9a5aba298c57",
   "metadata": {},
   "outputs": [
    {
     "name": "stdout",
     "output_type": "stream",
     "text": [
      "\n"
     ]
    },
    {
     "ename": "FileNotFoundError",
     "evalue": "[WinError 2] The system cannot find the file specified: 'myfiles.txt' -> 'myfiles1.txt'",
     "output_type": "error",
     "traceback": [
      "\u001b[1;31m---------------------------------------------------------------------------\u001b[0m",
      "\u001b[1;31mFileNotFoundError\u001b[0m                         Traceback (most recent call last)",
      "Cell \u001b[1;32mIn[8], line 7\u001b[0m\n\u001b[0;32m      5\u001b[0m old_name\u001b[38;5;241m=\u001b[39m\u001b[38;5;124mr\u001b[39m\u001b[38;5;124m\"\u001b[39m\u001b[38;5;124mmyfiles.txt\u001b[39m\u001b[38;5;124m\"\u001b[39m\n\u001b[0;32m      6\u001b[0m new_name\u001b[38;5;241m=\u001b[39m\u001b[38;5;124mr\u001b[39m\u001b[38;5;124m\"\u001b[39m\u001b[38;5;124mmyfiles1.txt\u001b[39m\u001b[38;5;124m\"\u001b[39m\n\u001b[1;32m----> 7\u001b[0m os\u001b[38;5;241m.\u001b[39mrename(old_name,new_name)\n",
      "\u001b[1;31mFileNotFoundError\u001b[0m: [WinError 2] The system cannot find the file specified: 'myfiles.txt' -> 'myfiles1.txt'"
     ]
    }
   ],
   "source": [
    "file=open('myfilest.txt','w+')\n",
    "file.write(\"Lets learn python\")\n",
    "print(file.read())\n",
    "import os\n",
    "old_name=r\"myfiles.txt\"\n",
    "new_name=r\"myfiles1.txt\"\n",
    "os.rename(old_name,new_name)"
   ]
  },
  {
   "cell_type": "code",
   "execution_count": 10,
   "id": "8e079aa9-3388-48e8-9378-e4a6c374dced",
   "metadata": {},
   "outputs": [],
   "source": [
    "os.remove(\"demo1.txt\")"
   ]
  },
  {
   "cell_type": "code",
   "execution_count": 14,
   "id": "8614088d-29e6-41d1-a770-fe27c6baa370",
   "metadata": {},
   "outputs": [
    {
     "name": "stdout",
     "output_type": "stream",
     "text": [
      "This file does not exist\n"
     ]
    }
   ],
   "source": [
    "if os.path.exists(\"demo1.txt\"):\n",
    "    os.remove(\"demo1.txt\")\n",
    "else:\n",
    "    print(\"This file does not exist\")"
   ]
  },
  {
   "cell_type": "code",
   "execution_count": 16,
   "id": "34ef8a41-6267-4752-8370-7d8914d6d733",
   "metadata": {},
   "outputs": [],
   "source": [
    "os.mkdir(\"test\")"
   ]
  },
  {
   "cell_type": "code",
   "execution_count": 18,
   "id": "006268ef-345d-4582-a259-966fe62b1608",
   "metadata": {},
   "outputs": [],
   "source": [
    "os.rmdir(\"test\")"
   ]
  },
  {
   "cell_type": "code",
   "execution_count": 38,
   "id": "34cefdfa-eed9-467a-a12b-848742b6cef9",
   "metadata": {},
   "outputs": [
    {
     "ename": "NameError",
     "evalue": "name 'cwd' is not defined",
     "output_type": "error",
     "traceback": [
      "\u001b[1;31m---------------------------------------------------------------------------\u001b[0m",
      "\u001b[1;31mNameError\u001b[0m                                 Traceback (most recent call last)",
      "Cell \u001b[1;32mIn[38], line 1\u001b[0m\n\u001b[1;32m----> 1\u001b[0m cwd(\u001b[38;5;124m'\u001b[39m\u001b[38;5;124mmydata\u001b[39m\u001b[38;5;124m'\u001b[39m)\n\u001b[0;32m      2\u001b[0m file_names\u001b[38;5;241m=\u001b[39m[\u001b[38;5;124m'\u001b[39m\u001b[38;5;124mfile1.txt\u001b[39m\u001b[38;5;124m'\u001b[39m,\u001b[38;5;124m'\u001b[39m\u001b[38;5;124mfile2.txt\u001b[39m\u001b[38;5;124m'\u001b[39m,\u001b[38;5;124m'\u001b[39m\u001b[38;5;124mfile3.txt\u001b[39m\u001b[38;5;124m'\u001b[39m,\u001b[38;5;124m'\u001b[39m\u001b[38;5;124mfile4.txt\u001b[39m\u001b[38;5;124m'\u001b[39m,\u001b[38;5;124m'\u001b[39m\u001b[38;5;124mfile5.txt\u001b[39m\u001b[38;5;124m'\u001b[39m]\n\u001b[0;32m      3\u001b[0m \u001b[38;5;28;01mfor\u001b[39;00m file_name \u001b[38;5;129;01min\u001b[39;00m file_names:\n",
      "\u001b[1;31mNameError\u001b[0m: name 'cwd' is not defined"
     ]
    }
   ],
   "source": [
    "cwd('mydata')\n",
    "file_names=['file1.txt','file2.txt','file3.txt','file4.txt','file5.txt']\n",
    "for file_name in file_names:\n",
    "    file_path=os.path.join('mydata',file_name)\n",
    "    with open(file_path,'w') as file:\n",
    "        file.write(f\"This is the content of {file_name}\")\n",
    "print(\"Files created successfully\")"
   ]
  },
  {
   "cell_type": "code",
   "execution_count": 32,
   "id": "4402886f-228e-43d3-a436-009435a5e355",
   "metadata": {},
   "outputs": [
    {
     "name": "stdout",
     "output_type": "stream",
     "text": [
      "file1.txt\n",
      "file2.txtfile3.txtfile4.txtfile5.txt\n"
     ]
    }
   ],
   "source": [
    "a=os.listdir('mydata')\n",
    "for x in a:\n",
    "    print(x)"
   ]
  },
  {
   "cell_type": "code",
   "execution_count": 34,
   "id": "88e58aec-2f8e-4f48-80ed-0045c756e324",
   "metadata": {},
   "outputs": [
    {
     "name": "stdout",
     "output_type": "stream",
     "text": [
      "Current working directory:C:\\Users\\jatin\\Desktop\\python classes\n"
     ]
    }
   ],
   "source": [
    "a=os.getcwd()\n",
    "print(f'Current working directory:{a}')"
   ]
  },
  {
   "cell_type": "code",
   "execution_count": 42,
   "id": "0e485103-8e4e-4169-ae65-c41f4c66b940",
   "metadata": {},
   "outputs": [],
   "source": [
    "os.mkdir('Test Folder')\n",
    "file=open('Test Folder/demofile.txt','w')\n",
    "file.write('This is a test file')\n",
    "file.close()\n",
    "oldname=r'Test Folder/demofile.txt'\n",
    "newname=r'Test Folder/demofile1.txt'\n",
    "os.rename(oldname,newname)"
   ]
  },
  {
   "cell_type": "code",
   "execution_count": 44,
   "id": "84a7206c-98db-4267-8566-c2ad17040e5d",
   "metadata": {},
   "outputs": [
    {
     "ename": "OSError",
     "evalue": "[WinError 145] The directory is not empty: 'Test Folder'",
     "output_type": "error",
     "traceback": [
      "\u001b[1;31m---------------------------------------------------------------------------\u001b[0m",
      "\u001b[1;31mOSError\u001b[0m                                   Traceback (most recent call last)",
      "Cell \u001b[1;32mIn[44], line 1\u001b[0m\n\u001b[1;32m----> 1\u001b[0m os\u001b[38;5;241m.\u001b[39mrmdir(\u001b[38;5;124m'\u001b[39m\u001b[38;5;124mTest Folder\u001b[39m\u001b[38;5;124m'\u001b[39m)\n",
      "\u001b[1;31mOSError\u001b[0m: [WinError 145] The directory is not empty: 'Test Folder'"
     ]
    }
   ],
   "source": [
    "os.rmdir('Test Folder')"
   ]
  },
  {
   "cell_type": "code",
   "execution_count": 54,
   "id": "56b45f01-a338-450f-8735-ff12e82f30f2",
   "metadata": {},
   "outputs": [
    {
     "data": {
      "text/plain": [
       "'myfilest1.txt'"
      ]
     },
     "execution_count": 54,
     "metadata": {},
     "output_type": "execute_result"
    }
   ],
   "source": [
    "import shutil\n",
    "original=r\"myfilest.txt\"\n",
    "target=r\"myfilest1.txt\"\n",
    "shutil.copyfile(original,target)"
   ]
  },
  {
   "cell_type": "code",
   "execution_count": 56,
   "id": "678f501c-808e-4bcf-b8da-f630b54c0d26",
   "metadata": {},
   "outputs": [
    {
     "data": {
      "text/plain": [
       "'data'"
      ]
     },
     "execution_count": 56,
     "metadata": {},
     "output_type": "execute_result"
    }
   ],
   "source": [
    "source=r\"mydata\"\n",
    "destination=r\"data\"\n",
    "shutil.copytree(source,destination)"
   ]
  },
  {
   "cell_type": "code",
   "execution_count": 58,
   "id": "ba5a8ba3-d850-43bc-b909-30a41cb6970c",
   "metadata": {},
   "outputs": [
    {
     "data": {
      "text/plain": [
       "'datas'"
      ]
     },
     "execution_count": 58,
     "metadata": {},
     "output_type": "execute_result"
    }
   ],
   "source": [
    "source=r\"mydata\"\n",
    "destination=r\"datas\"\n",
    "shutil.move(source,destination)"
   ]
  },
  {
   "cell_type": "code",
   "execution_count": 60,
   "id": "b5672558-2f1c-4413-8e1c-6d99b8babe23",
   "metadata": {},
   "outputs": [
    {
     "data": {
      "text/plain": [
       "'C:\\\\Users\\\\jatin\\\\Desktop\\\\python classes\\\\myfiles.zip'"
      ]
     },
     "execution_count": 60,
     "metadata": {},
     "output_type": "execute_result"
    }
   ],
   "source": [
    "shutil.make_archive('myfiles','zip','datas')"
   ]
  },
  {
   "cell_type": "code",
   "execution_count": 64,
   "id": "a639031a-89f7-4350-b12f-665df1ee02d3",
   "metadata": {},
   "outputs": [],
   "source": [
    "shutil.unpack_archive('myfiles.zip','mydata')"
   ]
  },
  {
   "cell_type": "code",
   "execution_count": null,
   "id": "99cbbe86-0507-4306-bb39-9b92b8fbf5ce",
   "metadata": {},
   "outputs": [],
   "source": [
    "shutdown=input(\"Shutdown your PC?(Yes/No):\")\n",
    "if shutdown.lower()=='no':\n",
    "    exit()\n",
    "else:\n",
    "    os.system(\"shu\")"
   ]
  }
 ],
 "metadata": {
  "kernelspec": {
   "display_name": "Python 3 (ipykernel)",
   "language": "python",
   "name": "python3"
  },
  "language_info": {
   "codemirror_mode": {
    "name": "ipython",
    "version": 3
   },
   "file_extension": ".py",
   "mimetype": "text/x-python",
   "name": "python",
   "nbconvert_exporter": "python",
   "pygments_lexer": "ipython3",
   "version": "3.12.4"
  }
 },
 "nbformat": 4,
 "nbformat_minor": 5
}
