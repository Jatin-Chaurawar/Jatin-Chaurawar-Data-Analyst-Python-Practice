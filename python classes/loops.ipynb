{
 "cells": [
  {
   "cell_type": "code",
   "execution_count": 2,
   "id": "6317375b-3fcb-4587-b8dc-d5cc7b09d685",
   "metadata": {},
   "outputs": [
    {
     "name": "stdout",
     "output_type": "stream",
     "text": [
      "0\n",
      "1\n",
      "2\n",
      "3\n",
      "4\n"
     ]
    }
   ],
   "source": [
    "#printing number from 0 to 4\n",
    "n=5 \n",
    "for i in range(0,n):\n",
    "    print(i)"
   ]
  },
  {
   "cell_type": "code",
   "execution_count": 4,
   "id": "96f71e2a-a7a4-486d-8a00-8ead99466dfc",
   "metadata": {},
   "outputs": [
    {
     "name": "stdout",
     "output_type": "stream",
     "text": [
      "0 1 2 3 4 "
     ]
    }
   ],
   "source": [
    "#printing number from 0 to 4\n",
    "n=5 \n",
    "for i in range(0,n):\n",
    "    print(i,end=\" \")"
   ]
  },
  {
   "cell_type": "code",
   "execution_count": 10,
   "id": "104607df-79a6-496c-9a40-2a3f36251e1d",
   "metadata": {},
   "outputs": [
    {
     "name": "stdout",
     "output_type": "stream",
     "text": [
      "4 6 8 10 12 14 16 18 "
     ]
    }
   ],
   "source": [
    "values=range(4,20,2)\n",
    "for i in values:\n",
    "    print(i,end=\" \")"
   ]
  },
  {
   "cell_type": "code",
   "execution_count": 14,
   "id": "9e209930-c323-4783-9dff-38e2539485bf",
   "metadata": {},
   "outputs": [
    {
     "name": "stdout",
     "output_type": "stream",
     "text": [
      "20 18 16 14 12 10 8 6 "
     ]
    }
   ],
   "source": [
    "values=range(20,4,-2)\n",
    "for i in values:\n",
    "    print(i,end=\" \")"
   ]
  },
  {
   "cell_type": "code",
   "execution_count": 16,
   "id": "3a53b738-ed75-4045-86d1-174f2f18f30c",
   "metadata": {},
   "outputs": [
    {
     "name": "stdout",
     "output_type": "stream",
     "text": [
      "0\n",
      "1\n",
      "5\n",
      "No items Left.\n"
     ]
    }
   ],
   "source": [
    "digits =[0,1,5]\n",
    "for i in digits:\n",
    "    print(i)\n",
    "else:\n",
    "    print(\"No items Left.\")"
   ]
  },
  {
   "cell_type": "code",
   "execution_count": 40,
   "id": "00fc16f2-458c-4ae1-9d3f-7937801deba6",
   "metadata": {},
   "outputs": [
    {
     "name": "stdout",
     "output_type": "stream",
     "text": [
      "3 9 3 9 7  \n",
      "These are the odd numbers present in mydata\n"
     ]
    }
   ],
   "source": [
    "mydata=(3,4,6,8,9,2,3,4,8,9,7)\n",
    "for a in mydata:\n",
    "    if a%2!=0:\n",
    "        print(a,end=\" \")\n",
    "else:\n",
    "    print(\" \")\n",
    "    print(\"These are the odd numbers present in mydata\")"
   ]
  },
  {
   "cell_type": "code",
   "execution_count": 32,
   "id": "8eb6d14e-ca8a-4d6f-ae1a-ca04b5bec879",
   "metadata": {},
   "outputs": [
    {
     "name": "stdout",
     "output_type": "stream",
     "text": [
      "3\n",
      "These are the odd numbers present in mydata\n",
      "These are the odd numbers present in mydata\n",
      "These are the odd numbers present in mydata\n",
      "9\n",
      "These are the odd numbers present in mydata\n",
      "3\n",
      "These are the odd numbers present in mydata\n",
      "These are the odd numbers present in mydata\n",
      "9\n",
      "7\n"
     ]
    }
   ],
   "source": [
    "mydata=(3,4,6,8,9,2,3,4,8,9,7)\n",
    "for a in mydata:\n",
    "    if a%2!=0:\n",
    "        print(a)\n",
    "    else:\n",
    "        print(\"These are the odd numbers present in mydata\")"
   ]
  },
  {
   "cell_type": "code",
   "execution_count": 34,
   "id": "08c697c0-a251-4761-a965-065f49de3756",
   "metadata": {},
   "outputs": [
    {
     "name": "stdout",
     "output_type": "stream",
     "text": [
      "Hello Everyonr\n",
      "Bye\n",
      "Hello Everyonr\n",
      "Bye\n",
      "Hello Everyonr\n",
      "Bye\n"
     ]
    }
   ],
   "source": [
    "mylist=[1,4,6]\n",
    "for a in  mylist:\n",
    "    print(\"Hello Everyonr\")\n",
    "    print(\"Bye\")"
   ]
  },
  {
   "cell_type": "code",
   "execution_count": 38,
   "id": "1c4b2a35-5e4f-4b5d-870c-6e985dd1d891",
   "metadata": {},
   "outputs": [
    {
     "name": "stdout",
     "output_type": "stream",
     "text": [
      "The following lines will print each letters ofApple\n",
      "A\n",
      " \n",
      "p\n",
      " \n",
      "p\n",
      " \n",
      "l\n",
      " \n",
      "e\n",
      " \n",
      "The following lines will print each letters ofBanana\n",
      "B\n",
      " \n",
      "a\n",
      " \n",
      "n\n",
      " \n",
      "a\n",
      " \n",
      "n\n",
      " \n",
      "a\n",
      " \n",
      "The following lines will print each letters ofCar\n",
      "C\n",
      " \n",
      "a\n",
      " \n",
      "r\n",
      " \n",
      "The following lines will print each letters ofDolphin\n",
      "D\n",
      " \n",
      "o\n",
      " \n",
      "l\n",
      " \n",
      "p\n",
      " \n",
      "h\n",
      " \n",
      "i\n",
      " \n",
      "n\n",
      " \n"
     ]
    }
   ],
   "source": [
    "words=[\"Apple\",\"Banana\",\"Car\",\"Dolphin\"]\n",
    "for a in words:\n",
    "    print(\"The following lines will print each letters of\"+a)\n",
    "    for b in a:\n",
    "        print(b)\n",
    "        print(\" \")"
   ]
  },
  {
   "cell_type": "code",
   "execution_count": 46,
   "id": "6ae74c6d-f083-4b24-8891-ab9140877af7",
   "metadata": {},
   "outputs": [
    {
     "name": "stdout",
     "output_type": "stream",
     "text": [
      "The sum is: 5050\n"
     ]
    }
   ],
   "source": [
    "#sum from 1 to 100\n",
    "total=0\n",
    "for i in range(1,101):\n",
    "    total+=i\n",
    "print(\"The sum is:\",total)"
   ]
  },
  {
   "cell_type": "code",
   "execution_count": 60,
   "id": "db653d0b-ad0c-43cc-8c28-c5e94bd31c17",
   "metadata": {},
   "outputs": [
    {
     "name": "stdout",
     "output_type": "stream",
     "text": [
      "The sum is: 2550\n",
      "The sum is: 2500\n"
     ]
    }
   ],
   "source": [
    "#sum from 1 to 100 of even number \n",
    "sum_even=0\n",
    "sum_odd=0\n",
    "for i in range(1,101):\n",
    "    if i%2==0:\n",
    "        sum_even+=i\n",
    "    else:\n",
    "        sum_odd+=i\n",
    "print(\"The sum is:\",sum_even)\n",
    "print(\"The sum is:\",sum_odd)"
   ]
  },
  {
   "cell_type": "code",
   "execution_count": 62,
   "id": "94436b9a-3de3-4c66-8703-531eae8e20a5",
   "metadata": {},
   "outputs": [
    {
     "name": "stdout",
     "output_type": "stream",
     "text": [
      "1\n",
      "2\n"
     ]
    }
   ],
   "source": [
    "#using for loop with break\n",
    "mydata=[1,2,3,4,5,6,7,8]\n",
    "for i in mydata:\n",
    "    if i==3:\n",
    "        break\n",
    "    print(i)"
   ]
  },
  {
   "cell_type": "code",
   "execution_count": 70,
   "id": "929089aa-e1e4-4fed-8d9e-707c0e57af0e",
   "metadata": {},
   "outputs": [
    {
     "name": "stdout",
     "output_type": "stream",
     "text": [
      "1\n",
      "2\n",
      "3\n"
     ]
    }
   ],
   "source": [
    "#using for loop with break\n",
    "mydata=[1,2,3,4,5,6,7,8]\n",
    "for i in mydata:\n",
    "    print(i)\n",
    "    if i==3:\n",
    "        break"
   ]
  },
  {
   "cell_type": "code",
   "execution_count": 66,
   "id": "ab03d302-6dfb-4d28-9b3a-6cc6079a80ba",
   "metadata": {},
   "outputs": [
    {
     "name": "stdout",
     "output_type": "stream",
     "text": [
      "1\n",
      "2\n",
      "4\n",
      "5\n",
      "6\n",
      "7\n",
      "8\n"
     ]
    }
   ],
   "source": [
    "#using for loop with break\n",
    "mydata=[1,2,3,4,5,6,7,8]\n",
    "for i in mydata:\n",
    "    if i==3:\n",
    "        continue\n",
    "    print(i)"
   ]
  },
  {
   "cell_type": "code",
   "execution_count": 68,
   "id": "0ffdd279-452e-4ff4-8036-9e4308e98bd9",
   "metadata": {},
   "outputs": [
    {
     "name": "stdout",
     "output_type": "stream",
     "text": [
      "1\n",
      "2\n",
      "3\n",
      "4\n",
      "5\n",
      "6\n",
      "7\n",
      "8\n"
     ]
    }
   ],
   "source": [
    "#using for loop with break\n",
    "mydata=[1,2,3,4,5,6,7,8]\n",
    "for i in mydata:\n",
    "    print(i)\n",
    "    if i==3:\n",
    "        continue"
   ]
  },
  {
   "cell_type": "code",
   "execution_count": 74,
   "id": "722ea2a9-67c2-4a39-961a-687dca3bb114",
   "metadata": {},
   "outputs": [
    {
     "name": "stdout",
     "output_type": "stream",
     "text": [
      "Sum of positive numbers:13\n"
     ]
    }
   ],
   "source": [
    "#get sum of all positive number\n",
    "mynumber=[1,2,-3,4,-5,6]\n",
    "sumofnumbers=0\n",
    "for a in mynumber:\n",
    "    if a<0:\n",
    "        continue\n",
    "    sumofnumbers+=a\n",
    "print(f\"Sum of positive numbers:{sumofnumbers}\")"
   ]
  },
  {
   "cell_type": "code",
   "execution_count": 78,
   "id": "65a3d5cd-6d8b-4159-8dcf-790a2339b83f",
   "metadata": {},
   "outputs": [
    {
     "name": "stdout",
     "output_type": "stream",
     "text": [
      "e\n",
      "e\n",
      "a\n",
      "o\n"
     ]
    }
   ],
   "source": [
    "mytext=\"Lets learn Python\"\n",
    "for x in mytext:\n",
    "    if x in \"aeiouAEIOU\":\n",
    "        print(x)"
   ]
  },
  {
   "cell_type": "code",
   "execution_count": 80,
   "id": "e0c2473e-3644-49d4-b144-d8e1d56565fa",
   "metadata": {},
   "outputs": [
    {
     "name": "stdout",
     "output_type": "stream",
     "text": [
      "1\n",
      "27\n",
      "125\n",
      "343\n"
     ]
    }
   ],
   "source": [
    "#find cube of odd number\n",
    "a=[1,2,3,4,5,6,7,8]\n",
    "for x in a:\n",
    "    if x%2==1:\n",
    "        print(x**3,)"
   ]
  },
  {
   "cell_type": "code",
   "execution_count": 86,
   "id": "f8b016c1-1ed9-43ef-a114-1e2df5b69334",
   "metadata": {},
   "outputs": [
    {
     "name": "stdout",
     "output_type": "stream",
     "text": [
      "apple\n",
      "red\n",
      "green\n",
      "mango\n",
      "red\n",
      "green\n"
     ]
    }
   ],
   "source": [
    "a=[\"apple\",\"mango\",\"peach\"]\n",
    "b=[\"red\",\"blue\",\"green\"]\n",
    "for x in a:\n",
    "    if x==\"peach\":\n",
    "        break\n",
    "    print(x)\n",
    "    for y in b:\n",
    "        if y==\"blue\":\n",
    "            continue\n",
    "        print(y)"
   ]
  },
  {
   "cell_type": "code",
   "execution_count": 88,
   "id": "efe49306-bc8a-41cd-bbce-364b9c487d3d",
   "metadata": {},
   "outputs": [
    {
     "name": "stdin",
     "output_type": "stream",
     "text": [
      "Enter number of rows: 7\n"
     ]
    },
    {
     "name": "stdout",
     "output_type": "stream",
     "text": [
      "* \n",
      "\n",
      "* * \n",
      "\n",
      "* * * \n",
      "\n",
      "* * * * \n",
      "\n",
      "* * * * * \n",
      "\n",
      "* * * * * * \n",
      "\n",
      "* * * * * * * \n",
      "\n"
     ]
    }
   ],
   "source": [
    "#making star pattern with nested for loop\n",
    "a=int(input(\"Enter number of rows:\"))\n",
    "for i in range(a):\n",
    "    for j in range(i+1):\n",
    "        print(\"*\",end=\" \")\n",
    "    print(\"\\n\")"
   ]
  },
  {
   "cell_type": "code",
   "execution_count": 90,
   "id": "ae62519f-1348-4737-84ab-df6025745afa",
   "metadata": {},
   "outputs": [
    {
     "name": "stdout",
     "output_type": "stream",
     "text": [
      "2 * 1 = 2\n",
      "2 * 2 = 4\n",
      "2 * 3 = 6\n",
      "2 * 4 = 8\n",
      "2 * 5 = 10\n",
      "2 * 6 = 12\n",
      "2 * 7 = 14\n",
      "2 * 8 = 16\n",
      "2 * 9 = 18\n",
      "2 * 10 = 20\n"
     ]
    }
   ],
   "source": [
    "for a in range(2,3):\n",
    "    for b in range(1,11):\n",
    "        print(a,\"*\",b,\"=\",a*b)"
   ]
  },
  {
   "cell_type": "code",
   "execution_count": null,
   "id": "b681ef42-a563-416c-8e0b-b18aed12780f",
   "metadata": {},
   "outputs": [],
   "source": []
  }
 ],
 "metadata": {
  "kernelspec": {
   "display_name": "Python 3 (ipykernel)",
   "language": "python",
   "name": "python3"
  },
  "language_info": {
   "codemirror_mode": {
    "name": "ipython",
    "version": 3
   },
   "file_extension": ".py",
   "mimetype": "text/x-python",
   "name": "python",
   "nbconvert_exporter": "python",
   "pygments_lexer": "ipython3",
   "version": "3.12.4"
  }
 },
 "nbformat": 4,
 "nbformat_minor": 5
}
