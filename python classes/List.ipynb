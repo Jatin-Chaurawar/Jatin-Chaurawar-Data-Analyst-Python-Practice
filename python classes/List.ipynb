{
 "cells": [
  {
   "cell_type": "code",
   "execution_count": null,
   "id": "e3ad6acf-46ec-47af-88fd-6bebd7b31872",
   "metadata": {},
   "outputs": [],
   "source": [
    "# list in python\n"
   ]
  },
  {
   "cell_type": "code",
   "execution_count": 1,
   "id": "56460b52-1d75-48e5-bdd8-9e89c3722a49",
   "metadata": {},
   "outputs": [
    {
     "name": "stdout",
     "output_type": "stream",
     "text": [
      "banana\n"
     ]
    }
   ],
   "source": [
    "# indexing in a list\n",
    "\n",
    "thislist= [\"apple\",\"banana\",\"cherry\"]\n",
    "print(thislist[1])"
   ]
  },
  {
   "cell_type": "code",
   "execution_count": 2,
   "id": "407ee231-d507-4645-b599-ac2bf072ff65",
   "metadata": {},
   "outputs": [
    {
     "name": "stdout",
     "output_type": "stream",
     "text": [
      "cherry\n"
     ]
    }
   ],
   "source": [
    "thislist= [\"apple\",\"banana\",\"cherry\"]\n",
    "print(thislist[-1])"
   ]
  },
  {
   "cell_type": "code",
   "execution_count": 7,
   "id": "f1f4652e-7d43-4b2f-b3a0-58272d779e7e",
   "metadata": {},
   "outputs": [
    {
     "name": "stdout",
     "output_type": "stream",
     "text": [
      "['cherry', 'orange', 'kivi']\n",
      "['Apple', 'banana', 'cherry', 'orange']\n",
      "['cherry', 'orange', 'kivi', 'melon', 'mango']\n",
      "['orange', 'kivi', 'melon']\n"
     ]
    }
   ],
   "source": [
    "thislist=[\"Apple\",\"banana\",\"cherry\",\"orange\",\"kivi\",\"melon\",\"mango\"]\n",
    "print(thislist[2:5])\n",
    "print(thislist[:4])\n",
    "print(thislist[2:])\n",
    "print(thislist[-4:-1])"
   ]
  },
  {
   "cell_type": "code",
   "execution_count": 8,
   "id": "452a998d-6524-4b15-b819-5f2c95e5b434",
   "metadata": {},
   "outputs": [
    {
     "name": "stdout",
     "output_type": "stream",
     "text": [
      "['apple', 'blackcurrant', 'cherry']\n"
     ]
    }
   ],
   "source": [
    "thislist =[\"apple\",\"banana\",\"cherry\"]\n",
    "thislist[1]=\"blackcurrant\"\n",
    "print(thislist)"
   ]
  },
  {
   "cell_type": "code",
   "execution_count": 34,
   "id": "75b48899-b9e9-4c46-820b-8008c5bd2475",
   "metadata": {},
   "outputs": [
    {
     "name": "stdout",
     "output_type": "stream",
     "text": [
      "['banana', 'strawberry', 'pineapple', 'apple', 'chicku', 'mango']\n"
     ]
    }
   ],
   "source": [
    "thislist= [\"banana\",\"kivi\",\"apple\",\"chicku\",\"mango\"]\n",
    "thislist[1:2]= [\"strawberry\",\"pineapple\"]\n",
    "print(thislist)"
   ]
  },
  {
   "cell_type": "code",
   "execution_count": 10,
   "id": "98d803c1-67dd-4cd9-bec6-baaebed1aa7a",
   "metadata": {},
   "outputs": [
    {
     "name": "stdout",
     "output_type": "stream",
     "text": [
      "['banana', 'strawberry', 'pineapple', 'bluebarry', 'chicku', 'mango']\n"
     ]
    }
   ],
   "source": [
    "thislist= [\"banana\",\"kivi\",\"apple\",\"chicku\",\"mango\"]\n",
    "thislist[1:3]= [\"strawberry\",\"pineapple\",\"bluebarry\"]\n",
    "print(thislist)"
   ]
  },
  {
   "cell_type": "code",
   "execution_count": 14,
   "id": "6b428829-25ef-4a89-998c-1d13bc2ef1be",
   "metadata": {},
   "outputs": [
    {
     "name": "stdout",
     "output_type": "stream",
     "text": [
      "['banana', 'strawberry']\n"
     ]
    }
   ],
   "source": [
    "thislist= [\"banana\",\"kivi\",\"apple\",\"chicku\",\"mango\"]\n",
    "thislist[1:5]= [\"strawberry\"]\n",
    "print(thislist)"
   ]
  },
  {
   "cell_type": "code",
   "execution_count": 18,
   "id": "73790daa-d534-4723-a320-b81f2f27b44d",
   "metadata": {},
   "outputs": [
    {
     "name": "stdout",
     "output_type": "stream",
     "text": [
      "['banana', 'strawberry', 'kivi', 'apple']\n"
     ]
    }
   ],
   "source": [
    "a=[\"banana\",\"kivi\",\"apple\"]\n",
    "a.insert(1,\"strawberry\")\n",
    "print(a)"
   ]
  },
  {
   "cell_type": "code",
   "execution_count": 21,
   "id": "c606dfac-e746-46e0-b1c9-8c84c5eaf29c",
   "metadata": {},
   "outputs": [
    {
     "name": "stdout",
     "output_type": "stream",
     "text": [
      "['banana', 'kivi', 'apple', 'strawberry']\n"
     ]
    }
   ],
   "source": [
    "a=[\"banana\",\"kivi\",\"apple\"]\n",
    "a.append(\"strawberry\")\n",
    "print(a)"
   ]
  },
  {
   "cell_type": "code",
   "execution_count": 24,
   "id": "89669055-f873-4863-bf19-19c0ebdb789a",
   "metadata": {},
   "outputs": [
    {
     "name": "stdout",
     "output_type": "stream",
     "text": [
      "['banana', 'kivi', 'apple', ['mango', 'strawbarry']]\n"
     ]
    }
   ],
   "source": [
    "a=[\"banana\",\"kivi\",\"apple\"]\n",
    "b=[\"mango\",\"strawbarry\"]\n",
    "a.append(b)\n",
    "print(a)"
   ]
  },
  {
   "cell_type": "code",
   "execution_count": 25,
   "id": "d112364f-3e3c-45fe-a8ad-81f250e27c9f",
   "metadata": {},
   "outputs": [
    {
     "name": "stdout",
     "output_type": "stream",
     "text": [
      "['banana', 'kivi', 'apple', 'mango', 'strawbarry']\n"
     ]
    }
   ],
   "source": [
    "a=[\"banana\",\"kivi\",\"apple\"]\n",
    "b=[\"mango\",\"strawbarry\"]\n",
    "a.extend(b)\n",
    "print(a)"
   ]
  },
  {
   "cell_type": "code",
   "execution_count": 26,
   "id": "ac81d23f-6006-4534-a07b-b6b81fb4d2c4",
   "metadata": {},
   "outputs": [
    {
     "name": "stdout",
     "output_type": "stream",
     "text": [
      "['banana', 'kivi', 'apple', 'mango', 'strawbarry']\n"
     ]
    }
   ],
   "source": [
    "a=[\"banana\",\"kivi\",\"apple\"]\n",
    "b=[\"mango\",\"strawbarry\"]\n",
    "c=a+b\n",
    "print(c)"
   ]
  },
  {
   "cell_type": "code",
   "execution_count": 28,
   "id": "dfd17c03-d63a-4237-a8d0-0b4877dfac9f",
   "metadata": {},
   "outputs": [
    {
     "name": "stdout",
     "output_type": "stream",
     "text": [
      "['banana', 'apple']\n"
     ]
    }
   ],
   "source": [
    "a=[\"banana\",\"kivi\",\"apple\"]\n",
    "a.remove(\"kivi\")\n",
    "print(a)"
   ]
  },
  {
   "cell_type": "code",
   "execution_count": 3,
   "id": "18fbb104-0297-42c3-a80c-bfcc0e9ff6c1",
   "metadata": {},
   "outputs": [
    {
     "name": "stdout",
     "output_type": "stream",
     "text": [
      "['banana', 'apple']\n"
     ]
    }
   ],
   "source": [
    "a=[\"banana\",\"kivi\",\"apple\"]\n",
    "a.pop(1)\n",
    "print(a)"
   ]
  },
  {
   "cell_type": "code",
   "execution_count": 1,
   "id": "5ebb498e-0adb-4437-a34a-7369f8c65356",
   "metadata": {},
   "outputs": [
    {
     "name": "stdout",
     "output_type": "stream",
     "text": [
      "['banana', 'apple']\n"
     ]
    }
   ],
   "source": [
    "a=[\"banana\",\"kivi\",\"apple\"]\n",
    "a.pop()\n",
    "print(a)"
   ]
  },
  {
   "cell_type": "code",
   "execution_count": 31,
   "id": "bdf4f99c-9ac6-4b4b-a700-2b1d34913b28",
   "metadata": {},
   "outputs": [
    {
     "name": "stdout",
     "output_type": "stream",
     "text": [
      "['kivi', 'apple']\n"
     ]
    }
   ],
   "source": [
    "a=[\"banana\",\"kivi\",\"apple\"]\n",
    "del a[0]\n",
    "print(a)"
   ]
  },
  {
   "cell_type": "code",
   "execution_count": 32,
   "id": "f46a3793-eee8-4084-9493-cae447d8963d",
   "metadata": {},
   "outputs": [
    {
     "name": "stdout",
     "output_type": "stream",
     "text": [
      "[]\n"
     ]
    }
   ],
   "source": [
    "\n",
    "a=[\"banana\",\"kivi\",\"apple\"]\n",
    "a.clear()\n",
    "print(a)\n"
   ]
  },
  {
   "cell_type": "code",
   "execution_count": 4,
   "id": "5b3da711-11c5-4e30-adb8-dec40d6804a1",
   "metadata": {},
   "outputs": [
    {
     "name": "stdout",
     "output_type": "stream",
     "text": [
      "[1, 8, 7, 2, 21, 15]\n",
      "[1, 2, 7, 8, 15, 21]\n"
     ]
    }
   ],
   "source": [
    "thislist=[1,8,7,2,21,15]\n",
    "print(thislist)\n",
    "thislist.sort()\n",
    "print(thislist)"
   ]
  },
  {
   "cell_type": "code",
   "execution_count": 6,
   "id": "815d8048-97b1-45b4-a314-c71659e9c721",
   "metadata": {},
   "outputs": [
    {
     "name": "stdout",
     "output_type": "stream",
     "text": [
      "['pineapple', 'orange', 'mango', 'kiwi', 'banana']\n"
     ]
    }
   ],
   "source": [
    "thislist=[\"orange\",\"mango\",\"kiwi\",\"pineapple\",\"banana\"]\n",
    "thislist.sort(reverse=True)\n",
    "print(thislist)"
   ]
  },
  {
   "cell_type": "code",
   "execution_count": 8,
   "id": "02ddfacf-f6aa-477a-8d7c-5095e1109794",
   "metadata": {},
   "outputs": [
    {
     "name": "stdout",
     "output_type": "stream",
     "text": [
      "[50, 65, 23, 83, 1, 100, 0]\n"
     ]
    }
   ],
   "source": [
    "#sort the list based on how close the  number is to 50\n",
    "def myfunc(n):\n",
    "    return abs(n-50)\n",
    "thislist=[100,50,65,23,83,1,0]\n",
    "thislist.sort(key=myfunc)\n",
    "print(thislist)"
   ]
  },
  {
   "cell_type": "code",
   "execution_count": 10,
   "id": "40e8e799-5856-49b6-ade2-740bf119468c",
   "metadata": {},
   "outputs": [
    {
     "name": "stdout",
     "output_type": "stream",
     "text": [
      "['Kiwi', 'Orange', 'banana', 'cherry']\n"
     ]
    }
   ],
   "source": [
    "thislist=[\"banana\",\"Orange\",\"Kiwi\",\"cherry\"]\n",
    "thislist.sort()\n",
    "print(thislist)"
   ]
  },
  {
   "cell_type": "code",
   "execution_count": 18,
   "id": "5503c260-bfb5-42da-9050-7ff46528c246",
   "metadata": {},
   "outputs": [
    {
     "name": "stdout",
     "output_type": "stream",
     "text": [
      "['banana', 'cherry', 'Kiwi', 'Orange']\n"
     ]
    }
   ],
   "source": [
    "thislist=[\"banana\",\"Orange\",\"Kiwi\",\"cherry\"]\n",
    "thislist.sort(key=str.lower)\n",
    "print(thislist)"
   ]
  },
  {
   "cell_type": "code",
   "execution_count": 28,
   "id": "5d5f59a2-36c0-4a7c-ba1a-9dea0906d056",
   "metadata": {},
   "outputs": [
    {
     "name": "stdout",
     "output_type": "stream",
     "text": [
      "['banana', 'Orange', 'Kiwi', 'cherry']\n",
      "['banana', 'cherry', 'Kiwi', 'Orange']\n"
     ]
    }
   ],
   "source": [
    "thislist=[\"banana\",\"Orange\",\"Kiwi\",\"cherry\"]\n",
    "newlist=sorted(thislist, key=str.lower)\n",
    "print(thislist)\n",
    "print(newlist)"
   ]
  },
  {
   "cell_type": "code",
   "execution_count": 22,
   "id": "da5866ed-7aad-4569-9365-d8680d7da028",
   "metadata": {},
   "outputs": [
    {
     "name": "stdout",
     "output_type": "stream",
     "text": [
      "['Strawberry', 'Bananas', 'Orange', 'Apple', 'Kiwi']\n"
     ]
    }
   ],
   "source": [
    "thislist=[\"Bananas\",\"Orange\",\"Kiwi\",\"Apple\",\"Strawberry\"]\n",
    "thislist.sort(key=len,reverse=True)\n",
    "print(thislist)"
   ]
  },
  {
   "cell_type": "code",
   "execution_count": 30,
   "id": "8b0fb9b4-d237-4f5a-9a39-ba0fc4f5d845",
   "metadata": {},
   "outputs": [
    {
     "name": "stdout",
     "output_type": "stream",
     "text": [
      "['apple', 'banana', 'cherry']\n",
      "['apple', 'banana', 'cherry']\n",
      "['banana', 'cherry']\n",
      "['apple', 'banana', 'cherry', 'mango']\n"
     ]
    }
   ],
   "source": [
    "thislist=[\"apple\",\"banana\",\"cherry\"]\n",
    "mylist=thislist.copy()\n",
    "print(thislist)\n",
    "print(mylist)\n",
    "thislist.pop(0)\n",
    "mylist.append(\"mango\")\n",
    "print(thislist)\n",
    "print(mylist)"
   ]
  },
  {
   "cell_type": "code",
   "execution_count": 32,
   "id": "fb0a8666-acb7-4c97-9937-67caab19539c",
   "metadata": {},
   "outputs": [
    {
     "name": "stdout",
     "output_type": "stream",
     "text": [
      "['apple', 'banana', 'cherry']\n",
      "['apple', 'banana', 'cherry']\n",
      "['banana', 'cherry']\n",
      "['apple', 'banana', 'cherry', 'mango']\n"
     ]
    }
   ],
   "source": [
    "thislist=[\"apple\",\"banana\",\"cherry\"]\n",
    "mylist=list(thislist)\n",
    "print(thislist)\n",
    "print(mylist)\n",
    "thislist.pop(0)\n",
    "mylist.append(\"mango\")\n",
    "print(thislist)\n",
    "print(mylist)"
   ]
  },
  {
   "cell_type": "code",
   "execution_count": 34,
   "id": "28d78cb3-ba71-4867-91d2-ec09934356e2",
   "metadata": {},
   "outputs": [
    {
     "name": "stdout",
     "output_type": "stream",
     "text": [
      "Rohit\n",
      "Soham\n",
      "Pravin\n",
      "a\n",
      "b\n",
      "c\n",
      "True\n",
      "False\n"
     ]
    }
   ],
   "source": [
    "mylist=[\n",
    "    [\"Rohit\",\"Soham\",\"Pravin\"],\n",
    "    ['a','b','c'],\n",
    "    [True,False]\n",
    "]\n",
    "# print each element of the nested list\n",
    "for a in mylist:\n",
    "    for b in a:\n",
    "        print(b)"
   ]
  },
  {
   "cell_type": "code",
   "execution_count": 36,
   "id": "37e35950-6ef5-4a4d-9a29-340b1090e9d8",
   "metadata": {},
   "outputs": [
    {
     "name": "stdout",
     "output_type": "stream",
     "text": [
      "sum of all elements: 36\n"
     ]
    }
   ],
   "source": [
    "mylist=[\n",
    "    [1,2,3],\n",
    "    [4,5],\n",
    "    [6,7,8]\n",
    "]\n",
    "total_sum=0\n",
    "for a in mylist:\n",
    "    for b in a:\n",
    "        total_sum+=b\n",
    "print(\"sum of all elements:\",total_sum)"
   ]
  },
  {
   "cell_type": "code",
   "execution_count": 40,
   "id": "7f507926-ee34-4019-8e7d-b86908ddfb31",
   "metadata": {},
   "outputs": [
    {
     "name": "stdout",
     "output_type": "stream",
     "text": [
      "Elements at (0,1): Harsh\n",
      "Elements at (1,1): Tue\n",
      "Elements at (2,1): False\n"
     ]
    }
   ],
   "source": [
    "mylist=[\n",
    "    [\"Soham\",\"Harsh\",\"Nikita\"],\n",
    "    ['Mon','Tue','Wed'],\n",
    "    [True,False]\n",
    "]\n",
    "print(\"Elements at (0,1):\",mylist[0][1])\n",
    "print(\"Elements at (1,1):\",mylist[1][1])\n",
    "print(\"Elements at (2,1):\",mylist[2][1])\n"
   ]
  },
  {
   "cell_type": "code",
   "execution_count": 42,
   "id": "856a7579-67c2-4c84-9004-d5e4818b016e",
   "metadata": {},
   "outputs": [
    {
     "name": "stdout",
     "output_type": "stream",
     "text": [
      "Number of elements in sublist: 4\n",
      "Number of elements in sublist: 3\n",
      "Number of elements in sublist: 2\n"
     ]
    }
   ],
   "source": [
    "mylist=[\n",
    "    [\"Meera\",\"Priya\",\"Siya\",\"Rahul\"],\n",
    "    ['Python','Java','C'],\n",
    "    [True,False]\n",
    "]\n",
    "for a in mylist:\n",
    "    print(\"Number of elements in sublist:\",len(a))"
   ]
  },
  {
   "cell_type": "code",
   "execution_count": 50,
   "id": "0848063d-848f-438a-b649-68d42d1ee364",
   "metadata": {},
   "outputs": [
    {
     "name": "stdout",
     "output_type": "stream",
     "text": [
      "Nested list after reversing each sublist: [[3, 2, 1], ['c', 'b', 'a'], [False, True]]\n"
     ]
    }
   ],
   "source": [
    "mylist=[\n",
    "    [1,2,3],\n",
    "    ['a','b','c'],\n",
    "    [True,False]\n",
    "]\n",
    "for a in mylist:\n",
    "    a.reverse()\n",
    "print(\"Nested list after reversing each sublist:\",mylist)"
   ]
  },
  {
   "cell_type": "code",
   "execution_count": null,
   "id": "0681cb4a-590d-41d8-9985-41ad09956d99",
   "metadata": {},
   "outputs": [],
   "source": []
  }
 ],
 "metadata": {
  "kernelspec": {
   "display_name": "Python 3 (ipykernel)",
   "language": "python",
   "name": "python3"
  },
  "language_info": {
   "codemirror_mode": {
    "name": "ipython",
    "version": 3
   },
   "file_extension": ".py",
   "mimetype": "text/x-python",
   "name": "python",
   "nbconvert_exporter": "python",
   "pygments_lexer": "ipython3",
   "version": "3.12.4"
  }
 },
 "nbformat": 4,
 "nbformat_minor": 5
}
