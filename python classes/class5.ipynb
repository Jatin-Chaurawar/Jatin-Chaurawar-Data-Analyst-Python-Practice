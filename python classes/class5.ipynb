{
 "cells": [
  {
   "cell_type": "code",
   "execution_count": 3,
   "id": "8a66569f-b26e-49bb-87cb-dd2404f9db22",
   "metadata": {},
   "outputs": [
    {
     "name": "stdout",
     "output_type": "stream",
     "text": [
      "36 is my age\n"
     ]
    }
   ],
   "source": [
    "txt=\"36 is my age\"\n",
    "x=txt.capitalize()\n",
    "print(x)"
   ]
  },
  {
   "cell_type": "code",
   "execution_count": 7,
   "id": "0bd25f0f-dc81-4a6f-9acb-f3773a16c555",
   "metadata": {},
   "outputs": [
    {
     "name": "stdout",
     "output_type": "stream",
     "text": [
      "       banana       \n",
      "ooooooobananaooooooo\n"
     ]
    }
   ],
   "source": [
    "#center align\n",
    "txt='banana'\n",
    "x=txt.center(20)\n",
    "print(x)\n",
    "y=txt.center(20,\"o\")\n",
    "print(y)"
   ]
  },
  {
   "cell_type": "code",
   "execution_count": 9,
   "id": "3be12591-1f71-4ee3-8140-80e6a22659d1",
   "metadata": {},
   "outputs": [
    {
     "name": "stdout",
     "output_type": "stream",
     "text": [
      "2\n"
     ]
    }
   ],
   "source": [
    "#count\n",
    "txt=\"I love apples, apple are my favorite fruit\"\n",
    "x=txt.count(\"apple\")\n",
    "print(x)"
   ]
  },
  {
   "cell_type": "code",
   "execution_count": 11,
   "id": "75ca0f85-89ad-4358-8887-9be1fe69a2f4",
   "metadata": {},
   "outputs": [
    {
     "name": "stdout",
     "output_type": "stream",
     "text": [
      "1\n"
     ]
    }
   ],
   "source": [
    "#search from position (slicing)\n",
    "txt=\"I love apples, apple are my favorite fruit\"\n",
    "x=txt.count(\"apple\",10,24)\n",
    "print(x)"
   ]
  },
  {
   "cell_type": "code",
   "execution_count": 15,
   "id": "c4a72fe0-fbb0-4f0d-be06-1edc34344112",
   "metadata": {},
   "outputs": [
    {
     "name": "stdout",
     "output_type": "stream",
     "text": [
      "True\n",
      "False\n"
     ]
    }
   ],
   "source": [
    "#endswith method\n",
    "txt=\"Hello, welcome to my world.\"\n",
    "x=txt.endswith(\"my world.\")\n",
    "print(x)\n",
    "y=txt.endswith(\"my world.\",5,11)\n",
    "print(y)"
   ]
  },
  {
   "cell_type": "code",
   "execution_count": 17,
   "id": "02ceef68-a3be-4816-b91d-a4406df2af2c",
   "metadata": {},
   "outputs": [
    {
     "name": "stdout",
     "output_type": "stream",
     "text": [
      "True\n"
     ]
    }
   ],
   "source": [
    "#Startswith method\n",
    "txt=\"Hello. welcome to my world\"\n",
    "x=txt.startswith(\"wel\",7,20)\n",
    "print(x)"
   ]
  },
  {
   "cell_type": "code",
   "execution_count": 23,
   "id": "6fb61ecc-2340-4165-8b4d-b9f90ff86560",
   "metadata": {},
   "outputs": [
    {
     "name": "stdout",
     "output_type": "stream",
     "text": [
      "1\n",
      "7\n",
      "13\n"
     ]
    }
   ],
   "source": [
    "# find method\n",
    "txt=\"Hello. welcome to my world\"\n",
    "x=txt.find(\"e\") \n",
    "y=txt.find(\"welcome\")\n",
    "z=txt.rfind(\"e\")\n",
    "print(x)\n",
    "print(y)\n",
    "print(z)"
   ]
  },
  {
   "cell_type": "code",
   "execution_count": 25,
   "id": "de1f50c9-225f-4087-a08c-280dce07c55c",
   "metadata": {},
   "outputs": [
    {
     "name": "stdout",
     "output_type": "stream",
     "text": [
      "My name is Rashmi, I'm 36\n",
      "My name is Rashmi, I'm 36\n",
      "My name is Rashmi, I'm 36\n"
     ]
    }
   ],
   "source": [
    "#using different placeholder  values named index\n",
    "txt1=\"My name is {fname}, I'm {age}\".format(fname=\"Rashmi\",age=36)\n",
    "#numbered indexes\n",
    "txt2=\"My name is {0}, I'm {1}\".format(\"Rashmi\",36)\n",
    "#empty placeholder\n",
    "txt3=\"My name is {}, I'm {}\".format(\"Rashmi\",36)\n",
    "print(txt1)\n",
    "print(txt2)\n",
    "print(txt3)"
   ]
  },
  {
   "cell_type": "code",
   "execution_count": 29,
   "id": "91b84471-a2f6-40d5-a005-5f7b21054baa",
   "metadata": {},
   "outputs": [
    {
     "name": "stdout",
     "output_type": "stream",
     "text": [
      "Ninad#Vijay#Vicky\n",
      "nameTESTcountry\n"
     ]
    }
   ],
   "source": [
    "#join\n",
    "mytuple=(\"Ninad\",\"Vijay\",\"Vicky\")\n",
    "x=\"#\".join(mytuple)\n",
    "print(x)\n",
    "\n",
    "myDictionary={\"name\":\"Vinay\",\"country\":\"India\"}\n",
    "mySeparator=\"TEST\"\n",
    "y=mySeparator.join(myDictionary)\n",
    "print(y)"
   ]
  },
  {
   "cell_type": "code",
   "execution_count": 40,
   "id": "9ec2c56d-4fff-4541-88ef-a0038e8fecfc",
   "metadata": {},
   "outputs": [
    {
     "name": "stdout",
     "output_type": "stream",
     "text": [
      "banana               is my favorite fruit\n"
     ]
    }
   ],
   "source": [
    "#Ljust method\n",
    "txt=\"banana\"\n",
    "x=txt.ljust(20)\n",
    "print(x,\"is my favorite fruit\")"
   ]
  },
  {
   "cell_type": "code",
   "execution_count": 37,
   "id": "02abf99e-a3c9-4af4-be11-49bff5d4b667",
   "metadata": {},
   "outputs": [
    {
     "name": "stdout",
     "output_type": "stream",
     "text": [
      "              banana is my favorite fruit\n"
     ]
    }
   ],
   "source": [
    "#rjust method\n",
    "txt=\"banana\"\n",
    "x=txt.rjust(20)\n",
    "print(x,\"is my favorite fruit\")"
   ]
  },
  {
   "cell_type": "code",
   "execution_count": 46,
   "id": "95ca28ef-11b9-4d44-a1e9-7553ddd026db",
   "metadata": {},
   "outputs": [
    {
     "name": "stdout",
     "output_type": "stream",
     "text": [
      "('i could eat ', 'bananas', ' all day, bananas are my favorite fruits')\n",
      "('i could eat bananas all day, bananas are my favorite fruits', '', '')\n"
     ]
    }
   ],
   "source": [
    "#partition\n",
    "txt=\"i could eat bananas all day, bananas are my favorite fruits\"\n",
    "x=txt.partition(\"bananas\")\n",
    "print(x)\n",
    "txt=\"i could eat bananas all day, bananas are my favorite fruits\"\n",
    "x=txt.partition(\"apples\")\n",
    "print(x)"
   ]
  },
  {
   "cell_type": "code",
   "execution_count": 48,
   "id": "515bb619-a3f2-49a4-a95b-d8ea04369451",
   "metadata": {},
   "outputs": [
    {
     "name": "stdout",
     "output_type": "stream",
     "text": [
      "('i could eat bananas all day, ', 'bananas', ' are my favorite fruits')\n",
      "('', '', 'i could eat bananas all day, bananas are my favorite fruits')\n"
     ]
    }
   ],
   "source": [
    "txt=\"i could eat bananas all day, bananas are my favorite fruits\"\n",
    "x=txt.rpartition(\"bananas\")\n",
    "print(x)\n",
    "txt=\"i could eat bananas all day, bananas are my favorite fruits\"\n",
    "x=txt.rpartition(\"apples\")\n",
    "print(x)"
   ]
  },
  {
   "cell_type": "code",
   "execution_count": 56,
   "id": "0ee2d008-4f2c-4ff7-a56b-e1ebba3e75de",
   "metadata": {},
   "outputs": [
    {
     "name": "stdout",
     "output_type": "stream",
     "text": [
      "original text:'***Hello, World!***'\n",
      "stripped text:'Hello, World!'\n"
     ]
    }
   ],
   "source": [
    "#stripped method\n",
    "a=\"***Hello, World!***\"\n",
    "b=a.strip('*')\n",
    "print(f\"original text:'{a}'\")\n",
    "print(f\"stripped text:'{b}'\")\n"
   ]
  },
  {
   "cell_type": "code",
   "execution_count": 58,
   "id": "f5711e9e-f3fc-46d3-b9d1-3b072045e772",
   "metadata": {},
   "outputs": [
    {
     "name": "stdout",
     "output_type": "stream",
     "text": [
      "original text:'***Hello, World!***'\n",
      "lstripped text:'Hello, World!***'\n"
     ]
    }
   ],
   "source": [
    "#lstripped method\n",
    "a=\"***Hello, World!***\"\n",
    "b=a.lstrip('*')\n",
    "print(f\"original text:'{a}'\")\n",
    "print(f\"lstripped text:'{b}'\")\n"
   ]
  },
  {
   "cell_type": "code",
   "execution_count": 60,
   "id": "6dfced37-030c-442c-9e39-c3b40b68e448",
   "metadata": {},
   "outputs": [
    {
     "name": "stdout",
     "output_type": "stream",
     "text": [
      "original text:'***Hello, World!***'\n",
      "rstripped text:'***Hello, World!'\n"
     ]
    }
   ],
   "source": [
    "#rstripped method\n",
    "a=\"***Hello, World!***\"\n",
    "b=a.rstrip('*')\n",
    "print(f\"original text:'{a}'\")\n",
    "print(f\"rstripped text:'{b}'\")\n"
   ]
  },
  {
   "cell_type": "code",
   "execution_count": 64,
   "id": "a91a280a-566d-44fb-a836-8498a75f993d",
   "metadata": {},
   "outputs": [
    {
     "name": "stdout",
     "output_type": "stream",
     "text": [
      "['hello', ' my name is priya', ' i am 26 year old']\n"
     ]
    }
   ],
   "source": [
    "#split \n",
    "txt=\"hello, my name is priya, i am 26 year old\"\n",
    "x=txt.split(\",\")\n",
    "print(x)"
   ]
  },
  {
   "cell_type": "code",
   "execution_count": null,
   "id": "5251f97b-2013-426c-ab53-f53d06cafa77",
   "metadata": {},
   "outputs": [],
   "source": []
  }
 ],
 "metadata": {
  "kernelspec": {
   "display_name": "Python 3 (ipykernel)",
   "language": "python",
   "name": "python3"
  },
  "language_info": {
   "codemirror_mode": {
    "name": "ipython",
    "version": 3
   },
   "file_extension": ".py",
   "mimetype": "text/x-python",
   "name": "python",
   "nbconvert_exporter": "python",
   "pygments_lexer": "ipython3",
   "version": "3.12.4"
  }
 },
 "nbformat": 4,
 "nbformat_minor": 5
}
