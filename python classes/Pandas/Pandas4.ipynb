{
 "cells": [
  {
   "cell_type": "code",
   "execution_count": 1,
   "id": "ba0ba393-05fa-4821-9815-211fce955fbc",
   "metadata": {},
   "outputs": [
    {
     "name": "stdout",
     "output_type": "stream",
     "text": [
      "   Student_Id  Python_Marks  DS_Marks  DA_Marks\n",
      "0       S_101            67        77        80\n",
      "1       S_102            89        88        90\n",
      "2       S_103           100        99       100\n",
      "3       S_104            90        66        78\n",
      "4       S_105            87        55        39\n",
      "5       S_106            59        44        48\n",
      "6       S_107            39        45        58\n",
      "7       S_108            69        49        69\n",
      "8       S_109            78        89        29\n",
      "9       S_110            78        67        49\n",
      "10      S_111            49        39        59\n",
      "11      S_112            90        67        60\n",
      "12      S_113            80        77        59\n",
      "13      S_114            78        78        77\n",
      "14      S_115            89        89        88\n",
      "15      S_116            60        89        99\n",
      "16      S_117            90       100        66\n",
      "17      S_118            61        90        55\n",
      "18      S_119            98        87        44\n",
      "19      S_120            76        59        56\n",
      "20      S_121            67        39        57\n",
      "21      S_122            80        69        89\n",
      "22      S_123            90        78        89\n",
      "23      S_124           100        78        90\n",
      "24      S_125            78        49        98\n",
      "25      S_126            39        90        97\n",
      "26      S_127            48        80        66\n",
      "27      S_128            58        78        69\n",
      "28      S_129            69        89        98\n",
      "29      S_130            29        60        89\n",
      "30      S_131            49        90        87\n",
      "31      S_132            59        61        78\n",
      "32      S_133            60        98        67\n",
      "33      S_134            59        77        86\n",
      "34      S_135            77        56        78\n",
      "35      S_136            88        89        89\n",
      "36      S_137            99        89        90\n",
      "37      S_138            66        67        97\n",
      "38      S_139            55        45        95\n",
      "39      S_140            44        67        67\n",
      "40      S_141            45        78        43\n",
      "41      S_142            49        56        56\n",
      "42      S_143            89        89        67\n",
      "43      S_144            67        90        78\n",
      "44      S_145            39       100        89\n",
      "45      S_146            67        18        90\n",
      "46      S_147            77        45        67\n",
      "47      S_148            78        67        44\n",
      "48      S_149            89        80        56\n"
     ]
    }
   ],
   "source": [
    "# Reading json file\n",
    "import pandas as pd\n",
    "a=pd.read_json('pdfile3.json')\n",
    "print(a)"
   ]
  },
  {
   "cell_type": "code",
   "execution_count": 2,
   "id": "b974ae93-fcc7-4e99-b2fe-0f59e2fdb5a9",
   "metadata": {},
   "outputs": [
    {
     "name": "stdout",
     "output_type": "stream",
     "text": [
      "                           ProductName   Brand  Ratings  No_of_ratings  \\\n",
      "0        realme 9i (Prism Blue, 64 GB)  realme      4.5         111865   \n",
      "1       realme 9i (Prism Black, 64 GB)  realme      4.5         111865   \n",
      "2       realme 9i (Prism Blue, 128 GB)  realme      4.5          25380   \n",
      "3      realme 9i (Prism Black, 128 GB)  realme      4.5         111865   \n",
      "4       realme 9i (Prism Blue, 128 GB)  realme      4.5         111865   \n",
      "..                                 ...     ...      ...            ...   \n",
      "270   vivo T1X (Gravity Black, 128 GB)    vivo      4.5          65274   \n",
      "271      vivo T1X (Space Blue, 128 GB)    vivo      4.5          65274   \n",
      "272  realme 9 (Stargaze White, 128 GB)  realme      4.4          19675   \n",
      "273   POCO M4 5G (Power Black, 128 GB)    POCO      4.1          21734   \n",
      "274   realme 9 (Sunburst Gold, 128 GB)  realme      4.4          19675   \n",
      "\n",
      "     No_of_reviews    MSP    MRP  Discount  \n",
      "0             6611  10999  15999      5000  \n",
      "1             6611  10999  15999      5000  \n",
      "2             1517  13499  17999      4500  \n",
      "3             6611  10999  16999      6000  \n",
      "4             6611  10999  16999      6000  \n",
      "..             ...    ...    ...       ...  \n",
      "270           3701  12999  17990      4991  \n",
      "271           3701  12999  17990      4991  \n",
      "272           1484  14999  22999      8000  \n",
      "273           1799  12999  18999      6000  \n",
      "274           1484  14999  22999      8000  \n",
      "\n",
      "[275 rows x 8 columns]\n"
     ]
    },
    {
     "name": "stderr",
     "output_type": "stream",
     "text": [
      "C:\\Users\\jatin\\AppData\\Local\\Temp\\ipykernel_9692\\2588602523.py:11: UserWarning: pandas only supports SQLAlchemy connectable (engine/connection) or database string URI or sqlite3 DBAPI2 connection. Other DBAPI2 objects are not tested. Please consider using SQLAlchemy.\n",
      "  df=pd.read_sql(query,connection)\n"
     ]
    }
   ],
   "source": [
    "import pandas as pd\n",
    "import mysql.connector\n",
    "#Database details\n",
    "host='127.0.0.1'\n",
    "user='root'\n",
    "password='J@tin145#'\n",
    "database='flipkart'\n",
    "#establish a connection to the mysql database\n",
    "connection=mysql.connector.connect(host=host,user=user,password=password,database=database)\n",
    "query='SELECT * FROM products'\n",
    "df=pd.read_sql(query,connection)\n",
    "connection.close()\n",
    "print(df)"
   ]
  },
  {
   "cell_type": "code",
   "execution_count": null,
   "id": "9ce685a5-44fc-4f01-8495-04ec653d33cb",
   "metadata": {},
   "outputs": [],
   "source": [
    "#adding new column\n",
    "import pandas as pd \n",
    "#creating a dataframe\n",
    "mydata={'Name':['Kuniket','Mrudul','Shubham','Pallavi'],'Age':[25,26,30,27]}\n",
    "a=pd.DataFrame(mydata)\n",
    "#adding new column\n",
    "a['City']=['Nagpur','Pune','Satara','Mumbai']\n",
    "print(a)"
   ]
  },
  {
   "cell_type": "code",
   "execution_count": null,
   "id": "c7b63979-ca57-499f-b7a7-12ec8bac2214",
   "metadata": {},
   "outputs": [],
   "source": [
    "#adding new column\n",
    "import pandas as pd \n",
    "#creating a dataframe\n",
    "mydata={'Name':['Kuniket','Mrudul','Shubham','Pallavi'],'Age':[25,26,30,27]}\n",
    "a=pd.DataFrame(mydata)\n",
    "#adding new column\n",
    "a['City']=['Nagpur','Pune','Satara','Mumbai']\n",
    "print(a)\n",
    "#removing the 'age'column\n",
    "b=a.drop('Age',axis=1)\n",
    "print(b)"
   ]
  },
  {
   "cell_type": "code",
   "execution_count": null,
   "id": "6070fe7f-753b-4955-858a-a0e89b7ce061",
   "metadata": {},
   "outputs": [],
   "source": [
    "import pandas as pd \n",
    "#creating a sample DataFrame\n",
    "data={\n",
    "    'Product':['A','B','A','B','A','B','A','A'],\n",
    "    'Region':['NOrth','South','NOrth','South','NOrth','South','NOrth','South'],\n",
    "    'Sales':[100,150,200,120,180,130,220,170]\n",
    "}\n",
    "a=pd.DataFrame(data)\n",
    "print(\"Original DataFrame:\")\n",
    "print(a)"
   ]
  },
  {
   "cell_type": "code",
   "execution_count": null,
   "id": "40de2d81-c763-4c70-84fa-4b8365d1a919",
   "metadata": {},
   "outputs": [],
   "source": [
    "import pandas as pd \n",
    "#creating a sample DataFrame\n",
    "data={\n",
    "    'Product':['A','B','A','B','A','B','A','A'],\n",
    "    'Region':['NOrth','South','NOrth','South','NOrth','South','NOrth','South'],\n",
    "    'Sales':[100,150,200,120,180,130,220,170]\n",
    "}\n",
    "a=pd.DataFrame(data)\n",
    "#aggregating total sales per product\n",
    "total_sales=a.groupby('Product')['Sales'].sum()\n",
    "print(\"\\nTotal sales per Product:\")\n",
    "print(total_sales)"
   ]
  },
  {
   "cell_type": "code",
   "execution_count": null,
   "id": "9081cc82-7178-4e26-837a-f0d7d43164f0",
   "metadata": {},
   "outputs": [],
   "source": [
    "import pandas as pd \n",
    "#creating a sample DataFrame\n",
    "data=[\n",
    "    {'Name':'Rakesh','Age':25,'City':'Pune'},\n",
    "    {'Name':'Pushpak','Age':21},\n",
    "    {'Name':'Mrudul','Age':27,'City':'Chandrapur'},\n",
    "    {'Age':25,'City':'Nagpur'},\n",
    "]\n",
    "a=pd.DataFrame(data)\n",
    "# Display the resulting DataFrame\n",
    "print(\"Dataframe from ragged Data:\")\n",
    "print(a)"
   ]
  },
  {
   "cell_type": "code",
   "execution_count": null,
   "id": "e4182c3a-f308-4d76-be08-deca86bc1702",
   "metadata": {},
   "outputs": [],
   "source": []
  }
 ],
 "metadata": {
  "kernelspec": {
   "display_name": "Python 3 (ipykernel)",
   "language": "python",
   "name": "python3"
  },
  "language_info": {
   "codemirror_mode": {
    "name": "ipython",
    "version": 3
   },
   "file_extension": ".py",
   "mimetype": "text/x-python",
   "name": "python",
   "nbconvert_exporter": "python",
   "pygments_lexer": "ipython3",
   "version": "3.12.2"
  }
 },
 "nbformat": 4,
 "nbformat_minor": 5
}
