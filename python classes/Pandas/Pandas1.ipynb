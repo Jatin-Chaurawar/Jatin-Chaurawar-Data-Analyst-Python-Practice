{
 "cells": [
  {
   "cell_type": "code",
   "execution_count": 1,
   "id": "ab119700-7782-4528-814b-ccf2cc4026a7",
   "metadata": {},
   "outputs": [
    {
     "name": "stdout",
     "output_type": "stream",
     "text": [
      "1\n"
     ]
    }
   ],
   "source": [
    "import pandas as pd \n",
    "a=[1,2,7]\n",
    "b=pd.Series(a)\n",
    "print(b[0])"
   ]
  },
  {
   "cell_type": "code",
   "execution_count": 3,
   "id": "b3b212c7-a08a-4420-beab-dfd7cdce7ed6",
   "metadata": {},
   "outputs": [
    {
     "name": "stdout",
     "output_type": "stream",
     "text": [
      "x    1\n",
      "y    7\n",
      "z    2\n",
      "dtype: int64\n"
     ]
    }
   ],
   "source": [
    "#labling\n",
    "import pandas as pd \n",
    "a=[1,7,2]\n",
    "b=pd.Series(a,index =[\"x\",\"y\",\"z\"])\n",
    "print(b)"
   ]
  },
  {
   "cell_type": "code",
   "execution_count": 5,
   "id": "80477578-f3b2-4115-a32e-12d2df18c7b3",
   "metadata": {},
   "outputs": [
    {
     "name": "stdout",
     "output_type": "stream",
     "text": [
      "7\n"
     ]
    }
   ],
   "source": [
    "#creating lable and accessing them\n",
    "import pandas as pd \n",
    "a=[1,7,2]\n",
    "b=pd.Series(a,index =[\"x\",\"y\",\"z\"])\n",
    "print(b[\"y\"])"
   ]
  },
  {
   "cell_type": "code",
   "execution_count": 7,
   "id": "58989db2-ce21-48e7-a1f1-7dd2bb1690c3",
   "metadata": {},
   "outputs": [
    {
     "name": "stdout",
     "output_type": "stream",
     "text": [
      "day1    420\n",
      "day2    380\n",
      "day3    390\n",
      "dtype: int64\n"
     ]
    }
   ],
   "source": [
    "#using dictionary for create a set\n",
    "mydata={\"day1\":420,\"day2\":380,\"day3\":390}\n",
    "a=pd.Series(mydata)\n",
    "print(a)"
   ]
  },
  {
   "cell_type": "code",
   "execution_count": 13,
   "id": "e5d677e6-4c82-4509-b760-94b182747051",
   "metadata": {},
   "outputs": [
    {
     "name": "stdout",
     "output_type": "stream",
     "text": [
      "student1    42\n",
      "student3    39\n",
      "dtype: int64\n"
     ]
    }
   ],
   "source": [
    "#accesing item using key\n",
    "mystudents={\"student1\":42,\"student2\":38,\"student3\":39}\n",
    "a=pd.Series(mystudents,index=[\"student1\",\"student3\"])\n",
    "print(a)"
   ]
  },
  {
   "cell_type": "code",
   "execution_count": 17,
   "id": "abb05edc-0f46-4807-b0bf-80d9064ca69b",
   "metadata": {},
   "outputs": [
    {
     "name": "stdout",
     "output_type": "stream",
     "text": [
      "   English  Hindi\n",
      "0      420     50\n",
      "1      380     40\n",
      "2      390     45\n"
     ]
    }
   ],
   "source": [
    "#creating a data frane from two series\n",
    "import pandas as pd\n",
    "mydata={\"English\":[420,380,390],\"Hindi\":[50,40,45]}\n",
    "a=pd.DataFrame(mydata)\n",
    "print(a)"
   ]
  },
  {
   "cell_type": "code",
   "execution_count": 19,
   "id": "7e86ae19-f5aa-4e26-a2bc-42079fa238e9",
   "metadata": {},
   "outputs": [
    {
     "name": "stdout",
     "output_type": "stream",
     "text": [
      "studentid     1\n",
      "Marks        50\n",
      "Name: 0, dtype: int64\n"
     ]
    }
   ],
   "source": [
    "#locating rows\n",
    "mydata={\"studentid\":[1,2,3],\"Marks\":[50,40,45]}\n",
    "#load data into a DataFrame object\n",
    "a=pd.DataFrame(mydata)\n",
    "print(a.loc[0])"
   ]
  },
  {
   "cell_type": "code",
   "execution_count": 21,
   "id": "644c1d5f-2a26-48f5-b2df-35ecffe25ae7",
   "metadata": {},
   "outputs": [
    {
     "name": "stdout",
     "output_type": "stream",
     "text": [
      "   studentid  Marks\n",
      "0          1     50\n",
      "1          2     40\n"
     ]
    }
   ],
   "source": [
    "#locating rows\n",
    "mydata={\"studentid\":[1,2,3],\"Marks\":[50,40,45]}\n",
    "#load data into a DataFrame object\n",
    "a=pd.DataFrame(mydata)\n",
    "print(a.loc[[0,1]])"
   ]
  },
  {
   "cell_type": "code",
   "execution_count": 23,
   "id": "d6940bcf-5504-48f6-be82-e36a4e86e4ab",
   "metadata": {},
   "outputs": [
    {
     "name": "stdout",
     "output_type": "stream",
     "text": [
      "         Subject  Marks\n",
      "Student1     Eng     50\n",
      "Student2     Hin     40\n",
      "Student3     Mat     45\n"
     ]
    }
   ],
   "source": [
    "#locating rows\n",
    "mydata={\"Subject\":[\"Eng\",\"Hin\",\"Mat\"],\"Marks\":[50,40,45]}\n",
    "#load data into a DataFrame object\n",
    "a=pd.DataFrame(mydata,index=[\"Student1\",\"Student2\",\"Student3\"])\n",
    "print(a)"
   ]
  },
  {
   "cell_type": "code",
   "execution_count": 27,
   "id": "3f4e5f03-8370-4912-aa72-25567f601beb",
   "metadata": {},
   "outputs": [
    {
     "name": "stdout",
     "output_type": "stream",
     "text": [
      "Subject    Hin\n",
      "Marks       40\n",
      "Name: Student2, dtype: object\n"
     ]
    }
   ],
   "source": [
    "#locating rows\n",
    "mydata={\"Subject\":[\"Eng\",\"Hin\",\"Mat\"],\"Marks\":[50,40,45]}\n",
    "#load data into a DataFrame object\n",
    "a=pd.DataFrame(mydata,index=[\"Student1\",\"Student2\",\"Student3\"])\n",
    "print(a.loc[\"Student2\"])"
   ]
  },
  {
   "cell_type": "code",
   "execution_count": null,
   "id": "9ccf2eaf-e629-4ca2-af6a-145cb32e3469",
   "metadata": {},
   "outputs": [],
   "source": []
  }
 ],
 "metadata": {
  "kernelspec": {
   "display_name": "Python 3 (ipykernel)",
   "language": "python",
   "name": "python3"
  },
  "language_info": {
   "codemirror_mode": {
    "name": "ipython",
    "version": 3
   },
   "file_extension": ".py",
   "mimetype": "text/x-python",
   "name": "python",
   "nbconvert_exporter": "python",
   "pygments_lexer": "ipython3",
   "version": "3.12.4"
  }
 },
 "nbformat": 4,
 "nbformat_minor": 5
}
