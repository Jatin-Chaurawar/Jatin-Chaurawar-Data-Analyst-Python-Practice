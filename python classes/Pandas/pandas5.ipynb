{
 "cells": [
  {
   "cell_type": "code",
   "execution_count": 2,
   "id": "f874f812-815b-4f54-8c61-2fff87e40ac2",
   "metadata": {},
   "outputs": [
    {
     "name": "stdout",
     "output_type": "stream",
     "text": [
      "   Student_Id  Python_Marks  DS_Marks  DA_Marks\n",
      "0       S_101            67        77        80\n",
      "1       S_102            89        88        90\n",
      "2       S_103           100        99       100\n",
      "3       S_104            90        66        78\n",
      "4       S_105            87        55        39\n",
      "5       S_106            59        44        48\n",
      "6       S_107            39        45        58\n",
      "7       S_108            69        49        69\n",
      "8       S_109            78        89        29\n",
      "9       S_110            78        67        49\n",
      "10      S_111            49        39        59\n",
      "11      S_112            90        67        60\n",
      "12      S_113            80        77        59\n",
      "13      S_114            78        78        77\n",
      "14      S_115            89        89        88\n",
      "15      S_116            60        89        99\n",
      "16      S_117            90       100        66\n",
      "17      S_118            61        90        55\n",
      "18      S_119            98        87        44\n",
      "19      S_120            76        59        56\n",
      "20      S_121            67        39        57\n",
      "21      S_122            80        69        89\n",
      "22      S_123            90        78        89\n",
      "23      S_124           100        78        90\n",
      "24      S_125            78        49        98\n",
      "25      S_126            39        90        97\n",
      "26      S_127            48        80        66\n",
      "27      S_128            58        78        69\n",
      "28      S_129            69        89        98\n",
      "29      S_130            29        60        89\n",
      "30      S_131            49        90        87\n",
      "31      S_132            59        61        78\n",
      "32      S_133            60        98        67\n",
      "33      S_134            59        77        86\n",
      "34      S_135            77        56        78\n",
      "35      S_136            88        89        89\n",
      "36      S_137            99        89        90\n",
      "37      S_138            66        67        97\n",
      "38      S_139            55        45        95\n",
      "39      S_140            44        67        67\n",
      "40      S_141            45        78        43\n",
      "41      S_142            49        56        56\n",
      "42      S_143            89        89        67\n",
      "43      S_144            67        90        78\n",
      "44      S_145            39       100        89\n",
      "45      S_146            67        18        90\n",
      "46      S_147            77        45        67\n",
      "47      S_148            78        67        44\n",
      "48      S_149            89        80        56\n"
     ]
    }
   ],
   "source": [
    "# reading csv\n",
    "\n",
    "import pandas as pd\n",
    "\n",
    "a= pd.read_csv('pdfile.csv')\n",
    "print(a.to_string())"
   ]
  },
  {
   "cell_type": "code",
   "execution_count": 4,
   "id": "f01fc762-ed68-40d3-9182-4a3eaa3b465f",
   "metadata": {},
   "outputs": [
    {
     "name": "stdout",
     "output_type": "stream",
     "text": [
      "   Student_Id  Python_Marks  DS_Marks  DA_Marks\n",
      "0       S_101            67        77        80\n",
      "1       S_102            89        88        90\n",
      "2       S_103           100        99       100\n",
      "3       S_104            90        66        78\n",
      "4       S_105            87        55        39\n",
      "5       S_106            59        44        48\n",
      "6       S_107            39        45        58\n",
      "7       S_108            69        49        69\n",
      "8       S_109            78        89        29\n",
      "9       S_110            78        67        49\n",
      "10      S_111            49        39        59\n",
      "11      S_112            90        67        60\n",
      "12      S_113            80        77        59\n",
      "13      S_114            78        78        77\n",
      "14      S_115            89        89        88\n",
      "15      S_116            60        89        99\n",
      "16      S_117            90       100        66\n",
      "17      S_118            61        90        55\n",
      "18      S_119            98        87        44\n",
      "19      S_120            76        59        56\n",
      "20      S_121            67        39        57\n",
      "21      S_122            80        69        89\n",
      "22      S_123            90        78        89\n",
      "23      S_124           100        78        90\n",
      "24      S_125            78        49        98\n",
      "25      S_126            39        90        97\n",
      "26      S_127            48        80        66\n",
      "27      S_128            58        78        69\n",
      "28      S_129            69        89        98\n",
      "29      S_130            29        60        89\n",
      "30      S_131            49        90        87\n",
      "31      S_132            59        61        78\n",
      "32      S_133            60        98        67\n",
      "33      S_134            59        77        86\n",
      "34      S_135            77        56        78\n",
      "35      S_136            88        89        89\n",
      "36      S_137            99        89        90\n",
      "37      S_138            66        67        97\n",
      "38      S_139            55        45        95\n",
      "39      S_140            44        67        67\n",
      "40      S_141            45        78        43\n",
      "41      S_142            49        56        56\n",
      "42      S_143            89        89        67\n",
      "43      S_144            67        90        78\n",
      "44      S_145            39       100        89\n",
      "45      S_146            67        18        90\n",
      "46      S_147            77        45        67\n",
      "47      S_148            78        67        44\n",
      "48      S_149            89        80        56\n"
     ]
    }
   ],
   "source": [
    "# reading json\n",
    "\n",
    "import pandas as pd\n",
    "\n",
    "a= pd.read_json('pdfile5.txt')\n",
    "print(a)"
   ]
  },
  {
   "cell_type": "code",
   "execution_count": 9,
   "id": "fcb4c4f0-d06e-4a31-a66b-9d54a4882674",
   "metadata": {
    "scrolled": true
   },
   "outputs": [
    {
     "name": "stdout",
     "output_type": "stream",
     "text": [
      "   Student_Id  Python_Marks  DS_Marks  DA_Marks\n",
      "0       S_101            67        77        80\n",
      "1       S_102            89        88        90\n",
      "2       S_103           100        99       100\n",
      "3       S_104            90        66        78\n",
      "4       S_105            87        55        39\n",
      "5       S_106            59        44        48\n",
      "6       S_107            39        45        58\n",
      "7       S_108            69        49        69\n",
      "8       S_109            78        89        29\n",
      "9       S_110            78        67        49\n",
      "10      S_111            49        39        59\n",
      "11      S_112            90        67        60\n",
      "12      S_113            80        77        59\n",
      "13      S_114            78        78        77\n",
      "14      S_115            89        89        88\n",
      "15      S_116            60        89        99\n",
      "16      S_117            90       100        66\n",
      "17      S_118            61        90        55\n",
      "18      S_119            98        87        44\n",
      "19      S_120            76        59        56\n",
      "20      S_121            67        39        57\n",
      "21      S_122            80        69        89\n",
      "22      S_123            90        78        89\n",
      "23      S_124           100        78        90\n",
      "24      S_125            78        49        98\n",
      "25      S_126            39        90        97\n",
      "26      S_127            48        80        66\n",
      "27      S_128            58        78        69\n",
      "28      S_129            69        89        98\n",
      "29      S_130            29        60        89\n",
      "30      S_131            49        90        87\n",
      "31      S_132            59        61        78\n",
      "32      S_133            60        98        67\n",
      "33      S_134            59        77        86\n",
      "34      S_135            77        56        78\n",
      "35      S_136            88        89        89\n",
      "36      S_137            99        89        90\n",
      "37      S_138            66        67        97\n",
      "38      S_139            55        45        95\n",
      "39      S_140            44        67        67\n",
      "40      S_141            45        78        43\n",
      "41      S_142            49        56        56\n",
      "42      S_143            89        89        67\n",
      "43      S_144            67        90        78\n",
      "44      S_145            39       100        89\n",
      "45      S_146            67        18        90\n",
      "46      S_147            77        45        67\n",
      "47      S_148            78        67        44\n",
      "48      S_149            89        80        56\n"
     ]
    }
   ],
   "source": [
    "# reading sls\n",
    "\n",
    "import pandas as pd\n",
    "\n",
    "a= pd.read_excel('pdfile1.xls')\n",
    "print(a)"
   ]
  },
  {
   "cell_type": "code",
   "execution_count": 11,
   "id": "e77033ad-7da8-490f-b013-6f3c2e09f125",
   "metadata": {},
   "outputs": [
    {
     "name": "stdout",
     "output_type": "stream",
     "text": [
      "   Student_Id  Python_Marks  DS_Marks  DA_Marks\n",
      "0       S_101            67        77        80\n",
      "1       S_102            89        88        90\n",
      "2       S_103           100        99       100\n",
      "3       S_104            90        66        78\n",
      "4       S_105            87        55        39\n",
      "5       S_106            59        44        48\n",
      "6       S_107            39        45        58\n",
      "7       S_108            69        49        69\n",
      "8       S_109            78        89        29\n",
      "9       S_110            78        67        49\n",
      "10      S_111            49        39        59\n",
      "11      S_112            90        67        60\n",
      "12      S_113            80        77        59\n",
      "13      S_114            78        78        77\n",
      "14      S_115            89        89        88\n",
      "15      S_116            60        89        99\n",
      "16      S_117            90       100        66\n",
      "17      S_118            61        90        55\n",
      "18      S_119            98        87        44\n",
      "19      S_120            76        59        56\n",
      "20      S_121            67        39        57\n",
      "21      S_122            80        69        89\n",
      "22      S_123            90        78        89\n",
      "23      S_124           100        78        90\n",
      "24      S_125            78        49        98\n",
      "25      S_126            39        90        97\n",
      "26      S_127            48        80        66\n",
      "27      S_128            58        78        69\n",
      "28      S_129            69        89        98\n",
      "29      S_130            29        60        89\n",
      "30      S_131            49        90        87\n",
      "31      S_132            59        61        78\n",
      "32      S_133            60        98        67\n",
      "33      S_134            59        77        86\n",
      "34      S_135            77        56        78\n",
      "35      S_136            88        89        89\n",
      "36      S_137            99        89        90\n",
      "37      S_138            66        67        97\n",
      "38      S_139            55        45        95\n",
      "39      S_140            44        67        67\n",
      "40      S_141            45        78        43\n",
      "41      S_142            49        56        56\n",
      "42      S_143            89        89        67\n",
      "43      S_144            67        90        78\n",
      "44      S_145            39       100        89\n",
      "45      S_146            67        18        90\n",
      "46      S_147            77        45        67\n",
      "47      S_148            78        67        44\n",
      "48      S_149            89        80        56\n"
     ]
    }
   ],
   "source": [
    "# reading sls\n",
    "\n",
    "import pandas as pd\n",
    "\n",
    "a= pd.read_excel('pdfile2.xlsx')\n",
    "print(a)"
   ]
  },
  {
   "cell_type": "code",
   "execution_count": 12,
   "id": "652c142a-596f-4b6b-b944-51a2031730bb",
   "metadata": {},
   "outputs": [
    {
     "name": "stdout",
     "output_type": "stream",
     "text": [
      "   Student_Id  Python_Marks  DS_Marks  DA_Marks\n",
      "0       S_101            67        77        80\n",
      "1       S_102            89        88        90\n",
      "2       S_103           100        99       100\n",
      "3       S_104            90        66        78\n",
      "4       S_105            87        55        39\n",
      "5       S_106            59        44        48\n",
      "6       S_107            39        45        58\n",
      "7       S_108            69        49        69\n",
      "8       S_109            78        89        29\n",
      "9       S_110            78        67        49\n",
      "10      S_111            49        39        59\n",
      "11      S_112            90        67        60\n",
      "12      S_113            80        77        59\n",
      "13      S_114            78        78        77\n",
      "14      S_115            89        89        88\n",
      "15      S_116            60        89        99\n",
      "16      S_117            90       100        66\n",
      "17      S_118            61        90        55\n",
      "18      S_119            98        87        44\n",
      "19      S_120            76        59        56\n",
      "20      S_121            67        39        57\n",
      "21      S_122            80        69        89\n",
      "22      S_123            90        78        89\n",
      "23      S_124           100        78        90\n",
      "24      S_125            78        49        98\n",
      "25      S_126            39        90        97\n",
      "26      S_127            48        80        66\n",
      "27      S_128            58        78        69\n",
      "28      S_129            69        89        98\n",
      "29      S_130            29        60        89\n",
      "30      S_131            49        90        87\n",
      "31      S_132            59        61        78\n",
      "32      S_133            60        98        67\n",
      "33      S_134            59        77        86\n",
      "34      S_135            77        56        78\n",
      "35      S_136            88        89        89\n",
      "36      S_137            99        89        90\n",
      "37      S_138            66        67        97\n",
      "38      S_139            55        45        95\n",
      "39      S_140            44        67        67\n",
      "40      S_141            45        78        43\n",
      "41      S_142            49        56        56\n",
      "42      S_143            89        89        67\n",
      "43      S_144            67        90        78\n",
      "44      S_145            39       100        89\n",
      "45      S_146            67        18        90\n",
      "46      S_147            77        45        67\n",
      "47      S_148            78        67        44\n",
      "48      S_149            89        80        56\n"
     ]
    }
   ],
   "source": [
    "# reading json file\n",
    "\n",
    "import pandas as pd\n",
    "\n",
    "a= pd.read_json('pdfile3.json')\n",
    "print(a)"
   ]
  },
  {
   "cell_type": "code",
   "execution_count": 14,
   "id": "2367f8db-d3bd-48a7-b4aa-bba0b88a2642",
   "metadata": {},
   "outputs": [
    {
     "name": "stdout",
     "output_type": "stream",
     "text": [
      "   id first_name  last_name                      email      mobile  age\n",
      "0   1     Kuldip   Fulpagar  kuldip.fulpagar@gmail.com  9879876543   30\n",
      "1   2      Priti  Sharnagat  priti.sharnagat@gmail.com  9876543217   27\n",
      "2   3      Swati      Sarve      sarve.swati@gmail.com  9898989898   17\n",
      "3   4     Palash     Sahare    palash.sahare@gmail.com  7891787651   29\n",
      "4   5     Dhiraj     Borkar     dhira.borkar@gmail.com  8798765432   24\n"
     ]
    }
   ],
   "source": [
    "# reading qulite file\n",
    "import sqlite3\n",
    "\n",
    "# connect to the sqlite database\n",
    "a= sqlite3.connect('pdfile4.db')\n",
    "# write your sql qyary\n",
    "\n",
    "query= 'SELECT * FROM myinfo;'\n",
    "b= pd.read_sql(query,a)\n",
    "# claose the database conncetion\n",
    "\n",
    "a.close()\n",
    "# display the dataframe\n",
    "print(b)"
   ]
  },
  {
   "cell_type": "code",
   "execution_count": 2,
   "id": "fbbbd1ed-b02b-45f0-b65e-061bf0217bdf",
   "metadata": {},
   "outputs": [
    {
     "name": "stdout",
     "output_type": "stream",
     "text": [
      "0     Karan\n",
      "1    Gautam\n",
      "2     Arpan\n",
      "Name: class2, dtype: object\n",
      "   class2     class3\n",
      "0   Karan  Venkytesh\n",
      "1  Gautam      Pawan\n",
      "2   Arpan     Nilesh\n",
      "class1    Sayali\n",
      "class2    Gautam\n",
      "class3     Pawan\n",
      "Name: Y, dtype: object\n",
      "class1    Sayali\n",
      "class2    Gautam\n",
      "class3     Pawan\n",
      "Name: Y, dtype: object\n"
     ]
    }
   ],
   "source": [
    "import pandas as pd\n",
    "# select single column\n",
    "# create dataframe\n",
    "mydata= {'class1':['Diksha','Sayali','Vaishnavi'],'class2':['Karan','Gautam','Arpan'],'class3':['Venkytesh','Pawan','Nilesh']}\n",
    "\n",
    "a= pd.DataFrame(mydata)\n",
    "# select a single column\n",
    "b= a['class2']\n",
    "print(b)\n",
    "\n",
    "# selecting multipal column\n",
    "c= a[['class2','class3']]\n",
    "print(c)\n",
    "\n",
    "# set row lable\n",
    "a.index=['X','Y','Z']\n",
    "#selecting rows by lable \n",
    "c=a.loc['Y']\n",
    "print(c)\n",
    "#selecting rows by index\n",
    "d=a.iloc[1]\n",
    "print(d)"
   ]
  },
  {
   "cell_type": "code",
   "execution_count": 8,
   "id": "c3b7a1c1-0bb0-48c5-9d8e-13b6cfe2b155",
   "metadata": {},
   "outputs": [
    {
     "name": "stdout",
     "output_type": "stream",
     "text": [
      "   A  B  C\n",
      "1  2  5  8\n",
      "2  3  6  9\n",
      "   A  B  C\n",
      "1  2  5  8\n",
      "2  3  6  9\n"
     ]
    }
   ],
   "source": [
    "import pandas as pd \n",
    "#creating a dataframe \n",
    "data={'A':[1,2,3],'B':[4,5,6],'C':[7,8,9]}\n",
    "a=pd.DataFrame(data)\n",
    "#filtering rows based on a condition\n",
    "e=a[a['B']>4]\n",
    "print(e)\n",
    "#filtering rows using query string\n",
    "f=a.query('B>4')\n",
    "print(f)\n"
   ]
  },
  {
   "cell_type": "code",
   "execution_count": 12,
   "id": "30e5fa07-9044-4ce6-bda8-18a0671de271",
   "metadata": {},
   "outputs": [
    {
     "name": "stdout",
     "output_type": "stream",
     "text": [
      "      class1  class2     class3\n",
      "2  Vaishnavi   Arpan     Nilesh\n",
      "1     Sayali  Gautam      Pawan\n",
      "0     Diksha   Karan  Venkytesh\n",
      "      class1  class2     class3\n",
      "2  Vaishnavi   Arpan     Nilesh\n",
      "1     Sayali  Gautam      Pawan\n",
      "0     Diksha   Karan  Venkytesh\n"
     ]
    }
   ],
   "source": [
    "import pandas as pd\n",
    "# select single column\n",
    "# create dataframe\n",
    "mydata= {'class1':['Diksha','Sayali','Vaishnavi'],'class2':['Karan','Gautam','Arpan'],'class3':['Venkytesh','Pawan','Nilesh']}\n",
    "a= pd.DataFrame(mydata)\n",
    "#sorting DataFrame by values of a column\n",
    "g=a.sort_values('class2')\n",
    "print(g)\n",
    "#sorting DataFrame by index\n",
    "h=a.sort_index(ascending=False)\n",
    "print(h)"
   ]
  },
  {
   "cell_type": "code",
   "execution_count": 16,
   "id": "ae921dc1-dd4f-4b27-8c40-f51bf8e76dd1",
   "metadata": {},
   "outputs": [
    {
     "name": "stdout",
     "output_type": "stream",
     "text": [
      "       A      B      C\n",
      "0  False  False   True\n",
      "1  False   True  False\n",
      "2   True  False  False\n",
      "3  False  False  False\n",
      "     A    B     C\n",
      "3  4.0  8.0  12.0\n"
     ]
    }
   ],
   "source": [
    "import pandas as pd\n",
    "# select single column\n",
    "# create dataframe with mising values\n",
    "data={'A':[1,2,None,4],\n",
    "     'B':[5,None,7,8],\n",
    "     'C':[None,10,11,12]}\n",
    "df=pd.DataFrame(data)\n",
    "#checking for mising values\n",
    "print(df.isnull())\n",
    "# Droping rows with mising values\n",
    "df.dropna(inplace=True)\n",
    "print(df)"
   ]
  },
  {
   "cell_type": "code",
   "execution_count": 22,
   "id": "f651468d-9331-4202-9fe8-912a4e513616",
   "metadata": {},
   "outputs": [
    {
     "name": "stdout",
     "output_type": "stream",
     "text": [
      "   A  B  Total\n",
      "0  1  4      5\n",
      "1  2  5      7\n",
      "2  3  6      9\n",
      "   Column_A  Column_B  Total\n",
      "0         1         4      5\n",
      "1         2         5      7\n",
      "2         3         6      9\n",
      "   Column_A  Total\n",
      "0         1      5\n",
      "1         2      7\n",
      "2         3      9\n",
      "   Column_A  Total\n",
      "0         1     10\n",
      "1         2     14\n",
      "2         3     18\n"
     ]
    }
   ],
   "source": [
    "import pandas as pd\n",
    "#sample dataframe\n",
    "df=pd.DataFrame({'A':[1,2,3],'B':[4,5,6]})\n",
    "#add a new column\n",
    "df['Total']=df['A']+df['B']\n",
    "print(df)\n",
    "#rename column\n",
    "df.rename(columns={'A':'Column_A','B':'Column_B'},inplace=True)\n",
    "print(df)\n",
    "#drop column\n",
    "df.drop(columns=['Column_B'],inplace=True)\n",
    "print(df)\n",
    "#apply a function\n",
    "df['Total']=df['Total'].apply(lambda x:x*2)\n",
    "print(df)"
   ]
  },
  {
   "cell_type": "code",
   "execution_count": 24,
   "id": "c045243e-785a-4ee1-ad44-60a3882cc4e4",
   "metadata": {},
   "outputs": [
    {
     "name": "stdout",
     "output_type": "stream",
     "text": [
      "   A  B\n",
      "0  1  3\n",
      "1  2  4\n",
      "0  5  7\n",
      "1  6  8\n",
      "   A  B  A  B\n",
      "0  1  3  5  7\n",
      "1  2  4  6  8\n"
     ]
    }
   ],
   "source": [
    "import pandas as pd\n",
    "df1=pd.DataFrame({'A':[1,2],'B':[3,4]})\n",
    "df2=pd.DataFrame({'A':[5,6],'B':[7,8]})\n",
    "#concatenate dataframe vertically\n",
    "verticaldf=pd.concat([df1,df2])\n",
    "print(verticaldf)\n",
    "#concatenate dataframe horizontally\n",
    "horizontaldf=pd.concat([df1,df2],axis=1)\n",
    "print(horizontaldf)"
   ]
  },
  {
   "cell_type": "code",
   "execution_count": 26,
   "id": "fb8569b2-fe99-4d2a-89d5-493d93264249",
   "metadata": {},
   "outputs": [
    {
     "name": "stdout",
     "output_type": "stream",
     "text": [
      "  column  values_x  values_y\n",
      "0      B         2         4\n",
      "1      C         3         5\n"
     ]
    }
   ],
   "source": [
    "df1=pd.DataFrame({'column':['A','B','C'],'values':[1,2,3]})\n",
    "df2=pd.DataFrame({'column':['B','C','D'],'values':[4,5,6]})\n",
    "# Merging dataframe on column\n",
    "result=pd.merge(df1,df2,on='column')\n",
    "print(result)"
   ]
  },
  {
   "cell_type": "code",
   "execution_count": null,
   "id": "9ebaf4fd-400b-4f87-895e-905fef6fe6ab",
   "metadata": {},
   "outputs": [],
   "source": []
  }
 ],
 "metadata": {
  "kernelspec": {
   "display_name": "Python 3 (ipykernel)",
   "language": "python",
   "name": "python3"
  },
  "language_info": {
   "codemirror_mode": {
    "name": "ipython",
    "version": 3
   },
   "file_extension": ".py",
   "mimetype": "text/x-python",
   "name": "python",
   "nbconvert_exporter": "python",
   "pygments_lexer": "ipython3",
   "version": "3.12.4"
  }
 },
 "nbformat": 4,
 "nbformat_minor": 5
}
