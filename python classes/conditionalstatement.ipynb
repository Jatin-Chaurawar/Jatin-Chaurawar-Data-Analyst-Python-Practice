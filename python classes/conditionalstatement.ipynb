{
 "cells": [
  {
   "cell_type": "code",
   "execution_count": 2,
   "id": "094dc518-5409-4f37-8426-02b7c475568c",
   "metadata": {},
   "outputs": [
    {
     "name": "stdout",
     "output_type": "stream",
     "text": [
      "May be\n"
     ]
    }
   ],
   "source": [
    "# using if statement\n",
    "a=33\n",
    "b=100\n",
    "if a>b:\n",
    "    print(\"yes\")\n",
    "if b>a:\n",
    "    print(\"May be\")"
   ]
  },
  {
   "cell_type": "code",
   "execution_count": 4,
   "id": "2ae3d46b-a72a-46e1-b110-38ab83ff24b2",
   "metadata": {},
   "outputs": [
    {
     "name": "stdout",
     "output_type": "stream",
     "text": [
      "there was some error in the if condition\n"
     ]
    }
   ],
   "source": [
    "a=[\"yellow\",\"pink\",\"green\",\"grey\"]\n",
    "if \"red\"in a:\n",
    "    print(\"it is true\")\n",
    "    print(\"we found pink in a\")\n",
    "    print(\"that shows its true\")\n",
    "    print(\"done\")\n",
    "print(\"there was some error in the if condition\")"
   ]
  },
  {
   "cell_type": "code",
   "execution_count": 8,
   "id": "427167a0-ffb9-4f32-81ec-a9d6756c9cbc",
   "metadata": {},
   "outputs": [
    {
     "name": "stdout",
     "output_type": "stream",
     "text": [
      "it is true\n",
      "we found pink in a\n",
      "that shows its true\n",
      "done\n",
      "there was some error in the if condition\n"
     ]
    }
   ],
   "source": [
    "a=[\"yellow\",\"pink\",\"green\",\"grey\"]\n",
    "if \"pink\"in a:\n",
    "    print(\"it is true\")\n",
    "    print(\"we found pink in a\")\n",
    "    print(\"that shows its true\")\n",
    "    print(\"done\")\n",
    "print(\"there was some error in the if condition\")"
   ]
  },
  {
   "cell_type": "code",
   "execution_count": 10,
   "id": "d7fda572-1879-44af-90ec-19cb6467d197",
   "metadata": {},
   "outputs": [
    {
     "name": "stdout",
     "output_type": "stream",
     "text": [
      "b is lesser than a\n"
     ]
    }
   ],
   "source": [
    "a=33\n",
    "b=100\n",
    "if b>a:\n",
    "    print(\"b is lesser than a\")\n",
    "elif a==b:\n",
    "    print(\"a is not equal to b\")\n",
    "elif a>b:\n",
    "    print(\"a is lesser than b\")\n",
    "elif a!=b:\n",
    "    print(\"a is not equal to b\")"
   ]
  },
  {
   "cell_type": "code",
   "execution_count": 12,
   "id": "7d70a758-6188-4a74-870b-3b6c4a764830",
   "metadata": {},
   "outputs": [
    {
     "name": "stdout",
     "output_type": "stream",
     "text": [
      "b is lesser than a\n",
      "a is not equal to b\n"
     ]
    }
   ],
   "source": [
    "a=33\n",
    "b=100\n",
    "if b>a:\n",
    "    print(\"b is lesser than a\")\n",
    "if a==b:\n",
    "    print(\"a is not equal to b\")\n",
    "if a>b:\n",
    "    print(\"a is lesser than b\")\n",
    "if a!=b:\n",
    "    print(\"a is not equal to b\")"
   ]
  },
  {
   "cell_type": "code",
   "execution_count": 16,
   "id": "596b5fdb-dea8-45d9-b16d-5376de11ca9d",
   "metadata": {},
   "outputs": [
    {
     "name": "stdout",
     "output_type": "stream",
     "text": [
      "a and b are not equal \n"
     ]
    }
   ],
   "source": [
    "a=200\n",
    "b=33\n",
    "if b>a:\n",
    "    print(\"b is greater than a\")\n",
    "elif a!=b:\n",
    "    print(\"a and b are not equal \")\n",
    "else:\n",
    "    print(\"a is greater than b\")"
   ]
  },
  {
   "cell_type": "code",
   "execution_count": null,
   "id": "4dc6a4a6-3435-490e-8825-4195b4aced58",
   "metadata": {},
   "outputs": [],
   "source": []
  }
 ],
 "metadata": {
  "kernelspec": {
   "display_name": "Python 3 (ipykernel)",
   "language": "python",
   "name": "python3"
  },
  "language_info": {
   "codemirror_mode": {
    "name": "ipython",
    "version": 3
   },
   "file_extension": ".py",
   "mimetype": "text/x-python",
   "name": "python",
   "nbconvert_exporter": "python",
   "pygments_lexer": "ipython3",
   "version": "3.12.4"
  }
 },
 "nbformat": 4,
 "nbformat_minor": 5
}
