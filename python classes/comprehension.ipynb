{
 "cells": [
  {
   "cell_type": "code",
   "execution_count": 8,
   "id": "03f60ae5-4e56-4158-a549-a0d1d8df7cbb",
   "metadata": {},
   "outputs": [
    {
     "name": "stdout",
     "output_type": "stream",
     "text": [
      "[2, 4, 6, 8, 8, 10]\n",
      "[2, 4, 6, 8, 8, 10]\n"
     ]
    }
   ],
   "source": [
    "list=[1,2,3,4,5,5,6,7,8,8,9,10]\n",
    "output_list=[]\n",
    "# using without comprehension\n",
    "for var in list:\n",
    "    if var %2==0:\n",
    "        output_list.append(var)\n",
    "print(output_list)\n",
    "# using comprehension\n",
    "b=[var for var in list if var%2==0]\n",
    "print(b)"
   ]
  },
  {
   "cell_type": "code",
   "execution_count": 14,
   "id": "24234a23-a187-4433-b745-51a734f29462",
   "metadata": {},
   "outputs": [
    {
     "name": "stdout",
     "output_type": "stream",
     "text": [
      "[1, 4, 9, 16]\n"
     ]
    }
   ],
   "source": [
    "a=[var**2 for var in range(1,5) ]\n",
    "print(a)"
   ]
  },
  {
   "cell_type": "code",
   "execution_count": 18,
   "id": "18ad6ace-cfdb-4dec-92c4-e7bfa6e32f30",
   "metadata": {},
   "outputs": [
    {
     "name": "stdout",
     "output_type": "stream",
     "text": [
      "{1: 1, 3: 27, 5: 125, 7: 343, 9: 729}\n"
     ]
    }
   ],
   "source": [
    "input_list=[1,2,3,4,5,6,7,8,9,10]\n",
    "dict_using_comp={var:var**3 for var in input_list if var%2!=0}\n",
    "print(dict_using_comp)"
   ]
  },
  {
   "cell_type": "code",
   "execution_count": 26,
   "id": "5f7a131a-dd2b-401d-a323-415bf331f92c",
   "metadata": {},
   "outputs": [
    {
     "name": "stdout",
     "output_type": "stream",
     "text": [
      "{'Milind': 'Cognizant', 'Rakesh': 'Wipro', 'Tejas': 'Persistent', 'Bhagyashree': 'Accenture'}\n",
      "{'Milind': 'Cognizant', 'Rakesh': 'Wipro', 'Tejas': 'Persistent', 'Bhagyashree': 'Accenture'}\n"
     ]
    }
   ],
   "source": [
    "student=['Milind','Rakesh','Tejas','Bhagyashree']\n",
    "placedata=['Cognizant','Wipro','Persistent','Accenture']\n",
    "output_dict={}\n",
    "for (key,value) in zip(student,placedata):\n",
    "    output_dict[key]=value\n",
    "print(output_dict)\n",
    "b={key:value for (key,value) in zip(student,placedata)}\n",
    "print(b)"
   ]
  },
  {
   "cell_type": "code",
   "execution_count": 36,
   "id": "0d9c1124-f18f-479d-88cd-74a98458b95f",
   "metadata": {},
   "outputs": [
    {
     "name": "stdout",
     "output_type": "stream",
     "text": [
      "{8, 2, 4, 6}\n",
      "{8, 2, 4, 6}\n"
     ]
    }
   ],
   "source": [
    "a=[1,2,2,3,4,5,6,6,7,8]\n",
    "output_sets=set()\n",
    "for var in a:\n",
    "    if var%2==0:\n",
    "        output_sets.add(var)\n",
    "print(output_sets)\n",
    "sets={x for x in a if x%2==0 }\n",
    "print(sets)"
   ]
  },
  {
   "cell_type": "code",
   "execution_count": 9,
   "id": "d473e802-7187-4e85-a5ad-ae3a0ae00590",
   "metadata": {},
   "outputs": [
    {
     "name": "stdout",
     "output_type": "stream",
     "text": [
      "[(1, 5), (2, 4), (2, 6), (3, 5)]\n"
     ]
    }
   ],
   "source": [
    "a=[1,2,3]\n",
    "b=[4,5,6]\n",
    "c=[(x,y) for x in a for y in b if (x+y) % 2==0]\n",
    "print(c)"
   ]
  },
  {
   "cell_type": "code",
   "execution_count": null,
   "id": "61700955-158a-48ed-9d34-52e2ddbe9041",
   "metadata": {},
   "outputs": [],
   "source": []
  }
 ],
 "metadata": {
  "kernelspec": {
   "display_name": "Python 3 (ipykernel)",
   "language": "python",
   "name": "python3"
  },
  "language_info": {
   "codemirror_mode": {
    "name": "ipython",
    "version": 3
   },
   "file_extension": ".py",
   "mimetype": "text/x-python",
   "name": "python",
   "nbconvert_exporter": "python",
   "pygments_lexer": "ipython3",
   "version": "3.12.4"
  }
 },
 "nbformat": 4,
 "nbformat_minor": 5
}
