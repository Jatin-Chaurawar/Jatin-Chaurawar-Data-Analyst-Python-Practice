{
 "cells": [
  {
   "cell_type": "code",
   "execution_count": 2,
   "id": "3229b80e-8d9e-43bc-9485-66c795cfd4a0",
   "metadata": {},
   "outputs": [
    {
     "name": "stdout",
     "output_type": "stream",
     "text": [
      "{'Name': 'Rashmi', 'DOB': '05th July', 'Place': 'Nanital', 'Age': 34}\n"
     ]
    }
   ],
   "source": [
    "# Dictionary\n",
    "a={\n",
    "    \"Name\":\"Rashmi\",\n",
    "    \"DOB\":\"05th July\",\n",
    "    \"Place\":\"Nanital\",\n",
    "    \"Age\":34\n",
    "}\n",
    "print(a)"
   ]
  },
  {
   "cell_type": "code",
   "execution_count": 4,
   "id": "9b1ac1e0-9f80-44ff-b38c-22d0d5d61a9f",
   "metadata": {},
   "outputs": [
    {
     "name": "stdout",
     "output_type": "stream",
     "text": [
      "{'Name': 'Rashmi', 'DOB': '05th July', 'Place': 'Nanital', 'Age': 34}\n"
     ]
    }
   ],
   "source": [
    "b={\"Name\":\"Rashmi\",\"DOB\":\"05th July\",\"Place\":\"Nanital\",\"Age\":34}\n",
    "print(b)"
   ]
  },
  {
   "cell_type": "code",
   "execution_count": 6,
   "id": "e492668a-8ed5-4b43-9017-578c436e28b4",
   "metadata": {},
   "outputs": [
    {
     "name": "stdout",
     "output_type": "stream",
     "text": [
      "4\n",
      "{'Name': 'Riya', 'Place': 'Nanital', 'Food': 'Momos', 'Colour': 'Pink'}\n"
     ]
    }
   ],
   "source": [
    "e={\"Name\":\"Rashmi\",\"Place\":\"Nanital\",\"Food\":\"Momos\",\"Colour\":\"Pink\",\"Name\":\"Riya\"}\n",
    "print(len(e))\n",
    "print(e)"
   ]
  },
  {
   "cell_type": "code",
   "execution_count": 14,
   "id": "9ee38bdf-a159-4b47-90df-879418c2c2fc",
   "metadata": {},
   "outputs": [
    {
     "name": "stdout",
     "output_type": "stream",
     "text": [
      "Red\n"
     ]
    }
   ],
   "source": [
    "e={\"Name\":\"Rashmi\",\"Company\":\"Zappkode\",\"Designation\":\"Product Head\",\"Color\":\"Red\"}\n",
    "x=e[\"Color\"]\n",
    "print(x)"
   ]
  },
  {
   "cell_type": "code",
   "execution_count": 16,
   "id": "70810401-12e1-4c7e-bb57-ef65fef5b025",
   "metadata": {},
   "outputs": [
    {
     "name": "stdout",
     "output_type": "stream",
     "text": [
      "Red\n"
     ]
    }
   ],
   "source": [
    "e={\"Name\":\"Rashmi\",\"Company\":\"Zappkode\",\"Designation\":\"Product Head\",\"Color\":\"Red\"}\n",
    "x=e.get(\"Color\")\n",
    "print(x)"
   ]
  },
  {
   "cell_type": "code",
   "execution_count": 20,
   "id": "33eb08f7-6374-4035-89ad-db58d5880560",
   "metadata": {},
   "outputs": [
    {
     "name": "stdout",
     "output_type": "stream",
     "text": [
      "dict_keys(['name', 'place', 'Number'])\n"
     ]
    }
   ],
   "source": [
    "a={\n",
    "    \"name\":\"Rashmi\",\n",
    "    \"place\":\"Nanital\",\n",
    "    \"Number\":5\n",
    "}\n",
    "x=a.keys()\n",
    "print(x)"
   ]
  },
  {
   "cell_type": "code",
   "execution_count": 22,
   "id": "5e872b03-2c26-46c7-872b-3edeb015d387",
   "metadata": {},
   "outputs": [
    {
     "name": "stdout",
     "output_type": "stream",
     "text": [
      "dict_values(['Rashmi', 'Nanital', 5])\n"
     ]
    }
   ],
   "source": [
    "b={\n",
    "    \"name\":\"Rashmi\",\n",
    "    \"place\":\"Nanital\",\n",
    "    \"Number\":5\n",
    "}\n",
    "x=b.values()\n",
    "print(x)"
   ]
  },
  {
   "cell_type": "code",
   "execution_count": 24,
   "id": "a3bf9705-5955-4169-a69d-481b93416a3f",
   "metadata": {},
   "outputs": [
    {
     "name": "stdout",
     "output_type": "stream",
     "text": [
      "dict_items([('name', 'Rashmi'), ('place', 'Nanital'), ('Number', 5)])\n"
     ]
    }
   ],
   "source": [
    "a={\n",
    "    \"name\":\"Rashmi\",\n",
    "    \"place\":\"Nanital\",\n",
    "    \"Number\":5\n",
    "}\n",
    "x=a.items()\n",
    "print(x)"
   ]
  },
  {
   "cell_type": "code",
   "execution_count": 26,
   "id": "00a9b9c9-e6be-4f55-95c7-185dda2718ba",
   "metadata": {},
   "outputs": [
    {
     "name": "stdout",
     "output_type": "stream",
     "text": [
      "{'brand': 'maruti', 'model': 'ertiga', 'year': 2018}\n"
     ]
    }
   ],
   "source": [
    "a={\n",
    "    \"brand\":\"maruti\",\n",
    "    \"model\":\"ertiga\",\n",
    "    \"year\":2019\n",
    "}\n",
    "a[\"year\"]=2018\n",
    "print(a)"
   ]
  },
  {
   "cell_type": "code",
   "execution_count": 28,
   "id": "77a76946-7c54-426f-b3fc-934077e7b026",
   "metadata": {},
   "outputs": [
    {
     "name": "stdout",
     "output_type": "stream",
     "text": [
      "{'brand': 'maruti', 'model': 'ertiga', 'year': 2019, 'years': 2018}\n"
     ]
    }
   ],
   "source": [
    "a={\n",
    "    \"brand\":\"maruti\",\n",
    "    \"model\":\"ertiga\",\n",
    "    \"year\":2019\n",
    "}\n",
    "a[\"years\"]=2018\n",
    "print(a)"
   ]
  },
  {
   "cell_type": "code",
   "execution_count": 32,
   "id": "cc5c3400-4b87-4f82-a630-c34fbfe8ddf0",
   "metadata": {},
   "outputs": [
    {
     "name": "stdout",
     "output_type": "stream",
     "text": [
      "{'brand': 'maruti', 'model': 'ertiga', 'year': 2021}\n"
     ]
    }
   ],
   "source": [
    "a={\n",
    "    \"brand\":\"maruti\",\n",
    "    \"model\":\"ertiga\",\n",
    "    \"year\":2020\n",
    "}\n",
    "a.update({\"year\":2021})\n",
    "print(a)"
   ]
  },
  {
   "cell_type": "code",
   "execution_count": 34,
   "id": "b30aecf2-0fbe-441c-96ed-1c8a98f796c7",
   "metadata": {},
   "outputs": [
    {
     "name": "stdout",
     "output_type": "stream",
     "text": [
      "{'brand': 'maruti', 'model': 'ertiga', 'year': 2020, 'years': 2021}\n"
     ]
    }
   ],
   "source": [
    "a={\n",
    "    \"brand\":\"maruti\",\n",
    "    \"model\":\"ertiga\",\n",
    "    \"year\":2020\n",
    "}\n",
    "a.update({\"years\":2021})\n",
    "print(a)"
   ]
  },
  {
   "cell_type": "code",
   "execution_count": 36,
   "id": "5a935c7a-4b33-47d4-9b58-0ae0aa3da4fd",
   "metadata": {},
   "outputs": [
    {
     "name": "stdout",
     "output_type": "stream",
     "text": [
      "{'brand': 'maruti', 'year': 2020}\n"
     ]
    }
   ],
   "source": [
    "a={\n",
    "    \"brand\":\"maruti\",\n",
    "    \"model\":\"ertiga\",\n",
    "    \"year\":2020\n",
    "}\n",
    "a.pop(\"model\")\n",
    "print(a)"
   ]
  },
  {
   "cell_type": "code",
   "execution_count": 42,
   "id": "f6c617fa-182a-4289-8f9f-a6826003a69d",
   "metadata": {},
   "outputs": [
    {
     "name": "stdout",
     "output_type": "stream",
     "text": [
      "{'brand': 'maruti', 'model': 'ertiga'}\n"
     ]
    }
   ],
   "source": [
    "a={\"brand\":\"maruti\",\"model\":\"ertiga\",\"year\":2020}\n",
    "a.popitem()\n",
    "print(a)"
   ]
  },
  {
   "cell_type": "code",
   "execution_count": 44,
   "id": "e5e5e5c1-3900-46a4-ba60-bbf819f73f64",
   "metadata": {},
   "outputs": [
    {
     "name": "stdout",
     "output_type": "stream",
     "text": [
      "{'brand': 'maruti', 'year': 2020}\n"
     ]
    }
   ],
   "source": [
    "a={\"brand\":\"maruti\",\"model\":\"ertiga\",\"year\":2020}\n",
    "del a[\"model\"]\n",
    "print(a)"
   ]
  },
  {
   "cell_type": "code",
   "execution_count": 46,
   "id": "70fb531a-10a8-40d6-a69c-d0c1e693bc7a",
   "metadata": {},
   "outputs": [
    {
     "name": "stdout",
     "output_type": "stream",
     "text": [
      "brand\n",
      "model\n",
      "year\n"
     ]
    }
   ],
   "source": [
    "a={\"brand\":\"maruti\",\"model\":\"ertiga\",\"year\":2020}\n",
    "for x in a:\n",
    "    print(x)"
   ]
  },
  {
   "cell_type": "code",
   "execution_count": 48,
   "id": "99e635df-86c7-47ce-89c2-957578a30b33",
   "metadata": {},
   "outputs": [
    {
     "name": "stdout",
     "output_type": "stream",
     "text": [
      "maruti\n",
      "ertiga\n",
      "2020\n"
     ]
    }
   ],
   "source": [
    "a={\"brand\":\"maruti\",\"model\":\"ertiga\",\"year\":2020}\n",
    "for x in a:\n",
    "    print(a[x])"
   ]
  },
  {
   "cell_type": "code",
   "execution_count": 52,
   "id": "68ff8081-90c0-4d3d-be10-f7ba4cd2179d",
   "metadata": {},
   "outputs": [
    {
     "name": "stdout",
     "output_type": "stream",
     "text": [
      "maruti\n",
      "ertiga\n",
      "2020\n"
     ]
    }
   ],
   "source": [
    "a={\"brand\":\"maruti\",\"model\":\"ertiga\",\"year\":2020}\n",
    "for x in a.values():\n",
    "    print(x)"
   ]
  },
  {
   "cell_type": "code",
   "execution_count": 62,
   "id": "4a9d20cf-2546-41e1-81e5-34ce3bf7e928",
   "metadata": {},
   "outputs": [
    {
     "name": "stdout",
     "output_type": "stream",
     "text": [
      "brand\n",
      "model\n",
      "year\n",
      "brand maruti\n",
      "model ertiga\n",
      "year 2020\n"
     ]
    }
   ],
   "source": [
    "a={\"brand\":\"maruti\",\"model\":\"ertiga\",\"year\":2020}\n",
    "for b in a.keys():\n",
    "    print(b)\n",
    "for c,d in a.items():\n",
    "    print(c,d)"
   ]
  },
  {
   "cell_type": "code",
   "execution_count": 64,
   "id": "52eaa632-d869-4282-b69b-215b31e20eca",
   "metadata": {},
   "outputs": [
    {
     "name": "stdout",
     "output_type": "stream",
     "text": [
      "('brand', 'maruti')\n",
      "('model', 'ertiga')\n",
      "('year', 2020)\n"
     ]
    }
   ],
   "source": [
    "a={\"brand\":\"maruti\",\"model\":\"ertiga\",\"year\":2020}\n",
    "for c in a.items():\n",
    "    print(c)"
   ]
  },
  {
   "cell_type": "code",
   "execution_count": 3,
   "id": "18dfe5b5-8519-4b1d-83fa-c848cb6d13fc",
   "metadata": {},
   "outputs": [
    {
     "name": "stdout",
     "output_type": "stream",
     "text": [
      "Name Rashmi\n",
      "age 40\n"
     ]
    }
   ],
   "source": [
    "a={\"Name\":\"Rashmi\",\"age\":40,\"area\":\"nagpur\",\"mobile\":\"9511761157\"}\n",
    "for key,values in a.items():\n",
    "    if key=='area':\n",
    "        break\n",
    "    print(key,values)"
   ]
  },
  {
   "cell_type": "code",
   "execution_count": null,
   "id": "e7cd6e18-a720-4e58-a17e-138489139921",
   "metadata": {},
   "outputs": [],
   "source": []
  }
 ],
 "metadata": {
  "kernelspec": {
   "display_name": "Python 3 (ipykernel)",
   "language": "python",
   "name": "python3"
  },
  "language_info": {
   "codemirror_mode": {
    "name": "ipython",
    "version": 3
   },
   "file_extension": ".py",
   "mimetype": "text/x-python",
   "name": "python",
   "nbconvert_exporter": "python",
   "pygments_lexer": "ipython3",
   "version": "3.12.4"
  }
 },
 "nbformat": 4,
 "nbformat_minor": 5
}
