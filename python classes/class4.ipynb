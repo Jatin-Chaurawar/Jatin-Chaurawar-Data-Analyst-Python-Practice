{
 "cells": [
  {
   "cell_type": "code",
   "execution_count": 6,
   "id": "a414d1ec-87a9-43ff-a0af-9b19a34ad05a",
   "metadata": {},
   "outputs": [
    {
     "name": "stdout",
     "output_type": "stream",
     "text": [
      "hello, world! python\n",
      "<class 'str'>\n",
      "13\n"
     ]
    }
   ],
   "source": [
    "#printing strings\n",
    "str1=\"hello, world!\"\n",
    "str2='python'\n",
    "print(str1,str2)\n",
    "print(type(str1))\n",
    "print(len(str1))"
   ]
  },
  {
   "cell_type": "code",
   "execution_count": 8,
   "id": "a1d6f316-6fe5-46cd-99ca-466dca276171",
   "metadata": {},
   "outputs": [
    {
     "name": "stdout",
     "output_type": "stream",
     "text": [
      "hello, world! python\n"
     ]
    }
   ],
   "source": [
    "#python concatenation\n",
    "str1=\"hello, world!\"\n",
    "str2='python'\n",
    "newstr = str1 + \" \" + str2\n",
    "print(newstr)"
   ]
  },
  {
   "cell_type": "code",
   "execution_count": 10,
   "id": "dbbe9190-dfb4-47ff-85ed-e9538b1565d2",
   "metadata": {},
   "outputs": [
    {
     "name": "stdout",
     "output_type": "stream",
     "text": [
      "my name is diksha and I'm 25 years old.\n"
     ]
    }
   ],
   "source": [
    "#string formating \n",
    "name=\"diksha\"\n",
    "age=25\n",
    "formated_str=\"my name is {} and I'm {} years old.\".format(name,age)\n",
    "print(formated_str)"
   ]
  },
  {
   "cell_type": "code",
   "execution_count": 14,
   "id": "302e5350-9c81-41f6-bdb9-ba77dc10f229",
   "metadata": {},
   "outputs": [
    {
     "name": "stdout",
     "output_type": "stream",
     "text": [
      "my name is diksha and I'm 25 years old.\n"
     ]
    }
   ],
   "source": [
    "name=\"diksha\"\n",
    "age=25\n",
    "print(f\"my name is {name} and I'm {age} years old.\")"
   ]
  },
  {
   "cell_type": "code",
   "execution_count": 18,
   "id": "f9afbb3f-38dc-42ba-8571-e5ae1aafa3bc",
   "metadata": {},
   "outputs": [
    {
     "name": "stdin",
     "output_type": "stream",
     "text": [
      "Enter your first name: Jatin\n",
      "Enter your last name: Chaurawar\n"
     ]
    },
    {
     "name": "stdout",
     "output_type": "stream",
     "text": [
      "your full name is : Jatin Chaurawar\n"
     ]
    }
   ],
   "source": [
    "#concatenation using + operator \n",
    "first_name=input(\"Enter your first name:\")\n",
    "last_name=input(\"Enter your last name:\")\n",
    "#concatenate the string \n",
    "full_name= first_name + \" \" + last_name\n",
    "print(\"your full name is :\",full_name)"
   ]
  },
  {
   "cell_type": "code",
   "execution_count": 28,
   "id": "379e494d-1360-4343-9e50-d098f5c255ce",
   "metadata": {},
   "outputs": [
    {
     "name": "stdout",
     "output_type": "stream",
     "text": [
      "Python Python Python \n"
     ]
    }
   ],
   "source": [
    "#using * operator \n",
    "original_str=\"Python \"\n",
    "repeated_str= original_str  * 3\n",
    "print(repeated_str)"
   ]
  },
  {
   "cell_type": "code",
   "execution_count": 34,
   "id": "7a512bda-1c29-4285-b896-e5c3de817f8c",
   "metadata": {},
   "outputs": [
    {
     "name": "stdout",
     "output_type": "stream",
     "text": [
      "!dlrow ,olleH\n"
     ]
    }
   ],
   "source": [
    "#reversing a string\n",
    "original_str=\"Hello, world!\"\n",
    "reversed_str=original_str[::-1]\n",
    "print(reversed_str)"
   ]
  },
  {
   "cell_type": "code",
   "execution_count": 44,
   "id": "84827b95-53db-4d27-886a-9fe805d762be",
   "metadata": {},
   "outputs": [
    {
     "name": "stdout",
     "output_type": "stream",
     "text": [
      "<reversed object at 0x0000016A0EAB2E30>\n",
      "!dlrow ,olleH\n"
     ]
    }
   ],
   "source": [
    "#reversing a string\n",
    "original_str=\"Hello, world!\"\n",
    "reversed_str=reversed(original_str)\n",
    "print(reversed_str)\n",
    "#reversing a string\n",
    "original_str=\"Hello, world!\"\n",
    "reversed_str=''.join(reversed(original_str))\n",
    "print(reversed_str)"
   ]
  },
  {
   "cell_type": "code",
   "execution_count": 48,
   "id": "a1fe4044-b136-429a-baa7-702714e63699",
   "metadata": {},
   "outputs": [
    {
     "name": "stdout",
     "output_type": "stream",
     "text": [
      "P\n",
      "Y\n",
      "T\n",
      "H\n",
      "O\n",
      "N\n",
      "P\n",
      "Y\n",
      "T\n",
      "H\n",
      "O\n",
      "N\n"
     ]
    }
   ],
   "source": [
    "#loop\n",
    "#1 for loop\n",
    "x='PYTHON'\n",
    "for a in x:\n",
    "    print(a)\n",
    "\n",
    "#2 while loop\n",
    "x='PYTHON'\n",
    "i=0\n",
    "while i < len(x):\n",
    "    print(x[i])\n",
    "    i+=1"
   ]
  },
  {
   "cell_type": "code",
   "execution_count": 56,
   "id": "be6d1980-edeb-43be-b649-87d686e54495",
   "metadata": {},
   "outputs": [
    {
     "name": "stdout",
     "output_type": "stream",
     "text": [
      "i am Learning PYTHON\n",
      "i am learning python\n",
      "I AM LEARNING PYTHON\n",
      "I AM lEARNING python\n",
      "I Am Learning Python\n",
      "i am learning python\n",
      "I am learning python\n"
     ]
    }
   ],
   "source": [
    "#string method\n",
    "a='i am Learning PYTHON'\n",
    "b=a.lower()\n",
    "c=a.upper()\n",
    "d=a.swapcase()\n",
    "e=a.title()\n",
    "f=a.casefold()\n",
    "g=a.capitalize()\n",
    "print(a)\n",
    "print(b)\n",
    "print(c)\n",
    "print(d)\n",
    "print(e)\n",
    "print(f)\n",
    "print(g)"
   ]
  },
  {
   "cell_type": "code",
   "execution_count": null,
   "id": "e68e7139-5ec3-40a2-841a-b5845550de52",
   "metadata": {},
   "outputs": [],
   "source": []
  },
  {
   "cell_type": "code",
   "execution_count": null,
   "id": "84beed24-0db4-4de4-ae81-7fe88292fc4c",
   "metadata": {},
   "outputs": [],
   "source": []
  }
 ],
 "metadata": {
  "kernelspec": {
   "display_name": "Python 3 (ipykernel)",
   "language": "python",
   "name": "python3"
  },
  "language_info": {
   "codemirror_mode": {
    "name": "ipython",
    "version": 3
   },
   "file_extension": ".py",
   "mimetype": "text/x-python",
   "name": "python",
   "nbconvert_exporter": "python",
   "pygments_lexer": "ipython3",
   "version": "3.12.4"
  }
 },
 "nbformat": 4,
 "nbformat_minor": 5
}
