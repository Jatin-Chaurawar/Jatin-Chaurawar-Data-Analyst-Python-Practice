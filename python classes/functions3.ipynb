{
 "cells": [
  {
   "cell_type": "code",
   "execution_count": 4,
   "id": "f948fa8e-af71-400d-b9b0-f9e1d3a40169",
   "metadata": {},
   "outputs": [
    {
     "name": "stdout",
     "output_type": "stream",
     "text": [
      "Withdrawn:Rs200,Remaining balance:Rs800\n",
      "Current  balance:Rs800\n",
      "Insufficient balance!\n"
     ]
    }
   ],
   "source": [
    "balance=1000\n",
    "def withdraw(amount):\n",
    "    global balance #declare we're using the global variable 'balance'\n",
    "    if amount <=balance:\n",
    "        balance-=amount\n",
    "        print(f\"Withdrawn:Rs{amount},Remaining balance:Rs{balance}\")\n",
    "    else:\n",
    "        print(\"Insufficient balance!\")\n",
    "def check_balance():\n",
    "    print(f\"Current  balance:Rs{balance}\")\n",
    "withdraw(200)\n",
    "check_balance()\n",
    "withdraw(900)"
   ]
  },
  {
   "cell_type": "code",
   "execution_count": 5,
   "id": "9a55a6a1-5d02-4115-aa14-2996fa20efcf",
   "metadata": {},
   "outputs": [
    {
     "name": "stdout",
     "output_type": "stream",
     "text": [
      "Salary:30000,Tax:3000.0\n",
      "Salary:60000,Tax:12000.0\n"
     ]
    }
   ],
   "source": [
    "def calculated_tax(salary):\n",
    "    tax=0\n",
    "    if salary>50000:\n",
    "        tax=salary*0.2\n",
    "    else:\n",
    "        tax=salary*0.1\n",
    "    print(f\"Salary:{salary},Tax:{tax}\")\n",
    "calculated_tax(30000)\n",
    "calculated_tax(60000)\n",
    "#print(tax) # this line give error"
   ]
  },
  {
   "cell_type": "code",
   "execution_count": 7,
   "id": "1fd8fb0c-bd12-483b-9771-f77a74963e3f",
   "metadata": {},
   "outputs": [
    {
     "name": "stdout",
     "output_type": "stream",
     "text": [
      "Sum of the Number is: 8\n",
      "Sum of the Number is: 22\n",
      "Sum of the Number is: 17\n"
     ]
    }
   ],
   "source": [
    "#using *args\n",
    "def add(*num):\n",
    "    sum=0\n",
    "    for n in num:\n",
    "        sum=sum+n\n",
    "    print(\"Sum of the Number is:\",sum)\n",
    "add(3,5)\n",
    "add(4,5,6,7)\n",
    "add(1,2,3,5,6)"
   ]
  },
  {
   "cell_type": "code",
   "execution_count": 13,
   "id": "6030d5ab-1c88-41c3-b475-a3b1fb671906",
   "metadata": {},
   "outputs": [
    {
     "name": "stdout",
     "output_type": "stream",
     "text": [
      "Generated Sentences: Learning python is good.\n",
      "Generated Sentences: This is another example.\n",
      "Generated Sentences: Awesome.\n"
     ]
    }
   ],
   "source": [
    "def make_sentence(*words):\n",
    "    sentence=' '.join(words).capitalize()+'.'\n",
    "    print(\"Generated Sentences:\",sentence)\n",
    "make_sentence(\"learning\",\"python\",\"is\",\"good\")\n",
    "make_sentence(\"This\",\"is\",\"another\",\"example\")\n",
    "make_sentence(\"awesome\")"
   ]
  },
  {
   "cell_type": "code",
   "execution_count": 15,
   "id": "ab575277-b67d-4bca-b4c9-b6ecc5ed85e4",
   "metadata": {},
   "outputs": [
    {
     "name": "stdout",
     "output_type": "stream",
     "text": [
      "\n",
      "Data type of argument: <class 'dict'>\n",
      "Firstname is Roshan\n",
      "Lastname is Vaidya\n",
      "Age is 22\n",
      "Phone is 9988776655\n",
      "\n",
      "Data type of argument: <class 'dict'>\n",
      "Firstname is Pooja\n",
      "Lastname is Surawar\n",
      "Email is pooja@gmail.com\n",
      "Country is India\n",
      "Age is 22\n",
      "Phone is 9988776655\n"
     ]
    }
   ],
   "source": [
    "# using **kwargs\n",
    "def intro(**data):\n",
    "    print(\"\\nData type of argument:\",type(data))\n",
    "    for key,value in data.items():\n",
    "        print(\"{} is {}\".format(key,value))\n",
    "intro(Firstname=\"Roshan\",Lastname=\"Vaidya\",Age=22,Phone=9988776655)\n",
    "intro(Firstname=\"Pooja\",Lastname=\"Surawar\",Email=\"pooja@gmail.com\",Country=\"India\",Age=22,Phone=9988776655)\n"
   ]
  },
  {
   "cell_type": "code",
   "execution_count": 21,
   "id": "a0145b8c-fe7e-4003-97b7-5b8d40f7129a",
   "metadata": {},
   "outputs": [
    {
     "name": "stdout",
     "output_type": "stream",
     "text": [
      "Shopping cart Summary\n",
      "-apple:30\n",
      "-milk:50\n",
      "-bread:25\n",
      "Total Amount:105\n",
      "------------------------------\n",
      "Shopping cart Summary\n",
      "-pen:10\n",
      "-notebook:40\n",
      "-eraser:5\n",
      "-ruler:15\n",
      "Total Amount:70\n",
      "------------------------------\n"
     ]
    }
   ],
   "source": [
    "def show_cart(**items):\n",
    "    print(\"Shopping cart Summary\")\n",
    "    total=0\n",
    "    for item,price in items.items():\n",
    "        print(f\"-{item}:{price}\")\n",
    "        total+=price\n",
    "    print(f\"Total Amount:{total}\")\n",
    "    print(\"-\"*30)\n",
    "show_cart(apple=30,milk=50,bread=25)\n",
    "show_cart(pen=10,notebook=40,eraser=5,ruler=15)"
   ]
  },
  {
   "cell_type": "code",
   "execution_count": null,
   "id": "295d045c-5c1e-4aef-a8f0-4d719c96fa24",
   "metadata": {},
   "outputs": [],
   "source": []
  }
 ],
 "metadata": {
  "kernelspec": {
   "display_name": "Python 3 (ipykernel)",
   "language": "python",
   "name": "python3"
  },
  "language_info": {
   "codemirror_mode": {
    "name": "ipython",
    "version": 3
   },
   "file_extension": ".py",
   "mimetype": "text/x-python",
   "name": "python",
   "nbconvert_exporter": "python",
   "pygments_lexer": "ipython3",
   "version": "3.12.4"
  }
 },
 "nbformat": 4,
 "nbformat_minor": 5
}
