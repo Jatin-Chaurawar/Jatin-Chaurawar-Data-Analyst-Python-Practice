{
 "cells": [
  {
   "cell_type": "code",
   "execution_count": 8,
   "id": "e53cc365-27ec-497b-aafc-46ce047e9219",
   "metadata": {},
   "outputs": [],
   "source": [
    "num=3\n",
    "if num>5:\n",
    "    print(\"bigger than 5\")\n",
    "    if num <= 15:\n",
    "        print(\"between 5 and 15\")"
   ]
  },
  {
   "cell_type": "code",
   "execution_count": 10,
   "id": "57455826-85ce-4ad1-8e4d-31449a49b22d",
   "metadata": {},
   "outputs": [
    {
     "name": "stdout",
     "output_type": "stream",
     "text": [
      "letter is A\n"
     ]
    }
   ],
   "source": [
    " letter=\"A\"\n",
    "if letter == \"B\":\n",
    "    print(\"letter is B\")\n",
    "else:\n",
    "    if letter == \"C\":\n",
    "        print(\"letter is C\")\n",
    "    else:\n",
    "        if letter == \"A\":\n",
    "            print(\"letter is A\")\n",
    "        else:\n",
    "            print(\"letter isn't A,B and C\")\n"
   ]
  },
  {
   "cell_type": "code",
   "execution_count": 14,
   "id": "c83ff8b3-97f8-4288-84d8-d09751a2abb2",
   "metadata": {},
   "outputs": [
    {
     "name": "stdin",
     "output_type": "stream",
     "text": [
      "Enter a number 2\n"
     ]
    },
    {
     "name": "stdout",
     "output_type": "stream",
     "text": [
      "Positive even number\n"
     ]
    }
   ],
   "source": [
    "num=int(input(\"Enter a number\"))\n",
    "if num>0:\n",
    "    if num%2==0:\n",
    "        print(\"Positive even number\")\n",
    "    else:\n",
    "        print(\"Positive odd number\")\n",
    "elif num<0:\n",
    "    if num%2==0:\n",
    "        print(\"Negative even number\")\n",
    "    else:\n",
    "        print(\"Negative odd  number\")\n",
    "else:\n",
    "    print(\"zero\")"
   ]
  },
  {
   "cell_type": "code",
   "execution_count": 22,
   "id": "647b62f5-9515-48dc-bcaf-d9a0adcb0fd9",
   "metadata": {},
   "outputs": [
    {
     "name": "stdin",
     "output_type": "stream",
     "text": [
      "Enter the purchase amount: 1200\n"
     ]
    },
    {
     "name": "stdout",
     "output_type": "stream",
     "text": [
      "Total cost after diacount:Rs. 1080.0\n"
     ]
    }
   ],
   "source": [
    "#calculating price after discount\n",
    "purchase_amount=float(input(\"Enter the purchase amount:\"))\n",
    "if purchase_amount>=1000:\n",
    "    discount=0.1 * purchase_amount #10% discount for purchase over rs.1000\n",
    "else:\n",
    "    discount=0\n",
    "total_cost = purchase_amount - discount\n",
    "print(\"Total cost after diacount:Rs.\",total_cost)"
   ]
  },
  {
   "cell_type": "code",
   "execution_count": 26,
   "id": "56c3dc4b-62d1-4646-9e34-c082874e6f1d",
   "metadata": {},
   "outputs": [
    {
     "name": "stdin",
     "output_type": "stream",
     "text": [
      "Enter your age 34\n"
     ]
    },
    {
     "name": "stdout",
     "output_type": "stream",
     "text": [
      "your ticket price is 10\n"
     ]
    }
   ],
   "source": [
    "age=int(input(\"Enter your age\"))\n",
    "if age<12:\n",
    "    ticket_price=5\n",
    "elif age>=12 and age<65:\n",
    "    ticket_price=10\n",
    "else:\n",
    "    ticket_price=7\n",
    "print(\"your ticket price is\",ticket_price)"
   ]
  },
  {
   "cell_type": "code",
   "execution_count": 40,
   "id": "d1fd98bd-762c-4e26-bbd6-f6e3fb51e988",
   "metadata": {},
   "outputs": [
    {
     "name": "stdin",
     "output_type": "stream",
     "text": [
      "enter the temperature: 2\n"
     ]
    },
    {
     "name": "stdout",
     "output_type": "stream",
     "text": [
      "Cold\n"
     ]
    }
   ],
   "source": [
    "weather=float(input(\"enter the temperature:\"))\n",
    "if weather>30:\n",
    "    print(\"Hot\")\n",
    "elif weather>20 and weather<30:\n",
    "    print(\"Warm\")\n",
    "elif weather>=10 and weather<20:\n",
    "    print(\"Cool\")\n",
    "elif weather>1 and weather<10:\n",
    "    print(\"Cold\")"
   ]
  },
  {
   "cell_type": "code",
   "execution_count": 6,
   "id": "94c07527-769f-44f1-bc72-4dc2eb385455",
   "metadata": {},
   "outputs": [
    {
     "name": "stdin",
     "output_type": "stream",
     "text": [
      "Enter your username; user123\n",
      "Enter your password: pass123\n"
     ]
    },
    {
     "name": "stdout",
     "output_type": "stream",
     "text": [
      "Login successful! welcome,user123\n"
     ]
    }
   ],
   "source": [
    "a=\"user123\"\n",
    "b=\"pass123\"\n",
    "#get user input\n",
    "username=input(\"Enter your username;\")\n",
    "password=input(\"Enter your password:\")\n",
    "if username==a and password==b:\n",
    "    print(\"Login successful! welcome,\"+ username)\n",
    "else:\n",
    "    print(\"login failed. Please check your username and password.\")"
   ]
  },
  {
   "cell_type": "code",
   "execution_count": 14,
   "id": "40750f7d-0e71-4b56-823e-5083ddc2b42f",
   "metadata": {},
   "outputs": [
    {
     "name": "stdin",
     "output_type": "stream",
     "text": [
      "Enter your username; user123\n",
      "Enter your password: pass123\n"
     ]
    },
    {
     "name": "stdout",
     "output_type": "stream",
     "text": [
      "Login successful! welcome,user123\n"
     ]
    }
   ],
   "source": [
    "a=\"user123\"\n",
    "b=\"pass123\"\n",
    "#get user input\n",
    "username=input(\"Enter your username;\")\n",
    "if username==a:\n",
    "    password=input(\"Enter your password:\")\n",
    "    if password==b:\n",
    "        print(\"Login successful! welcome,\"+ username)\n",
    "    else:\n",
    "        print(\"Password is incorrect.Program ending\")\n",
    "else:\n",
    "    print(\"login failed. Please check your username and password.\")"
   ]
  },
  {
   "cell_type": "code",
   "execution_count": 18,
   "id": "4987d2af-744e-4a36-b76b-9696702132af",
   "metadata": {},
   "outputs": [
    {
     "name": "stdin",
     "output_type": "stream",
     "text": [
      "enter a number 5\n"
     ]
    },
    {
     "name": "stdout",
     "output_type": "stream",
     "text": [
      "The square is 25.0\n"
     ]
    }
   ],
   "source": [
    "number=float(input(\"enter a number\"))\n",
    "if number%5==0:\n",
    "    result=number**2\n",
    "    print(\"The square is\",result)\n",
    "else:\n",
    "    remainder= number % 5\n",
    "    print(\"The remainder is:\",remainder)"
   ]
  },
  {
   "cell_type": "code",
   "execution_count": 38,
   "id": "d8c79022-5da2-458d-93f7-d08d89cf4f36",
   "metadata": {},
   "outputs": [
    {
     "name": "stdin",
     "output_type": "stream",
     "text": [
      "Enter a number 3.4\n",
      "Enter a number 3.6\n"
     ]
    },
    {
     "name": "stdout",
     "output_type": "stream",
     "text": [
      "1\n"
     ]
    }
   ],
   "source": [
    "num1=float(input(\"Enter a number\"))\n",
    "num2=float(input(\"Enter a number\"))\n",
    "if num1%2==0 and num2%2==0:\n",
    "    print(\"2\")\n",
    "elif num1%2==1 and num2%2==0 or num1%2==0 and num2%2==1:\n",
    "    print(\"0\")\n",
    "else:\n",
    "    print(\"1\")"
   ]
  },
  {
   "cell_type": "code",
   "execution_count": 52,
   "id": "7339118b-73cd-4aa3-bd0d-1c8fc2730473",
   "metadata": {},
   "outputs": [
    {
     "name": "stdin",
     "output_type": "stream",
     "text": [
      "Enter a number 3\n",
      "Enter a number 9.7\n"
     ]
    },
    {
     "name": "stdout",
     "output_type": "stream",
     "text": [
      "0\n"
     ]
    }
   ],
   "source": [
    "num1=input(\"Enter a number\")\n",
    "num2=input(\"Enter a number\")\n",
    "if num1.isdigit() and num2.isdigit():\n",
    "    print(\"2\")\n",
    "elif\".\"in num1 and \".\"in num2:\n",
    "    print(\"1\")\n",
    "else:\n",
    "    print(\"0\")\n",
    "    \n"
   ]
  },
  {
   "cell_type": "code",
   "execution_count": 7,
   "id": "492359f4-9525-4591-a9a4-7a109c3da48a",
   "metadata": {},
   "outputs": [
    {
     "ename": "SyntaxError",
     "evalue": "invalid syntax. Maybe you meant '==' or ':=' instead of '='? (2881042929.py, line 3)",
     "output_type": "error",
     "traceback": [
      "\u001b[1;36m  Cell \u001b[1;32mIn[7], line 3\u001b[1;36m\u001b[0m\n\u001b[1;33m    if num1 = int and num2 = int:\u001b[0m\n\u001b[1;37m       ^\u001b[0m\n\u001b[1;31mSyntaxError\u001b[0m\u001b[1;31m:\u001b[0m invalid syntax. Maybe you meant '==' or ':=' instead of '='?\n"
     ]
    }
   ],
   "source": [
    "num1=input(\"Enter a number\")\n",
    "num2=input(\"Enter a number\")\n",
    "try:\n",
    "    num1 = float(num1)\n",
    "    num2 = float(num2)\n",
    "    if num1=float and num2=float:\n",
    "    print(\"1\")\n",
    "else:\n",
    "    print(\"0\")\n",
    "    "
   ]
  },
  {
   "cell_type": "code",
   "execution_count": null,
   "id": "558ddc56-d95b-432d-b053-361f5f1eaf53",
   "metadata": {},
   "outputs": [],
   "source": []
  }
 ],
 "metadata": {
  "kernelspec": {
   "display_name": "Python 3 (ipykernel)",
   "language": "python",
   "name": "python3"
  },
  "language_info": {
   "codemirror_mode": {
    "name": "ipython",
    "version": 3
   },
   "file_extension": ".py",
   "mimetype": "text/x-python",
   "name": "python",
   "nbconvert_exporter": "python",
   "pygments_lexer": "ipython3",
   "version": "3.12.4"
  }
 },
 "nbformat": 4,
 "nbformat_minor": 5
}
