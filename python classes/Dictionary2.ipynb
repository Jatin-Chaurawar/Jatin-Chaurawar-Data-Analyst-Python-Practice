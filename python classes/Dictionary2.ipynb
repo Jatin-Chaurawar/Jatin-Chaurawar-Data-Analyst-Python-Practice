{
 "cells": [
  {
   "cell_type": "code",
   "execution_count": 2,
   "id": "1bf870e3-6da8-42b3-8841-8a7d6d0a62d5",
   "metadata": {},
   "outputs": [
    {
     "name": "stdout",
     "output_type": "stream",
     "text": [
      "{'student1': {'name': 'Shrikant', 'gender': 'male'}, 'student2': {'name': 'Gurpreet', 'gender': 'male'}, 'student3': {'name': 'Nayna', 'gender': 'female'}}\n"
     ]
    }
   ],
   "source": [
    "myclass={\n",
    "    \"student1\":{\"name\":\"Shrikant\",\"gender\":\"male\"},\n",
    "    \"student2\":{\"name\":\"Gurpreet\",\"gender\":\"male\"},\n",
    "    \"student3\":{\"name\":\"Nayna\",\"gender\":\"female\"},\n",
    "}\n",
    "print(myclass)"
   ]
  },
  {
   "cell_type": "code",
   "execution_count": 18,
   "id": "017ecdf3-53d1-4d8d-a181-10cb88effadf",
   "metadata": {},
   "outputs": [
    {
     "name": "stdout",
     "output_type": "stream",
     "text": [
      "student1's average grade:89.0\n",
      "student2's average grade:89.33333333333333\n"
     ]
    }
   ],
   "source": [
    "student_grades={\n",
    "    'student1':{'Pythin':90,'Data Science':85,'Data Analytics':92},\n",
    "    'student2':{'Pythin':88,'Data Science':91,'Data Analytics':89}\n",
    "}\n",
    "for student,courses in student_grades.items():\n",
    "    avg_grades=sum(courses.values())/len(courses)\n",
    "    print(f\"{student}'s average grade:{avg_grades}\")"
   ]
  },
  {
   "cell_type": "code",
   "execution_count": 8,
   "id": "969d445e-a5fa-4845-8fe6-d9a61bb4aff6",
   "metadata": {},
   "outputs": [
    {
     "name": "stdout",
     "output_type": "stream",
     "text": [
      "akansha\n",
      "gayatri nagar\n",
      "25\n"
     ]
    }
   ],
   "source": [
    "main_dictionary={\n",
    "    'person1':{'name':'akansha','age':22,'address':{'city':'shankar nagar','zipcode':'410210'}},\n",
    "    'person2':{'name':'nayna','age':25,'address':{'city':'gayatri nagar','zipcode':'440027'}}\n",
    "}\n",
    "print(main_dictionary['person1']['name'])\n",
    "print(main_dictionary['person2']['address']['city'])\n",
    "print(main_dictionary['person2']['age'])\n",
    "\n"
   ]
  },
  {
   "cell_type": "code",
   "execution_count": 22,
   "id": "e2ff1283-9223-4ad0-9768-de1d7cdf849d",
   "metadata": {},
   "outputs": [
    {
     "name": "stdout",
     "output_type": "stream",
     "text": [
      "Nimish sen\n",
      "Niarika sen\n"
     ]
    }
   ],
   "source": [
    "family_tree={\n",
    "    'grandfather':{'name':'Rana sen','spouse':'Priyanka misra',\n",
    "    'children':{'son':{'name':'Nimish sen',\n",
    "    'children':{}},'daughter':{'name':'Niarika sen','children':{}}}}\n",
    "}\n",
    "print(family_tree['grandfather']['children']['son']['name'])\n",
    "print(family_tree['grandfather']['children']['daughter']['name'])"
   ]
  },
  {
   "cell_type": "code",
   "execution_count": 24,
   "id": "46577b2f-8c6f-46ed-b5c7-690056c60933",
   "metadata": {},
   "outputs": [
    {
     "name": "stdout",
     "output_type": "stream",
     "text": [
      "{'student1': {'name': 'Gurpreet', 'gender': 'male'}, 'student2': {'name': 'Shrikant', 'gender': 'male'}, 'student3': {'name': 'Akansha', 'gender': 'female'}}\n"
     ]
    }
   ],
   "source": [
    "student1={\"name\":\"Gurpreet\",\"gender\":\"male\"}\n",
    "student2={\"name\":\"Shrikant\",\"gender\":\"male\"}\n",
    "student3={\"name\":\"Akansha\",\"gender\":\"female\"}\n",
    "myclass={\n",
    "    \"student1\":student1,\n",
    "    \"student2\":student2,\n",
    "    \"student3\":student3\n",
    "}\n",
    "print(myclass)\n"
   ]
  },
  {
   "cell_type": "code",
   "execution_count": 22,
   "id": "42b71794-ba75-471a-af8e-524ee2bc3064",
   "metadata": {},
   "outputs": [
    {
     "name": "stdout",
     "output_type": "stream",
     "text": [
      "{'subjet1': {'subid': 1, 'subname': 'python', 'timing': '1:00pm', 'marks': 90, 'taughby': 'Rashmi mam'}, 'subjet2': {'subid': 2, 'subname': 'data sci', 'timing': '2:00pm'}, 'subjet3': {'subid': 3, 'subname': ['Data Science'], 'timing': '3:00pm', 'marks': 94}}\n"
     ]
    }
   ],
   "source": [
    "Python={'subid':1,'subname':'python','timing':'1:00pm','marks':90}\n",
    "DS={'subid':2,'subname':'data sci','timing':'2:00pm','marks':92}\n",
    "DA={'subid':3,'subname':'data any','timing':'3:00pm','marks':94}\n",
    "myclasses={\n",
    "    'subjet1':Python,\n",
    "    'subjet2':DS,\n",
    "    'subjet3':DA\n",
    "}\n",
    "Python.update({'taughby':'Rashmi mam'})\n",
    "DS.pop('marks')\n",
    "DA['subname']=['Data Science']\n",
    "print(myclasses)"
   ]
  },
  {
   "cell_type": "code",
   "execution_count": null,
   "id": "8f0f3cd5-1fe7-4698-9e63-75060758077c",
   "metadata": {},
   "outputs": [],
   "source": []
  }
 ],
 "metadata": {
  "kernelspec": {
   "display_name": "Python 3 (ipykernel)",
   "language": "python",
   "name": "python3"
  },
  "language_info": {
   "codemirror_mode": {
    "name": "ipython",
    "version": 3
   },
   "file_extension": ".py",
   "mimetype": "text/x-python",
   "name": "python",
   "nbconvert_exporter": "python",
   "pygments_lexer": "ipython3",
   "version": "3.12.4"
  }
 },
 "nbformat": 4,
 "nbformat_minor": 5
}
