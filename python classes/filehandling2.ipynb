{
 "cells": [
  {
   "cell_type": "code",
   "execution_count": 4,
   "id": "55e7b94a-ae21-47b0-af38-52cbd275496a",
   "metadata": {},
   "outputs": [
    {
     "name": "stdout",
     "output_type": "stream",
     "text": [
      "First Line: This is line one.\n",
      "Cursor Location: 22\n",
      "\n",
      "Final Content:\n",
      " This \n",
      "New line added.\n"
     ]
    }
   ],
   "source": [
    "import os\n",
    "import shutil\n",
    "os.makedirs(\"mylearning\", exist_ok=True)\n",
    "file_path = \"mylearning/demo.txt\"\n",
    "with open(file_path, \"w+\") as file:\n",
    "    file.write(\"This is line one.\\n\")\n",
    "    file.write(\"This is line two.\\n\")\n",
    "    file.write(\"This is line three.\\n\")\n",
    "with open(file_path, \"r\") as file:\n",
    "    first_line = file.readline()\n",
    "    print(\"First Line:\", first_line.strip())\n",
    "with open(file_path, \"r+\") as file:\n",
    "    file.truncate(5)\n",
    "new_file_path = \"mylearning/demo1.txt\"\n",
    "os.rename(file_path, new_file_path)\n",
    "with open(new_file_path, \"a\") as file:\n",
    "    file.write(\"\\nNew line added.\")\n",
    "with open(new_file_path, \"a+\") as file:\n",
    "    position = file.tell()\n",
    "    print(\"Cursor Location:\", position)\n",
    "with open(new_file_path, \"r+\") as file:\n",
    "    file.seek(0)\n",
    "os.makedirs(\"java\", exist_ok=True)\n",
    "shutil.copy(new_file_path, \"java/demo1.txt\")\n",
    "shutil.rmtree(\"mylearning\")\n",
    "with open(\"java/demo1.txt\", \"r\") as file:\n",
    "    content = file.read()\n",
    "    print(\"\\nFinal Content:\\n\", content)"
   ]
  },
  {
   "cell_type": "code",
   "execution_count": null,
   "id": "448941cb-75a3-4d02-8679-b6ca9d80fef5",
   "metadata": {},
   "outputs": [],
   "source": []
  }
 ],
 "metadata": {
  "kernelspec": {
   "display_name": "Python 3 (ipykernel)",
   "language": "python",
   "name": "python3"
  },
  "language_info": {
   "codemirror_mode": {
    "name": "ipython",
    "version": 3
   },
   "file_extension": ".py",
   "mimetype": "text/x-python",
   "name": "python",
   "nbconvert_exporter": "python",
   "pygments_lexer": "ipython3",
   "version": "3.12.4"
  }
 },
 "nbformat": 4,
 "nbformat_minor": 5
}
