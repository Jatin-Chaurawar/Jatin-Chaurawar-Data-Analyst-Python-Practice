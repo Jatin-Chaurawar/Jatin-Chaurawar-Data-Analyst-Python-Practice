{
 "cells": [
  {
   "cell_type": "code",
   "execution_count": 1,
   "id": "0fed4e7f-38ae-40b1-89b7-214c579c20a8",
   "metadata": {},
   "outputs": [
    {
     "name": "stdout",
     "output_type": "stream",
     "text": [
      "hello world\n"
     ]
    }
   ],
   "source": [
    "# my first program \n",
    "a = \"hello world\"\n",
    "print (a)"
   ]
  },
  {
   "cell_type": "code",
   "execution_count": 5,
   "id": "7d0dfeca-f936-4b86-82eb-02ff8c4ff9d7",
   "metadata": {},
   "outputs": [
    {
     "name": "stdout",
     "output_type": "stream",
     "text": [
      "priya\n"
     ]
    }
   ],
   "source": [
    "# learnaing comments \n",
    "# 1. Single Line comments using #\n",
    "a=\"priya\"\n",
    "print(a)"
   ]
  },
  {
   "cell_type": "code",
   "execution_count": 7,
   "id": "70950af2-24ba-4c90-b116-b5b5abe0927a",
   "metadata": {},
   "outputs": [
    {
     "name": "stdout",
     "output_type": "stream",
     "text": [
      "priya\n"
     ]
    }
   ],
   "source": [
    "# learnaing comments \n",
    "'''2. Multi Line comments \n",
    "using  '''\n",
    "a=\"priya\"\n",
    "print(a)"
   ]
  },
  {
   "cell_type": "code",
   "execution_count": 9,
   "id": "b3c10968-d67f-460a-b42a-4e75a6b7ebb2",
   "metadata": {},
   "outputs": [
    {
     "name": "stdout",
     "output_type": "stream",
     "text": [
      "priya\n"
     ]
    }
   ],
   "source": [
    "# learning types of variable naming\n",
    "#1. Pascal case ; where every 1st letter of every word is capital\n",
    "EmployeeNameIs=\"priya\"\n",
    "print(EmployeeNameIs)"
   ]
  },
  {
   "cell_type": "code",
   "execution_count": 11,
   "id": "cd037ea3-378a-4ac4-9c64-feeb764dc963",
   "metadata": {},
   "outputs": [
    {
     "name": "stdout",
     "output_type": "stream",
     "text": [
      "priya\n"
     ]
    }
   ],
   "source": [
    "# learning types of variable naming\n",
    "#2. Snake case ; where every letter  is connected via underscore_\n",
    "_Employee_Name_Is=\"priya\"\n",
    "print(_Employee_Name_Is)"
   ]
  },
  {
   "cell_type": "code",
   "execution_count": 13,
   "id": "a7d2b873-7253-45a7-9275-7858984e47c7",
   "metadata": {},
   "outputs": [
    {
     "name": "stdout",
     "output_type": "stream",
     "text": [
      "priya\n"
     ]
    }
   ],
   "source": [
    "# learning types of variable naming\n",
    "'''3. Camal case ; where every first word in lower case and all the other \n",
    "word 1st letter is capital'''\n",
    "employeeNameIs=\"priya\"\n",
    "print(employeeNameIs)"
   ]
  },
  {
   "cell_type": "code",
   "execution_count": 19,
   "id": "38f9d227-1615-4639-b9f8-8d24668f28cd",
   "metadata": {},
   "outputs": [
    {
     "name": "stdout",
     "output_type": "stream",
     "text": [
      "priya\n",
      "riya\n",
      "10\n",
      "siys\n"
     ]
    }
   ],
   "source": [
    "# valid and invalid variable names \n",
    "a='priya' #valid name\n",
    "A='riya'  #valid name\n",
    "_=10      #valid name\n",
    "a9=\"siys\" #valid name\n",
    "#6a=\"roshni\" #invalid name\n",
    "#@name=\"suraj\" invalid name\n",
    "print(a)\n",
    "print(A)\n",
    "print(_)\n",
    "print(a9)\n",
    "# print(6a)\n",
    "#print(@name)"
   ]
  },
  {
   "cell_type": "code",
   "execution_count": null,
   "id": "38afc208-1556-4c41-89fb-fb5a692f8e51",
   "metadata": {},
   "outputs": [],
   "source": []
  }
 ],
 "metadata": {
  "kernelspec": {
   "display_name": "Python 3 (ipykernel)",
   "language": "python",
   "name": "python3"
  },
  "language_info": {
   "codemirror_mode": {
    "name": "ipython",
    "version": 3
   },
   "file_extension": ".py",
   "mimetype": "text/x-python",
   "name": "python",
   "nbconvert_exporter": "python",
   "pygments_lexer": "ipython3",
   "version": "3.12.4"
  }
 },
 "nbformat": 4,
 "nbformat_minor": 5
}
