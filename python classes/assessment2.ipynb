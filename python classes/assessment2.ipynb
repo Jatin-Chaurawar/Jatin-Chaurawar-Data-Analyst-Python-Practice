{
 "cells": [
  {
   "cell_type": "code",
   "execution_count": 7,
   "id": "21460a27-338b-47b4-a22e-12a96ff4b5ec",
   "metadata": {},
   "outputs": [
    {
     "name": "stdout",
     "output_type": "stream",
     "text": [
      "0 2 4 6 8 10 12 14 16 18 20 22 24 26 28 30 32 34 36 38 40 42 44 46 48 "
     ]
    }
   ],
   "source": [
    "#1\n",
    "a=[]\n",
    "for i in range(0,50,2):\n",
    "    print(i,end=\" \")"
   ]
  },
  {
   "cell_type": "code",
   "execution_count": 7,
   "id": "68b4210c-3d5d-4ca0-962e-4ab6b8ec3d05",
   "metadata": {},
   "outputs": [
    {
     "name": "stdin",
     "output_type": "stream",
     "text": [
      "Enter a number: 77\n"
     ]
    },
    {
     "name": "stdout",
     "output_type": "stream",
     "text": [
      "14\n"
     ]
    }
   ],
   "source": [
    "#2\n",
    "number =int(input(\"Enter a number:\"))\n",
    "total_sum=0 \n",
    "while number > 0:  \n",
    "    digit=number % 10\n",
    "    total_sum += digit \n",
    "    number //= 10 \n",
    "print(total_sum) \n"
   ]
  },
  {
   "cell_type": "code",
   "execution_count": 11,
   "id": "2c238d06-6ebf-451f-a423-730530767de1",
   "metadata": {},
   "outputs": [
    {
     "name": "stdin",
     "output_type": "stream",
     "text": [
      "Enter a number: 0\n"
     ]
    },
    {
     "name": "stdout",
     "output_type": "stream",
     "text": [
      "Zero\n"
     ]
    }
   ],
   "source": [
    "#3\n",
    "number =int(input(\"Enter a number:\"))\n",
    "if number >0:\n",
    "    print(\"Number is Positive\")\n",
    "elif number > 0:\n",
    "    print(\"Number is Negative\")\n",
    "else:\n",
    "    print(\"Zero\")"
   ]
  },
  {
   "cell_type": "code",
   "execution_count": 13,
   "id": "68a33ba3-9dd8-414e-9622-8b83475a4fdc",
   "metadata": {},
   "outputs": [
    {
     "name": "stdout",
     "output_type": "stream",
     "text": [
      "[5, 10, 15, 100, 25]\n"
     ]
    }
   ],
   "source": [
    "#4\n",
    "numbers=[5,10,15,20,25]\n",
    "numbers[3]=100\n",
    "print(numbers)\n"
   ]
  },
  {
   "cell_type": "code",
   "execution_count": 21,
   "id": "e6e4dfad-fbb1-4a5e-aad7-45adce61298e",
   "metadata": {},
   "outputs": [
    {
     "name": "stdout",
     "output_type": "stream",
     "text": [
      "{1: 1, 2: 2, 3: 3, 4: 4}\n"
     ]
    }
   ],
   "source": [
    "#5\n",
    "my_tuple=(1,2,2,3,3,3,4,4,4,4)\n",
    "element_count = {}  \n",
    "for item in my_tuple:  \n",
    "    if item in element_count:  \n",
    "        element_count[item] += 1  \n",
    "    else:  \n",
    "        element_count[item] = 1  \n",
    "print(element_count)  \n"
   ]
  },
  {
   "cell_type": "code",
   "execution_count": 23,
   "id": "bedb00a0-5480-4749-af4e-2f4fa1f2efcd",
   "metadata": {},
   "outputs": [
    {
     "name": "stdout",
     "output_type": "stream",
     "text": [
      "{1, 2, 3, 4, 5, 6}\n",
      "{1, 2}\n"
     ]
    }
   ],
   "source": [
    "#6\n",
    "set1={1,2,3,4}\n",
    "set2={3,4,5,6}\n",
    "set3=set1.union(set2)\n",
    "set4=set1.difference(set2)\n",
    "print(set3)\n",
    "print(set4)\n"
   ]
  },
  {
   "cell_type": "code",
   "execution_count": 27,
   "id": "3645cce5-9afe-4d04-a364-9f71a75c1a8f",
   "metadata": {},
   "outputs": [
    {
     "name": "stdout",
     "output_type": "stream",
     "text": [
      "{'name': 'Shreyas', 'city': 'Nagpur', 'age': 23}\n"
     ]
    }
   ],
   "source": [
    "#7\n",
    "person={'name':'Shreyas','city':'Nagpur'}\n",
    "person['age']=23\n",
    "print(person)"
   ]
  },
  {
   "cell_type": "code",
   "execution_count": 29,
   "id": "53eb8990-35e9-40cf-9f6e-fd50b35e7e2c",
   "metadata": {},
   "outputs": [
    {
     "name": "stdout",
     "output_type": "stream",
     "text": [
      "[1, 2, 3, 4, 5]\n"
     ]
    }
   ],
   "source": [
    "#8\n",
    "x=[1,2,2,3,4,4,5]\n",
    "newlist=list(set(x))\n",
    "print(newlist)"
   ]
  },
  {
   "cell_type": "code",
   "execution_count": null,
   "id": "a9dc1591-fd3e-4651-971a-901bbcd828f4",
   "metadata": {},
   "outputs": [],
   "source": [
    "\n"
   ]
  }
 ],
 "metadata": {
  "kernelspec": {
   "display_name": "Python 3 (ipykernel)",
   "language": "python",
   "name": "python3"
  },
  "language_info": {
   "codemirror_mode": {
    "name": "ipython",
    "version": 3
   },
   "file_extension": ".py",
   "mimetype": "text/x-python",
   "name": "python",
   "nbconvert_exporter": "python",
   "pygments_lexer": "ipython3",
   "version": "3.12.4"
  }
 },
 "nbformat": 4,
 "nbformat_minor": 5
}
