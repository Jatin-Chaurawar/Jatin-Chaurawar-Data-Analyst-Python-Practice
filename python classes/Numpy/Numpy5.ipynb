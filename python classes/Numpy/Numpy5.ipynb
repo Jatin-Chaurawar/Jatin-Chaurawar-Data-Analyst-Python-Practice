{
 "cells": [
  {
   "cell_type": "code",
   "execution_count": 1,
   "id": "aac2070c-eac0-4241-9e8c-3d6086163de3",
   "metadata": {},
   "outputs": [
    {
     "name": "stdout",
     "output_type": "stream",
     "text": [
      "[450 350   0  30]\n"
     ]
    }
   ],
   "source": [
    "import numpy as np \n",
    "a=np.array([5,7,3,1])\n",
    "b=np.array([90,50,0,30])\n",
    "c=a*b\n",
    "print(c)"
   ]
  },
  {
   "cell_type": "code",
   "execution_count": 5,
   "id": "f6b5e69d-116b-4c20-9cb8-fb30f41fabf0",
   "metadata": {},
   "outputs": [
    {
     "name": "stdout",
     "output_type": "stream",
     "text": [
      "[[11 22 33]\n",
      " [10 20 30]]\n",
      "[1 2 3]\n",
      "[[12 24 36]\n",
      " [11 22 33]]\n"
     ]
    }
   ],
   "source": [
    "A=np.array([[11,22,33],[10,20,30]])\n",
    "print(A)\n",
    "b=np.array([1,2,3])\n",
    "print(b)\n",
    "C=A+b\n",
    "print(C)"
   ]
  },
  {
   "cell_type": "code",
   "execution_count": 7,
   "id": "abb6a743-bef5-4ce3-8163-d94b3f64ea25",
   "metadata": {},
   "outputs": [
    {
     "name": "stdout",
     "output_type": "stream",
     "text": [
      "[42  2  3  4  5]\n",
      "[1 2 3 4 5]\n"
     ]
    }
   ],
   "source": [
    "#make a copy change the original array,and display both array\n",
    "a=np.array([1,2,3,4,5])\n",
    "b=a.copy()\n",
    "a[0]=42\n",
    "print(a)\n",
    "print(b)"
   ]
  },
  {
   "cell_type": "code",
   "execution_count": 9,
   "id": "b865324a-af47-4e70-b568-e54cd29136f2",
   "metadata": {},
   "outputs": [
    {
     "name": "stdout",
     "output_type": "stream",
     "text": [
      "[42  2  3  4  5]\n",
      "[42  2  3  4  5]\n"
     ]
    }
   ],
   "source": [
    "#make a copy change the original array,and display both array\n",
    "a=np.array([1,2,3,4,5])\n",
    "b=a.view()\n",
    "a[0]=42\n",
    "print(a)\n",
    "print(b)"
   ]
  },
  {
   "cell_type": "code",
   "execution_count": 11,
   "id": "e4a7ab49-5e6e-4a8c-9972-ba027b52c85d",
   "metadata": {},
   "outputs": [
    {
     "name": "stdout",
     "output_type": "stream",
     "text": [
      "None\n",
      "[1 2 3 4 5]\n"
     ]
    }
   ],
   "source": [
    "#make a copy change the original array,and display both array\n",
    "#check the base attribute to check if an array owns it's data or not\n",
    "a=np.array([1,2,3,4,5])\n",
    "x=a.copy()\n",
    "y=a.view()\n",
    "print(x.base)\n",
    "print(y.base)"
   ]
  },
  {
   "cell_type": "code",
   "execution_count": 13,
   "id": "5f924591-c063-4b5e-b5e5-b6c27e59fc01",
   "metadata": {},
   "outputs": [
    {
     "name": "stdout",
     "output_type": "stream",
     "text": [
      "[array([1, 2]), array([3, 4]), array([5, 6])]\n"
     ]
    }
   ],
   "source": [
    "#split the array\n",
    "a=np.array([1,2,3,4,5,6])\n",
    "newarr=np.array_split(a,3)\n",
    "print(newarr)"
   ]
  },
  {
   "cell_type": "code",
   "execution_count": 15,
   "id": "51f0d76e-4fc2-4fc9-a614-591c1791dc29",
   "metadata": {},
   "outputs": [
    {
     "name": "stdout",
     "output_type": "stream",
     "text": [
      "[array([1, 2]), array([3, 4]), array([5]), array([6])]\n"
     ]
    }
   ],
   "source": [
    "#split the array\n",
    "a=np.array([1,2,3,4,5,6])\n",
    "newarr=np.array_split(a,4)\n",
    "print(newarr)"
   ]
  },
  {
   "cell_type": "code",
   "execution_count": 17,
   "id": "3cc8487b-afe5-47e7-935e-29250f2205c6",
   "metadata": {},
   "outputs": [
    {
     "name": "stdout",
     "output_type": "stream",
     "text": [
      "Array 1\n",
      " [[1 2]\n",
      " [3 4]]\n",
      "Array 2\n",
      " [[5 6]\n",
      " [7 8]]\n",
      "Array 3\n",
      " [[ 9 10]\n",
      " [11 12]]\n"
     ]
    }
   ],
   "source": [
    "#split 2d array\n",
    "#split the array\n",
    "arr=np.array([[1,2],[3,4],[5,6],[7,8],[9,10],[11,12]])\n",
    "newarr=np.array_split(arr,3)\n",
    "print(\"Array 1\\n\",newarr[0])\n",
    "print(\"Array 2\\n\",newarr[1])\n",
    "print(\"Array 3\\n\",newarr[2])"
   ]
  },
  {
   "cell_type": "code",
   "execution_count": 19,
   "id": "94be13e7-933e-4e16-9ffe-73cac2aa121c",
   "metadata": {},
   "outputs": [
    {
     "name": "stdout",
     "output_type": "stream",
     "text": [
      "[array([[1, 2, 3],\n",
      "       [4, 5, 6]]), array([[ 7,  8,  9],\n",
      "       [10, 11, 12]]), array([[13, 14, 15],\n",
      "       [16, 17, 18]])]\n",
      "[array([[ 1],\n",
      "       [ 4],\n",
      "       [ 7],\n",
      "       [10],\n",
      "       [13],\n",
      "       [16]]), array([[ 2],\n",
      "       [ 5],\n",
      "       [ 8],\n",
      "       [11],\n",
      "       [14],\n",
      "       [17]]), array([[ 3],\n",
      "       [ 6],\n",
      "       [ 9],\n",
      "       [12],\n",
      "       [15],\n",
      "       [18]])]\n"
     ]
    }
   ],
   "source": [
    "#spliting along with axis\n",
    "a=np.array([[1,2,3],[4,5,6],[7,8,9],[10,11,12],[13,14,15],[16,17,18]])\n",
    "newarr0=np.array_split(a,3,axis=0)\n",
    "newarr1=np.array_split(a,3,axis=1)\n",
    "print(newarr0)\n",
    "print(newarr1)"
   ]
  },
  {
   "cell_type": "code",
   "execution_count": 25,
   "id": "b3b9ee2e-9526-4400-a3e1-7120d43a166f",
   "metadata": {},
   "outputs": [
    {
     "name": "stdout",
     "output_type": "stream",
     "text": [
      "[array([[[ 1,  2,  3]],\n",
      "\n",
      "       [[10, 11, 12]]]), array([[[ 4,  5,  6]],\n",
      "\n",
      "       [[13, 14, 15]]]), array([[[ 7,  8,  9]],\n",
      "\n",
      "       [[16, 17, 18]]])]\n"
     ]
    }
   ],
   "source": [
    "#spliting using hsplit(horizontal)\n",
    "a=np.array([[[1,2,3],[4,5,6],[7,8,9]],[[10,11,12],[13,14,15],[16,17,18]]])\n",
    "new1=np.hsplit(a,3)\n",
    "print(new1)"
   ]
  },
  {
   "cell_type": "code",
   "execution_count": 27,
   "id": "3830e517-040b-46e6-9093-705acac0e337",
   "metadata": {},
   "outputs": [
    {
     "name": "stdout",
     "output_type": "stream",
     "text": [
      "[array([[[1, 2, 3],\n",
      "        [4, 5, 6],\n",
      "        [7, 8, 9]]]), array([[[10, 11, 12],\n",
      "        [13, 14, 15],\n",
      "        [16, 17, 18]]])]\n"
     ]
    }
   ],
   "source": [
    "#spliting using vsplit(vertical)\n",
    "a=np.array([[[1,2,3],[4,5,6],[7,8,9]],[[10,11,12],[13,14,15],[16,17,18]]])\n",
    "new1=np.vsplit(a,2)\n",
    "print(new1)"
   ]
  },
  {
   "cell_type": "code",
   "execution_count": 29,
   "id": "952d913c-1518-43c4-b4c8-2035e5899930",
   "metadata": {},
   "outputs": [
    {
     "name": "stdout",
     "output_type": "stream",
     "text": [
      "[array([[[ 1],\n",
      "        [ 4],\n",
      "        [ 7]],\n",
      "\n",
      "       [[10],\n",
      "        [13],\n",
      "        [16]]]), array([[[ 2],\n",
      "        [ 5],\n",
      "        [ 8]],\n",
      "\n",
      "       [[11],\n",
      "        [14],\n",
      "        [17]]]), array([[[ 3],\n",
      "        [ 6],\n",
      "        [ 9]],\n",
      "\n",
      "       [[12],\n",
      "        [15],\n",
      "        [18]]])]\n"
     ]
    }
   ],
   "source": [
    "#spliting using dsplit(digonal)\n",
    "a=np.array([[[1,2,3],[4,5,6],[7,8,9]],[[10,11,12],[13,14,15],[16,17,18]]])\n",
    "new1=np.dsplit(a,3)\n",
    "print(new1)"
   ]
  },
  {
   "cell_type": "code",
   "execution_count": 33,
   "id": "7e2332a0-4dd8-42ce-8fe5-c5351bfd2d59",
   "metadata": {},
   "outputs": [
    {
     "name": "stdout",
     "output_type": "stream",
     "text": [
      "(array([3, 5, 6], dtype=int64),)\n"
     ]
    }
   ],
   "source": [
    "#searching in array\n",
    "a=np.array([1,2,3,4,5,4,4])\n",
    "x=np.where(a==4)\n",
    "print(x)"
   ]
  },
  {
   "cell_type": "code",
   "execution_count": 35,
   "id": "f480cbf5-366c-4ffe-86d0-c2f35cc0497c",
   "metadata": {},
   "outputs": [
    {
     "name": "stdout",
     "output_type": "stream",
     "text": [
      "(array([1, 3, 5, 7], dtype=int64),)\n"
     ]
    }
   ],
   "source": [
    "#searching in array\n",
    "a=np.array([1,2,3,4,5,6,7,8])\n",
    "x=np.where(a%2==0)\n",
    "print(x)"
   ]
  },
  {
   "cell_type": "code",
   "execution_count": 39,
   "id": "7757bd3a-58ce-4d1a-83ff-72d4d1064298",
   "metadata": {},
   "outputs": [
    {
     "name": "stdout",
     "output_type": "stream",
     "text": [
      "1\n"
     ]
    }
   ],
   "source": [
    "#sorted search\n",
    "#searching in array\n",
    "a=np.array([6,7,8,9])\n",
    "x=np.searchsorted(a,7)\n",
    "print(x)"
   ]
  },
  {
   "cell_type": "code",
   "execution_count": 41,
   "id": "a2b0d181-6983-4328-89d2-8d0f72b31341",
   "metadata": {},
   "outputs": [
    {
     "name": "stdout",
     "output_type": "stream",
     "text": [
      "2\n"
     ]
    }
   ],
   "source": [
    "#sorted search\n",
    "a=np.array([6,7,8,9])\n",
    "x=np.searchsorted(a,7,side='right')\n",
    "print(x)"
   ]
  },
  {
   "cell_type": "code",
   "execution_count": 47,
   "id": "aa1e1f67-56cf-4230-9c44-f2e6c9cd89be",
   "metadata": {},
   "outputs": [
    {
     "name": "stdout",
     "output_type": "stream",
     "text": [
      "[1 2 3]\n"
     ]
    }
   ],
   "source": [
    "#sorted search\n",
    "a=np.array([1,3,5,7])\n",
    "x=np.searchsorted(a,[2,4,6])\n",
    "print(x)"
   ]
  },
  {
   "cell_type": "code",
   "execution_count": 49,
   "id": "ce9bd019-f9de-40c1-8d76-cb949295009c",
   "metadata": {},
   "outputs": [],
   "source": [
    "#create and save the file\n",
    "a=np.array([[2,4,5],[8,10,12]])\n",
    "#save the file\n",
    "np.save('file1.npy',a)"
   ]
  },
  {
   "cell_type": "code",
   "execution_count": 51,
   "id": "fbe47052-5f7d-4206-8d84-bea4ee763881",
   "metadata": {},
   "outputs": [
    {
     "name": "stdout",
     "output_type": "stream",
     "text": [
      "[[ 2  4  5]\n",
      " [ 8 10 12]]\n"
     ]
    }
   ],
   "source": [
    "#load and save numpy array\n",
    "loaded_array=np.load('file1.npy')\n",
    "#display the loaded array\n",
    "print(loaded_array)"
   ]
  },
  {
   "cell_type": "code",
   "execution_count": null,
   "id": "e422da73-2691-44d5-a486-aac0362a37b2",
   "metadata": {},
   "outputs": [],
   "source": []
  }
 ],
 "metadata": {
  "kernelspec": {
   "display_name": "Python 3 (ipykernel)",
   "language": "python",
   "name": "python3"
  },
  "language_info": {
   "codemirror_mode": {
    "name": "ipython",
    "version": 3
   },
   "file_extension": ".py",
   "mimetype": "text/x-python",
   "name": "python",
   "nbconvert_exporter": "python",
   "pygments_lexer": "ipython3",
   "version": "3.12.4"
  }
 },
 "nbformat": 4,
 "nbformat_minor": 5
}
