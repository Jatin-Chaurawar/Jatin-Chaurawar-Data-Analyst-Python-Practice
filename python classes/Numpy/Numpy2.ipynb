{
 "cells": [
  {
   "cell_type": "code",
   "execution_count": 1,
   "id": "6abf0a7b-541d-4ad6-ab95-8e3085e9c95d",
   "metadata": {},
   "outputs": [
    {
     "name": "stdout",
     "output_type": "stream",
     "text": [
      "[2 3]\n"
     ]
    }
   ],
   "source": [
    "#print only 2 and 3rd element\n",
    "import numpy as np\n",
    "a=np.array([1,2,3,4,5,6,7])\n",
    "print(a[1:3])"
   ]
  },
  {
   "cell_type": "code",
   "execution_count": 3,
   "id": "4c776869-9973-4c62-b232-79efda49f3ee",
   "metadata": {},
   "outputs": [
    {
     "name": "stdout",
     "output_type": "stream",
     "text": [
      "[4 5 6 7]\n",
      "[4 5 6 7]\n",
      "[4 5 6 7]\n"
     ]
    }
   ],
   "source": [
    "a=np.array([1,2,3,4,5,6,7])\n",
    "print(a[3:])\n",
    "print(a[3:7])\n",
    "print(a[-4:])"
   ]
  },
  {
   "cell_type": "code",
   "execution_count": 15,
   "id": "ed7a3893-443a-4bfa-9d7a-5f7c1a120298",
   "metadata": {},
   "outputs": [
    {
     "name": "stdout",
     "output_type": "stream",
     "text": [
      "[2]\n"
     ]
    }
   ],
   "source": [
    "a=np.array([[1,2,3,4,5],[6,7,8,9,10]])\n",
    "print(a[0,1:2])"
   ]
  },
  {
   "cell_type": "code",
   "execution_count": 13,
   "id": "739417d4-d997-4cb9-8651-c44a3f9518e1",
   "metadata": {},
   "outputs": [
    {
     "name": "stdout",
     "output_type": "stream",
     "text": [
      "[7]\n"
     ]
    }
   ],
   "source": [
    "a=np.array([[1,2,3,4,5],[6,7,8,9,10]])\n",
    "print(a[1,1:2])"
   ]
  },
  {
   "cell_type": "code",
   "execution_count": 17,
   "id": "d33070ec-d1d8-4fb7-b1ad-8d2f90aa0693",
   "metadata": {},
   "outputs": [
    {
     "name": "stdout",
     "output_type": "stream",
     "text": [
      "[[2]\n",
      " [7]]\n"
     ]
    }
   ],
   "source": [
    "a=np.array([[1,2,3,4,5],[6,7,8,9,10]])\n",
    "print(a[0:2,1:2])"
   ]
  },
  {
   "cell_type": "code",
   "execution_count": 71,
   "id": "a5723783-5f47-4c7b-a8fb-13e15e3f8242",
   "metadata": {},
   "outputs": [
    {
     "name": "stdout",
     "output_type": "stream",
     "text": [
      "[2]\n",
      "[5]\n",
      "[8]\n",
      "[11]\n",
      "[[2]\n",
      " [5]]\n",
      "[[2]\n",
      " [8]]\n",
      "[[[ 2]\n",
      "  [ 5]]\n",
      "\n",
      " [[ 8]\n",
      "  [11]]]\n"
     ]
    }
   ],
   "source": [
    "a=np.array([[[1,2,3],[4,5,6]],[[7,8,9],[10,11,12]]])\n",
    "#print2\n",
    "print(a[0,0,1:2])\n",
    "print(a[0,1,1:2])\n",
    "print(a[1,0,1:2])\n",
    "print(a[1,1,1:2])\n",
    "print(a[0,0:2,1:2])\n",
    "#print 2 & 8\n",
    "print(a[0:2,0,1:2])\n",
    "# print 2,5,8,11\n",
    "print(a[0:2,0:2,1:2])"
   ]
  },
  {
   "cell_type": "code",
   "execution_count": 73,
   "id": "9364251d-5514-4103-895b-8a9b3c37f82f",
   "metadata": {},
   "outputs": [
    {
     "name": "stdout",
     "output_type": "stream",
     "text": [
      "2\n",
      "7\n",
      "[2 7]\n"
     ]
    }
   ],
   "source": [
    "a=np.array([[1,2,3,4,5],[6,7,8,9,10]])\n",
    "#to get first element in 1st array\n",
    "print(a[0,1])\n",
    "#to get first element in 2nd array\n",
    "print(a[1,1])\n",
    "#to get first element in 1st array\n",
    "print(a[:,1])"
   ]
  },
  {
   "cell_type": "code",
   "execution_count": 79,
   "id": "9b6ce7d1-6319-4217-ab28-b0b3bc0fb2c0",
   "metadata": {},
   "outputs": [
    {
     "name": "stdout",
     "output_type": "stream",
     "text": [
      "5\n",
      "11\n",
      "2\n",
      "8\n",
      "[2 8]\n",
      "[[ 2  5]\n",
      " [ 8 11]]\n"
     ]
    }
   ],
   "source": [
    "a=np.array([[[1,2,3],[4,5,6]],[[7,8,9],[10,11,12]]])\n",
    "print(a[0,1,1])\n",
    "print(a[1,1,1])\n",
    "print(a[0,0,1])\n",
    "print(a[1,0,1])\n",
    "print(a[:,0,1])\n",
    "print(a[:,:,1])\n"
   ]
  },
  {
   "cell_type": "code",
   "execution_count": 83,
   "id": "e314ea52-753f-417d-8e15-1016b780a65d",
   "metadata": {},
   "outputs": [
    {
     "name": "stdout",
     "output_type": "stream",
     "text": [
      "[ 2  4 10  6]\n",
      "[[1 2 3]\n",
      " [3 4 5]\n",
      " [9 6 0]]\n",
      "[[1 3 9]\n",
      " [2 4 6]\n",
      " [3 5 0]]\n"
     ]
    }
   ],
   "source": [
    "a= np.array([1,2,5,3])\n",
    "#modify existing array\n",
    "a*=2\n",
    "print(a)\n",
    "#transpose of array\n",
    "a=np.array([[1,2,3],[3,4,5],[9,6,0]])\n",
    "print(a)\n",
    "print(a.T)"
   ]
  },
  {
   "cell_type": "code",
   "execution_count": 87,
   "id": "e1425bec-bc95-46c6-8a89-b6733ff223f9",
   "metadata": {},
   "outputs": [
    {
     "name": "stdout",
     "output_type": "stream",
     "text": [
      "Largest element is: 9\n",
      "Row-wise maximum element is: [6 7 9]\n",
      "Column-wise minimum element is: [1 1 2]\n",
      "Sum of all array element is: 38\n"
     ]
    }
   ],
   "source": [
    "a=np.array([[1,5,6],[4,7,2],[3,1,9]])\n",
    "print(\"Largest element is:\",a.max())\n",
    "print(\"Row-wise maximum element is:\",a.max(axis=1))\n",
    "print(\"Column-wise minimum element is:\",a.min(axis=0))\n",
    "print(\"Sum of all array element is:\",a.sum())\n"
   ]
  },
  {
   "cell_type": "code",
   "execution_count": 3,
   "id": "16209f0f-a6fe-407e-a35d-733769d4ac77",
   "metadata": {},
   "outputs": [
    {
     "name": "stdout",
     "output_type": "stream",
     "text": [
      "Cumulative sum:\n",
      " [ 1  6 12 16 23 25 28 29 38]\n",
      "Cumulative sum in axis 1:\n",
      " [[ 1  6 12]\n",
      " [ 4 11 13]\n",
      " [ 3  4 13]]\n",
      "Cumulative sum in axis 0:\n",
      " [[ 1  5  6]\n",
      " [ 5 12  8]\n",
      " [ 8 13 17]]\n"
     ]
    }
   ],
   "source": [
    "import numpy as np\n",
    "a=np.array([[1,5,6],[4,7,2],[3,1,9]])\n",
    "print(\"Cumulative sum:\\n\",a.cumsum())\n",
    "print(\"Cumulative sum in axis 1:\\n\",a.cumsum(axis=1))\n",
    "print(\"Cumulative sum in axis 0:\\n\",a.cumsum(axis=0))"
   ]
  },
  {
   "cell_type": "code",
   "execution_count": 5,
   "id": "32b79498-af84-4be5-bd2d-a0f7afb258fb",
   "metadata": {},
   "outputs": [
    {
     "name": "stdout",
     "output_type": "stream",
     "text": [
      "Array sum:\n",
      " [[5 5]\n",
      " [5 5]]\n",
      "array multiplication:\n",
      " [[4 6]\n",
      " [6 4]]\n",
      "Matrix multiplication:\n",
      " [[ 8  5]\n",
      " [20 13]]\n"
     ]
    }
   ],
   "source": [
    "a=np.array([[1,2],[3,4]])\n",
    "b=np.array([[4,3],[2,1]])\n",
    "#add array\n",
    "print(\"Array sum:\\n\",a+b)\n",
    "#multiply array elementwise multiplication\n",
    "print(\"array multiplication:\\n\",a*b)\n",
    "#matrix multiplication\n",
    "print(\"Matrix multiplication:\\n\",a.dot(b))"
   ]
  },
  {
   "cell_type": "code",
   "execution_count": 11,
   "id": "0b75fa6f-4fea-47a3-b43a-56ccdc1aa8e5",
   "metadata": {},
   "outputs": [
    {
     "name": "stdout",
     "output_type": "stream",
     "text": [
      "Array sum:\n",
      " [[ 3  3  6]\n",
      " [ 5  7  9]\n",
      " [10 10 10]]\n",
      "array multiplication:\n",
      " [[ 2  2  9]\n",
      " [ 4 10 18]\n",
      " [21 16  9]]\n",
      "Matrix multiplication:\n",
      " [[13 11 12]\n",
      " [31 26 33]\n",
      " [49 41 54]]\n"
     ]
    }
   ],
   "source": [
    "a=np.array([[1,2,3],[4,5,6],[7,8,9]])\n",
    "b=np.array([[2,1,3],[1,2,3],[3,2,1]])\n",
    "#add array\n",
    "print(\"Array sum:\\n\",a+b)\n",
    "#multiply array elementwise multiplication\n",
    "print(\"array multiplication:\\n\",a*b)\n",
    "#matrix multiplication\n",
    "print(\"Matrix multiplication:\\n\",a.dot(b))"
   ]
  },
  {
   "cell_type": "code",
   "execution_count": 14,
   "id": "ef6a25e0-f8eb-4ec7-9197-e4cdaf5b4a23",
   "metadata": {},
   "outputs": [
    {
     "name": "stdout",
     "output_type": "stream",
     "text": [
      "[-1  0  1  2  3  4  4  5  6]\n",
      "[[ 1  2  4]\n",
      " [ 3  4  6]\n",
      " [-1  0  5]]\n",
      "[[ 0 -1  2]\n",
      " [ 1  4  5]\n",
      " [ 3  4  6]]\n"
     ]
    }
   ],
   "source": [
    "a=np.array([[1,4,2],[3,4,6],[0,-1,5]])\n",
    "#Sorted array\n",
    "print(np.sort(a,axis=None))\n",
    "#Sort a1 row-wise\n",
    "print(np.sort(a,axis=1))\n",
    "#Sort a0 clumn-wise\n",
    "print(np.sort(a,axis=0))"
   ]
  },
  {
   "cell_type": "code",
   "execution_count": 18,
   "id": "594da0e4-6e6e-450e-a2a7-6e61c0e89afa",
   "metadata": {},
   "outputs": [
    {
     "name": "stdout",
     "output_type": "stream",
     "text": [
      "[ 6  5  4  4  3  2  1  0 -1]\n",
      "[[-1  0  5]\n",
      " [ 3  4  6]\n",
      " [ 1  2  4]]\n",
      "[[ 3  4  6]\n",
      " [ 1  4  5]\n",
      " [ 0 -1  2]]\n"
     ]
    }
   ],
   "source": [
    "#Decending Sort\n",
    "a=np.array([[1,4,2],[3,4,6],[0,-1,5]])\n",
    "#Sorted array\n",
    "print(np.sort(a,axis=None)[::-1])\n",
    "#Sort a1 row-wise\n",
    "a=np.array([[1,4,2],[3,4,6],[0,-1,5]])\n",
    "print(np.sort(a,axis=1)[::-1])\n",
    "#Sort a0 clumn-wise\n",
    "a=np.array([[1,4,2],[3,4,6],[0,-1,5]])\n",
    "print(np.sort(a,axis=0)[::-1])"
   ]
  },
  {
   "cell_type": "code",
   "execution_count": 22,
   "id": "a2f49718-bd6c-434c-9318-129ec5d326cc",
   "metadata": {},
   "outputs": [
    {
     "name": "stdout",
     "output_type": "stream",
     "text": [
      "Vertical stacking:\n",
      " [[1 2]\n",
      " [3 4]\n",
      " [5 6]\n",
      " [7 8]]\n",
      "\n",
      "Horizontal stacking:\n",
      " [[1 2 5 6]\n",
      " [3 4 7 8]]\n",
      "\n",
      "Column stacking:\n",
      " [[1 2 5 6]\n",
      " [3 4 7 8]]\n",
      "\n",
      "Concatening to 2nd axis::\n",
      " [[1 2 5 6]\n",
      " [3 4 7 8]]\n",
      "\n",
      "Concatening to 1nd axis::\n",
      " [[1 2]\n",
      " [3 4]\n",
      " [5 6]\n",
      " [7 8]]\n"
     ]
    }
   ],
   "source": [
    "# Stacking\n",
    "a=np.array([[1,2],[3,4]])\n",
    "b=np.array([[5,6],[7,8]])\n",
    "#vertical stacking\n",
    "print(\"Vertical stacking:\\n\",np.vstack((a,b)))\n",
    "#horizontal stacking\n",
    "print(\"\\nHorizontal stacking:\\n\",np.hstack((a,b)))\n",
    "#column stacking\n",
    "print(\"\\nColumn stacking:\\n\",np.column_stack((a,b)))\n",
    "#Concatenation method\n",
    "print(\"\\nConcatening to 2nd axis::\\n\",np.concatenate((a,b),1))\n",
    "print(\"\\nConcatening to 1nd axis::\\n\",np.concatenate((a,b),0))"
   ]
  },
  {
   "cell_type": "code",
   "execution_count": null,
   "id": "b16083f4-1d4c-4ea0-8544-727e1719f070",
   "metadata": {},
   "outputs": [],
   "source": []
  }
 ],
 "metadata": {
  "kernelspec": {
   "display_name": "Python 3 (ipykernel)",
   "language": "python",
   "name": "python3"
  },
  "language_info": {
   "codemirror_mode": {
    "name": "ipython",
    "version": 3
   },
   "file_extension": ".py",
   "mimetype": "text/x-python",
   "name": "python",
   "nbconvert_exporter": "python",
   "pygments_lexer": "ipython3",
   "version": "3.12.4"
  }
 },
 "nbformat": 4,
 "nbformat_minor": 5
}
