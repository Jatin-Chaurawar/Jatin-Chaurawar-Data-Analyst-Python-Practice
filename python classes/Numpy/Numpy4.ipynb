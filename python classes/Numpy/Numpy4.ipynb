{
 "cells": [
  {
   "cell_type": "code",
   "execution_count": 4,
   "id": "f588852c-5561-49c7-975d-3b7104aabc8e",
   "metadata": {},
   "outputs": [
    {
     "name": "stdout",
     "output_type": "stream",
     "text": [
      "Sum of all elements: 21\n",
      "Sum along axis 0: [5 7 9]\n",
      "Sum along axis 1: [ 6 15]\n"
     ]
    }
   ],
   "source": [
    "import numpy as np\n",
    "arr=np.array([[1,2,3],[4,5,6]])\n",
    "total_sum=np.sum(arr)\n",
    "print(\"Sum of all elements:\",total_sum)\n",
    "axis0_sum=np.sum(arr,axis=0)#sum along column\n",
    "print(\"Sum along axis 0:\",axis0_sum)\n",
    "axis1_sum=np.sum(arr,axis=1)#sum along rows\n",
    "print(\"Sum along axis 1:\",axis1_sum)"
   ]
  },
  {
   "cell_type": "code",
   "execution_count": 6,
   "id": "49300789-d241-4354-a40a-3adef22d9752",
   "metadata": {},
   "outputs": [
    {
     "name": "stdout",
     "output_type": "stream",
     "text": [
      "Sum of all elements: 78\n",
      "Sum along axis 0: [[ 8 10 12]\n",
      " [14 16 18]]\n",
      "Sum along axis 1: [[ 5  7  9]\n",
      " [17 19 21]]\n"
     ]
    }
   ],
   "source": [
    "import numpy as np\n",
    "arr=np.array([[[1,2,3],[4,5,6]],[[7,8,9],[10,11,12]]])\n",
    "total_sum=np.sum(arr)\n",
    "print(\"Sum of all elements:\",total_sum)\n",
    "axis0_sum=np.sum(arr,axis=0)#sum along column\n",
    "print(\"Sum along axis 0:\",axis0_sum)\n",
    "axis1_sum=np.sum(arr,axis=1)#sum along rows\n",
    "print(\"Sum along axis 1:\",axis1_sum)"
   ]
  },
  {
   "cell_type": "code",
   "execution_count": 8,
   "id": "1264c77b-cb23-4f76-bdae-de154dbf5434",
   "metadata": {},
   "outputs": [
    {
     "name": "stdout",
     "output_type": "stream",
     "text": [
      "Mean of all elements: 3.5\n",
      "Mean along axis 0: [2.5 3.5 4.5]\n",
      "Sum along axis 1: [2. 5.]\n"
     ]
    }
   ],
   "source": [
    "import numpy as np\n",
    "arr=np.array([[1,2,3],[4,5,6]])\n",
    "mean_value=np.mean(arr)\n",
    "print(\"Mean of all elements:\",mean_value)\n",
    "axis0_mean=np.mean(arr,axis=0)#mean along column\n",
    "print(\"Mean along axis 0:\",axis0_mean)\n",
    "axis1_mean=np.mean(arr,axis=1)#sum along rows\n",
    "print(\"Sum along axis 1:\",axis1_mean)"
   ]
  },
  {
   "cell_type": "code",
   "execution_count": 12,
   "id": "97fe145f-cd33-4960-9c3b-43d9ed4484db",
   "metadata": {},
   "outputs": [
    {
     "name": "stdout",
     "output_type": "stream",
     "text": [
      "Median: 3.0\n"
     ]
    }
   ],
   "source": [
    "a=np.array([1,2,2,3,3,3,4,4,5,5])\n",
    "median_value=np.median(a)\n",
    "print(\"Median:\",median_value)"
   ]
  },
  {
   "cell_type": "code",
   "execution_count": 16,
   "id": "2ef22456-619d-4c6b-ba57-cec99e628a5e",
   "metadata": {},
   "outputs": [
    {
     "name": "stdout",
     "output_type": "stream",
     "text": [
      "Median: 3.0\n",
      "Median: [1. 2. 2. 3. 3. 3. 4. 4. 5. 5.]\n",
      "Median: [3.]\n"
     ]
    }
   ],
   "source": [
    "a=np.array([[1,2,2,3,3,3,4,4,5,5]])\n",
    "median_value=np.median(a)\n",
    "print(\"Median:\",median_value)\n",
    "median_value0=np.median(a,axis=0)#column \n",
    "print(\"Median:\",median_value0)\n",
    "median_value1=np.median(a,axis=1)#rows\n",
    "print(\"Median:\",median_value1)"
   ]
  },
  {
   "cell_type": "code",
   "execution_count": 18,
   "id": "7c036bc9-ff78-4bcd-8f82-2a5a074a6764",
   "metadata": {},
   "outputs": [
    {
     "name": "stdout",
     "output_type": "stream",
     "text": [
      "[10  8  8  6]\n",
      "8.0\n",
      "2.0\n"
     ]
    }
   ],
   "source": [
    "a=np.array([10,8,8,6])\n",
    "#calculate varience\n",
    "print(a)\n",
    "print(np.mean(a))\n",
    "print(np.var(a))"
   ]
  },
  {
   "cell_type": "code",
   "execution_count": 20,
   "id": "4674c7fa-6bf8-404e-a062-931348541a40",
   "metadata": {},
   "outputs": [
    {
     "name": "stdout",
     "output_type": "stream",
     "text": [
      "[10  8  8  6]\n",
      "8.0\n",
      "2.0\n",
      "1.4142135623730951\n"
     ]
    }
   ],
   "source": [
    "a=np.array([10,8,8,6])\n",
    "#calculate varience\n",
    "print(a)\n",
    "print(np.mean(a))\n",
    "print(np.var(a))\n",
    "print(np.std(a))#standard daviation"
   ]
  },
  {
   "cell_type": "code",
   "execution_count": 1,
   "id": "e7fed188-ddab-4206-9315-ccc1c381f34a",
   "metadata": {},
   "outputs": [
    {
     "name": "stdout",
     "output_type": "stream",
     "text": [
      "Array [1 2 3 4 5]\n",
      "Weights [0.1 0.2 0.3 0.2 0.2]\n",
      "Weighted Average 3.2\n"
     ]
    }
   ],
   "source": [
    "import numpy as np \n",
    "a=np.array([1,2,3,4,5])\n",
    "weights=np.array([0.1,0.2,0.3,0.2,0.2])\n",
    "weighted_avg=np.average(a,weights=weights)\n",
    "print(\"Array\",a)\n",
    "print(\"Weights\",weights)\n",
    "print(\"Weighted Average\",weighted_avg)"
   ]
  },
  {
   "cell_type": "code",
   "execution_count": 3,
   "id": "a4e78c0a-9427-4eac-9d7d-f17c44d071c7",
   "metadata": {},
   "outputs": [
    {
     "name": "stdout",
     "output_type": "stream",
     "text": [
      "Array [ 1  8  3  4  2  7 10]\n",
      "Range of Values(max-min): 9\n"
     ]
    }
   ],
   "source": [
    "a=np.array([1,8,3,4,2,7,10])\n",
    "range_of_values=np.ptp(a)\n",
    "print(\"Array\",a)\n",
    "print(\"Range of Values(max-min):\",range_of_values)"
   ]
  },
  {
   "cell_type": "code",
   "execution_count": 7,
   "id": "72ef7110-17f9-42a8-9fac-4cbc03e56372",
   "metadata": {},
   "outputs": [
    {
     "name": "stdout",
     "output_type": "stream",
     "text": [
      "[ 1  2  3  4  5  6  7  8  9 10]\n",
      "4.6\n"
     ]
    }
   ],
   "source": [
    "# PErcentile in 1d array\n",
    "a=np.array([1,2,3,4,5,6,7,8,9,10])\n",
    "#define the percentile\n",
    "percentile_value=40\n",
    "percentile_result=np.percentile(a,percentile_value)\n",
    "print(a)\n",
    "print(percentile_result)"
   ]
  },
  {
   "cell_type": "code",
   "execution_count": 11,
   "id": "947b1431-ebff-446b-9fee-ca00aa5e421f",
   "metadata": {},
   "outputs": [
    {
     "name": "stdout",
     "output_type": "stream",
     "text": [
      "Product along axis 0: [ 4 10 18]\n",
      "Product along axis 1: [  6 120]\n"
     ]
    }
   ],
   "source": [
    "#product\n",
    "a=np.array([[1,2,3],[4,5,6]])\n",
    "prod_axis0=np.prod(a,axis=0)\n",
    "print(\"Product along axis 0:\",prod_axis0)\n",
    "prod_axis1=np.prod(a,axis=1)\n",
    "print(\"Product along axis 1:\",prod_axis1)\n"
   ]
  },
  {
   "cell_type": "code",
   "execution_count": 13,
   "id": "c8ec4109-3cf7-4ba3-9df2-ae69e57dd2db",
   "metadata": {},
   "outputs": [
    {
     "name": "stdout",
     "output_type": "stream",
     "text": [
      "Cumulative Product: [  1   2   6  24 120]\n"
     ]
    }
   ],
   "source": [
    "#cumutative product\n",
    "a=np.array([1,2,3,4,5])\n",
    "cumulative_prod=np.cumprod(a)\n",
    "print(\"Cumulative Product:\",cumulative_prod)"
   ]
  },
  {
   "cell_type": "code",
   "execution_count": 15,
   "id": "c95fe1cf-f3c4-437b-b1ee-425d264df6bd",
   "metadata": {},
   "outputs": [
    {
     "name": "stdout",
     "output_type": "stream",
     "text": [
      "Cumulative Product: [  1   2   6  24 120 720]\n",
      "Cumulative Product in Axis=0:\n",
      " [[ 1  2  3]\n",
      " [ 4 10 18]]\n",
      "Cumulative Product in Axis=1:\n",
      " [[  1   2   6]\n",
      " [  4  20 120]]\n"
     ]
    }
   ],
   "source": [
    "#cumutative product 2d\n",
    "a=np.array([[1,2,3],[4,5,6]])\n",
    "cumulative_prod=np.cumprod(a)\n",
    "print(\"Cumulative Product:\",cumulative_prod)\n",
    "cumulative_prod0=np.cumprod(a,axis=0)\n",
    "print(\"Cumulative Product in Axis=0:\\n\",cumulative_prod0)\n",
    "cumulative_prod1=np.cumprod(a,axis=1)\n",
    "print(\"Cumulative Product in Axis=1:\\n\",cumulative_prod1)"
   ]
  },
  {
   "cell_type": "code",
   "execution_count": 19,
   "id": "572a1874-e55c-4bad-bc69-93649cdf4e84",
   "metadata": {},
   "outputs": [
    {
     "name": "stdout",
     "output_type": "stream",
     "text": [
      "Array [1 2 2 3 3 3 4 4 5 6 6 7 7 7 7 7 8]\n",
      "Mode ModeResult(mode=7, count=5)\n"
     ]
    }
   ],
   "source": [
    "#mode\n",
    "import scipy\n",
    "from scipy import stats\n",
    "a=np.array([1,2,2,3,3,3,4,4,5,6,6,7,7,7,7,7,8])\n",
    "mode_result=stats.mode(a)\n",
    "print(\"Array\",a)\n",
    "print(\"Mode\",mode_result)"
   ]
  },
  {
   "cell_type": "code",
   "execution_count": null,
   "id": "c5db0290-01e5-4bc3-9aa5-dbc3b791b88b",
   "metadata": {},
   "outputs": [],
   "source": []
  }
 ],
 "metadata": {
  "kernelspec": {
   "display_name": "Python 3 (ipykernel)",
   "language": "python",
   "name": "python3"
  },
  "language_info": {
   "codemirror_mode": {
    "name": "ipython",
    "version": 3
   },
   "file_extension": ".py",
   "mimetype": "text/x-python",
   "name": "python",
   "nbconvert_exporter": "python",
   "pygments_lexer": "ipython3",
   "version": "3.12.4"
  }
 },
 "nbformat": 4,
 "nbformat_minor": 5
}
