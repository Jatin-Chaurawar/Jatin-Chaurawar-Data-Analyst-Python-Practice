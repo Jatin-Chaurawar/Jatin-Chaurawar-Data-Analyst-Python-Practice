{
 "cells": [
  {
   "cell_type": "code",
   "execution_count": 1,
   "id": "a383f282-cb22-460a-b243-20a91e5b5277",
   "metadata": {},
   "outputs": [
    {
     "name": "stdout",
     "output_type": "stream",
     "text": [
      "[1 3]\n"
     ]
    }
   ],
   "source": [
    "# Filter 1st and 3rd item\n",
    "import numpy as np\n",
    "a=np.array([1,2,3,4])\n",
    "x=[True,False,True,False]\n",
    "b=a[x]\n",
    "print(b)\n"
   ]
  },
  {
   "cell_type": "code",
   "execution_count": 3,
   "id": "6719c733-ad99-4c39-aa0f-c81b7d81f8ca",
   "metadata": {},
   "outputs": [
    {
     "name": "stdout",
     "output_type": "stream",
     "text": [
      "[ True False  True  True False False  True  True]\n",
      "[21 23 44 27 56]\n"
     ]
    }
   ],
   "source": [
    "arr=np.array([11,2,23,24,18,1,27,56])\n",
    "filter_arr= arr > 20\n",
    "newarr=arr[filter_arr]\n",
    "print(filter_arr)\n",
    "print(newarr)"
   ]
  },
  {
   "cell_type": "code",
   "execution_count": 7,
   "id": "25449d12-2856-43a7-9222-8b7c4520f602",
   "metadata": {},
   "outputs": [
    {
     "name": "stdout",
     "output_type": "stream",
     "text": [
      "[True, False, True, True, True, False]\n",
      "[21 23 24 29]\n"
     ]
    }
   ],
   "source": [
    "arr=np.array([21,2,23,24,29,19])\n",
    "filter_arr=[]\n",
    "for element in arr:\n",
    "    if element>20:\n",
    "        filter_arr.append(True)\n",
    "    else:\n",
    "        filter_arr.append(False)\n",
    "newarr=arr[filter_arr]\n",
    "print(filter_arr)\n",
    "print(newarr)"
   ]
  },
  {
   "cell_type": "code",
   "execution_count": 9,
   "id": "c88caddd-50f0-41e5-bdd8-a74e115f925d",
   "metadata": {},
   "outputs": [
    {
     "name": "stdout",
     "output_type": "stream",
     "text": [
      "23\n"
     ]
    }
   ],
   "source": [
    "#gernerate random number\n",
    "from numpy import random\n",
    "x=random.randint(100)\n",
    "print(x)"
   ]
  },
  {
   "cell_type": "code",
   "execution_count": 11,
   "id": "54a300a1-cd85-4ce0-8b88-47f038f3ef47",
   "metadata": {},
   "outputs": [
    {
     "name": "stdout",
     "output_type": "stream",
     "text": [
      "0.547141157926119\n"
     ]
    }
   ],
   "source": [
    "from numpy import random\n",
    "x=random.rand()\n",
    "print(x)"
   ]
  },
  {
   "cell_type": "code",
   "execution_count": 13,
   "id": "c1777de6-bdc7-4099-9d01-feef9b1cffd5",
   "metadata": {},
   "outputs": [
    {
     "name": "stdout",
     "output_type": "stream",
     "text": [
      "[48 22 14 67 70]\n"
     ]
    }
   ],
   "source": [
    "#generate 1d array containing 5 random interger from 0 to 100\n",
    "from numpy import random\n",
    "x=random.randint(100,size=5)\n",
    "print(x)"
   ]
  },
  {
   "cell_type": "code",
   "execution_count": 15,
   "id": "f64c37d1-b555-41fa-886d-ed75ea66b661",
   "metadata": {},
   "outputs": [
    {
     "name": "stdout",
     "output_type": "stream",
     "text": [
      "[[43  4 32 36 52]\n",
      " [79 96 94 82 89]\n",
      " [79 34 82 31 27]]\n"
     ]
    }
   ],
   "source": [
    "#generate 2d array containing 3rows and each contain 5  random interger from 0 to 100\n",
    "from numpy import random\n",
    "x=random.randint(100,size=(3,5))\n",
    "print(x)"
   ]
  },
  {
   "cell_type": "code",
   "execution_count": 19,
   "id": "027d7d5a-75a4-495b-93ba-5fd92c4ddb5c",
   "metadata": {},
   "outputs": [
    {
     "name": "stdout",
     "output_type": "stream",
     "text": [
      "[[[82 42 88  0 87]\n",
      "  [26 98 72 27 17]\n",
      "  [35 73 29  0 88]]\n",
      "\n",
      " [[24 53 18 67 66]\n",
      "  [63 33 91 57 34]\n",
      "  [85 77 67 72 48]]]\n"
     ]
    }
   ],
   "source": [
    "#generate 3d array containing 3rows and each contain 5  random interger from 0 to 100\n",
    "from numpy import random\n",
    "x=random.randint(100,size=(2,3,5))\n",
    "print(x)"
   ]
  },
  {
   "cell_type": "code",
   "execution_count": 21,
   "id": "d995e3e4-bc5f-4a4b-95a7-81f220246574",
   "metadata": {},
   "outputs": [
    {
     "name": "stdout",
     "output_type": "stream",
     "text": [
      "[[5 7 9 5 5]\n",
      " [7 3 3 5 5]\n",
      " [9 7 3 5 9]]\n"
     ]
    }
   ],
   "source": [
    "#use ramdom choice and make an array\n",
    "from numpy import random\n",
    "x=random.choice([3,5,7,9],size=(3,5))\n",
    "print(x)"
   ]
  },
  {
   "cell_type": "code",
   "execution_count": 23,
   "id": "b15ed8f3-499b-40f2-8c49-fe1e9562e9d6",
   "metadata": {},
   "outputs": [
    {
     "name": "stdout",
     "output_type": "stream",
     "text": [
      "[[7 5 7 7 7]\n",
      " [5 7 7 5 7]]\n"
     ]
    }
   ],
   "source": [
    "#use ramdom choice and make an array\n",
    "# using probality\n",
    "from numpy import random\n",
    "x=random.choice([3,5,7,9],p=[0.1,0.3,0.6,0.0],size=(2,5))\n",
    "print(x)"
   ]
  },
  {
   "cell_type": "code",
   "execution_count": 25,
   "id": "19efeaef-d35d-449f-98bb-da4574ec023c",
   "metadata": {},
   "outputs": [
    {
     "name": "stdout",
     "output_type": "stream",
     "text": [
      "[ 4  2  5 30 11]\n"
     ]
    }
   ],
   "source": [
    "#use ramdom choice and make an array shuffle\n",
    "from numpy import random\n",
    "arr=np.array([11,2,30,4,5])\n",
    "random.shuffle(arr)\n",
    "print(arr)"
   ]
  },
  {
   "cell_type": "code",
   "execution_count": 27,
   "id": "357a4296-25f9-44c2-ac3e-127f6800b1da",
   "metadata": {},
   "outputs": [
    {
     "name": "stdout",
     "output_type": "stream",
     "text": [
      "[ 2 30  5 11  4]\n"
     ]
    }
   ],
   "source": [
    "from numpy import random\n",
    "arr=np.array([11,2,30,4,5])\n",
    "print(random.permutation(arr))"
   ]
  },
  {
   "cell_type": "code",
   "execution_count": null,
   "id": "01c4d7da-925f-45f2-ae5a-c7e4154a05cd",
   "metadata": {},
   "outputs": [],
   "source": []
  }
 ],
 "metadata": {
  "kernelspec": {
   "display_name": "Python 3 (ipykernel)",
   "language": "python",
   "name": "python3"
  },
  "language_info": {
   "codemirror_mode": {
    "name": "ipython",
    "version": 3
   },
   "file_extension": ".py",
   "mimetype": "text/x-python",
   "name": "python",
   "nbconvert_exporter": "python",
   "pygments_lexer": "ipython3",
   "version": "3.12.4"
  }
 },
 "nbformat": 4,
 "nbformat_minor": 5
}
