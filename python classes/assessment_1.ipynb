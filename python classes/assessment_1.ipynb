{
 "cells": [
  {
   "cell_type": "code",
   "execution_count": 8,
   "id": "e9593bc9-448f-45bc-b944-34781e55661b",
   "metadata": {},
   "outputs": [
    {
     "name": "stdout",
     "output_type": "stream",
     "text": [
      "Jatin Chaurawar\n",
      "23 year\n",
      "6 ft\n"
     ]
    }
   ],
   "source": [
    "#1\n",
    "name=\"Jatin Chaurawar\"\n",
    "age=23\n",
    "height=6\n",
    "print(name)\n",
    "print(age,\"year\")\n",
    "print(height,\"ft\")"
   ]
  },
  {
   "cell_type": "code",
   "execution_count": 10,
   "id": "2b73f1c8-1c47-4404-a4e7-e401f7b23d5f",
   "metadata": {},
   "outputs": [
    {
     "name": "stdin",
     "output_type": "stream",
     "text": [
      "enter character jatin\n",
      "enter number 2\n",
      "enter number 3.4\n"
     ]
    },
    {
     "name": "stdout",
     "output_type": "stream",
     "text": [
      "jatin\n",
      "<class 'str'>\n",
      "2\n",
      "<class 'int'>\n",
      "3.4\n",
      "<class 'float'>\n"
     ]
    }
   ],
   "source": [
    "#2\n",
    "str1=str(input(\"enter character\"))\n",
    "num1=int(input(\"enter number\"))\n",
    "num2=float(input(\"enter number\"))\n",
    "print(str1)\n",
    "print(type(str1))\n",
    "print(num1)\n",
    "print(type(num1))\n",
    "print(num2)\n",
    "print(type(num2))"
   ]
  },
  {
   "cell_type": "code",
   "execution_count": 14,
   "id": "be6a4d97-6981-4a1d-b18a-7e4501cd239a",
   "metadata": {},
   "outputs": [
    {
     "name": "stdin",
     "output_type": "stream",
     "text": [
      "Enter your Name:  Jatin\n"
     ]
    },
    {
     "name": "stdout",
     "output_type": "stream",
     "text": [
      "JATIN\n",
      "jatin\n"
     ]
    }
   ],
   "source": [
    "#3\n",
    "str1=str(input(\"Enter your Name: \"))\n",
    "str2=str1.upper()\n",
    "str3=str1.lower()\n",
    "print(str2)\n",
    "print(str3)\n"
   ]
  },
  {
   "cell_type": "code",
   "execution_count": 85,
   "id": "5707ee31-bfda-48b2-b9e8-60e7d13916a1",
   "metadata": {},
   "outputs": [
    {
     "name": "stdin",
     "output_type": "stream",
     "text": [
      "Enter your Name:  jatin\n"
     ]
    },
    {
     "name": "stdout",
     "output_type": "stream",
     "text": [
      "1\n"
     ]
    }
   ],
   "source": [
    "#4\n",
    "str1=str(input(\"Enter your Name: \"))\n",
    "x=str1.count(\"a\")\n",
    "print(x)"
   ]
  },
  {
   "cell_type": "code",
   "execution_count": 28,
   "id": "510a6be5-e6dc-46b9-acf8-86c62aeff473",
   "metadata": {},
   "outputs": [
    {
     "name": "stdin",
     "output_type": "stream",
     "text": [
      "Enter your Name:  jatin\n",
      "Enter your Age:  23\n"
     ]
    },
    {
     "name": "stdout",
     "output_type": "stream",
     "text": [
      "Hello, my name is jatin and I am 23 year old\n"
     ]
    }
   ],
   "source": [
    "#5\n",
    "name=str(input(\"Enter your Name: \"))\n",
    "age=int(input(\"Enter your Age: \"))\n",
    "sentence=\"Hello, my name is {} and I am {} year old\".format(name,age)\n",
    "print(sentence)"
   ]
  },
  {
   "cell_type": "code",
   "execution_count": 36,
   "id": "cadf74ed-cd3b-4426-a722-d66a6207d790",
   "metadata": {},
   "outputs": [
    {
     "name": "stdin",
     "output_type": "stream",
     "text": [
      "enter number 10\n",
      "enter number 5\n"
     ]
    },
    {
     "name": "stdout",
     "output_type": "stream",
     "text": [
      "Sum is: 15.0\n",
      "Difference is: 5.0\n",
      "Product is: 50.0\n",
      "Quotient is: 2.0\n"
     ]
    }
   ],
   "source": [
    "#6\n",
    "num1=float(input(\"enter number\"))\n",
    "num2=float(input(\"enter number\"))\n",
    "num3=num1+num2\n",
    "num4=num1-num2\n",
    "num5=num1*num2\n",
    "num6=num1/num2\n",
    "print(\"Sum is:\",num3)\n",
    "print(\"Difference is:\",num4)\n",
    "print(\"Product is:\",num5)\n",
    "print(\"Quotient is:\",num6)"
   ]
  },
  {
   "cell_type": "code",
   "execution_count": 42,
   "id": "91b73833-9d21-47be-9266-d3a1cd524b8f",
   "metadata": {},
   "outputs": [
    {
     "name": "stdin",
     "output_type": "stream",
     "text": [
      "Enter width 10\n",
      "Enter height 5\n"
     ]
    },
    {
     "name": "stdout",
     "output_type": "stream",
     "text": [
      "Area of Rectsngle is: 50.0\n"
     ]
    }
   ],
   "source": [
    "#7\n",
    "width=float(input(\"Enter width\"))\n",
    "height=float(input(\"Enter height\"))\n",
    "area=width*height\n",
    "print(\"Area of Rectsngle is:\",area)"
   ]
  },
  {
   "cell_type": "code",
   "execution_count": 60,
   "id": "e81b26bf-85b6-482b-ab22-d1c65e3927ca",
   "metadata": {},
   "outputs": [
    {
     "name": "stdin",
     "output_type": "stream",
     "text": [
      "enter number 4\n"
     ]
    },
    {
     "name": "stdout",
     "output_type": "stream",
     "text": [
      "Number is Even\n"
     ]
    }
   ],
   "source": [
    "#8\n",
    "num1=float(input(\"enter number\"))\n",
    "if  num1%2==0:\n",
    "    print(\"Number is Even\")\n",
    "elif num1%2==1:\n",
    "    print(\"Nunber is Odd\")"
   ]
  },
  {
   "cell_type": "code",
   "execution_count": 50,
   "id": "5a3ccd0b-5561-4d16-9ed2-79b04bce1170",
   "metadata": {},
   "outputs": [
    {
     "name": "stdin",
     "output_type": "stream",
     "text": [
      "Enter your Age:  23\n"
     ]
    },
    {
     "name": "stdout",
     "output_type": "stream",
     "text": [
      "Adult\n"
     ]
    }
   ],
   "source": [
    "#9\n",
    "age=int(input(\"Enter your Age: \"))\n",
    "if age<13:\n",
    "    print(\"Children\")\n",
    "elif age>=13 and age<=19:\n",
    "    print(\"Teenagers\")\n",
    "else:\n",
    "    print(\"Adult\")"
   ]
  },
  {
   "cell_type": "code",
   "execution_count": 64,
   "id": "be57a1ae-57c4-479f-a022-cd4376e675ee",
   "metadata": {},
   "outputs": [
    {
     "name": "stdin",
     "output_type": "stream",
     "text": [
      "Enter string:  you\n"
     ]
    },
    {
     "name": "stdout",
     "output_type": "stream",
     "text": [
      "word not found\n"
     ]
    }
   ],
   "source": [
    "#10\n",
    "str1=str(input(\"Enter string: \"))\n",
    "if \"python\"in str1:\n",
    "    print(\"Word found\")\n",
    "else:\n",
    "    print(\"word not found\")\n"
   ]
  },
  {
   "cell_type": "code",
   "execution_count": null,
   "id": "bce56e47-c308-4509-8a60-e7d367bbfb91",
   "metadata": {},
   "outputs": [],
   "source": []
  }
 ],
 "metadata": {
  "kernelspec": {
   "display_name": "Python 3 (ipykernel)",
   "language": "python",
   "name": "python3"
  },
  "language_info": {
   "codemirror_mode": {
    "name": "ipython",
    "version": 3
   },
   "file_extension": ".py",
   "mimetype": "text/x-python",
   "name": "python",
   "nbconvert_exporter": "python",
   "pygments_lexer": "ipython3",
   "version": "3.12.4"
  }
 },
 "nbformat": 4,
 "nbformat_minor": 5
}
