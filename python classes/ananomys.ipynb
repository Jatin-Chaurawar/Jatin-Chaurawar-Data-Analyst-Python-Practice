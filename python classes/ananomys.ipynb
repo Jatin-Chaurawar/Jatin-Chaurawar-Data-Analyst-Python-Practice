{
 "cells": [
  {
   "cell_type": "code",
   "execution_count": 4,
   "id": "96db69f4-5a4f-4308-ad37-e6895a5b1d7e",
   "metadata": {},
   "outputs": [
    {
     "name": "stdout",
     "output_type": "stream",
     "text": [
      "6\n",
      "6\n"
     ]
    }
   ],
   "source": [
    "#normal function\n",
    "def myfun(x):\n",
    "    return x*2\n",
    "print(myfun(3))\n",
    "#using lambda\n",
    "a=lambda x: x*2\n",
    "print(a(3))"
   ]
  },
  {
   "cell_type": "code",
   "execution_count": 8,
   "id": "c56ac34a-88ad-4fab-a507-f646fdda7e2e",
   "metadata": {},
   "outputs": [
    {
     "name": "stdout",
     "output_type": "stream",
     "text": [
      "WE ARE LEARNING PYTHON\n"
     ]
    }
   ],
   "source": [
    "mystring=\"we are learning python\"\n",
    "a=lambda string:string.upper()\n",
    "print(a(mystring))"
   ]
  },
  {
   "cell_type": "code",
   "execution_count": 10,
   "id": "76297f18-16f7-492f-8f89-fe83de67ed9a",
   "metadata": {},
   "outputs": [
    {
     "name": "stdout",
     "output_type": "stream",
     "text": [
      "10\n",
      "20\n",
      "30\n",
      "40\n"
     ]
    }
   ],
   "source": [
    "#lambda with list comprehension\n",
    "a=[lambda arg=x:arg*10 for x in range(1,5)]\n",
    "for item in a:\n",
    "    print(item())"
   ]
  },
  {
   "cell_type": "code",
   "execution_count": 18,
   "id": "648ae41d-a361-4f8b-8794-b58de60a6c41",
   "metadata": {},
   "outputs": [
    {
     "name": "stdout",
     "output_type": "stream",
     "text": [
      "12\n"
     ]
    }
   ],
   "source": [
    "Max=lambda a,b:a if (a>b) else b\n",
    "print(Max(2,12))"
   ]
  },
  {
   "cell_type": "code",
   "execution_count": 22,
   "id": "cd8ae5e4-7f90-4aae-9451-ece49286713f",
   "metadata": {},
   "outputs": [
    {
     "name": "stdout",
     "output_type": "stream",
     "text": [
      "[90, 59, 21, 60]\n"
     ]
    }
   ],
   "source": [
    "ages=[13,90,17,59,21,60,5]\n",
    "adults=list(filter(lambda age:age>18,ages))\n",
    "print(adults)"
   ]
  },
  {
   "cell_type": "code",
   "execution_count": 30,
   "id": "7eec57fb-c6ef-4582-a1af-6c152dafa551",
   "metadata": {},
   "outputs": [
    {
     "name": "stdout",
     "output_type": "stream",
     "text": [
      "[1, 4, 9, 16]\n"
     ]
    }
   ],
   "source": [
    "# using map function\n",
    "def square(x):\n",
    "    return x**2\n",
    "number=[1,2,3,4]\n",
    "squared_number=map(square,number)\n",
    "print(list(squared_number))"
   ]
  },
  {
   "cell_type": "code",
   "execution_count": 32,
   "id": "7405c66e-350e-4906-b5d6-7d904192a5ed",
   "metadata": {},
   "outputs": [
    {
     "name": "stdout",
     "output_type": "stream",
     "text": [
      "[1, 4, 9, 16]\n"
     ]
    }
   ],
   "source": [
    "def square(x):\n",
    "    return x**2\n",
    "number=[1,2,3,4]\n",
    "squared_number=[square(x) for x in number]\n",
    "print(squared_number)"
   ]
  },
  {
   "cell_type": "code",
   "execution_count": 34,
   "id": "7bb34541-4c2b-4d26-b151-d78fc2f03d27",
   "metadata": {},
   "outputs": [
    {
     "name": "stdout",
     "output_type": "stream",
     "text": [
      "[1, 4, 9, 16]\n"
     ]
    }
   ],
   "source": [
    "def square(x):\n",
    "    return x**2\n",
    "number=[1,2,3,4]\n",
    "squared_number=[]\n",
    "for x in number:\n",
    "    squared_number.append(square(x))\n",
    "print(squared_number)"
   ]
  },
  {
   "cell_type": "code",
   "execution_count": 36,
   "id": "5b74d075-0555-499e-a15a-51c253650c89",
   "metadata": {},
   "outputs": [
    {
     "name": "stdout",
     "output_type": "stream",
     "text": [
      "10\n",
      "15\n"
     ]
    }
   ],
   "source": [
    "# functin as return values\n",
    "def multiply_by(factor):\n",
    "    def multiplier(x):\n",
    "        return x * factor\n",
    "    return multiplier\n",
    "double=multiply_by(2)\n",
    "triple=multiply_by(3)\n",
    "print(double(5))\n",
    "print(triple(5))"
   ]
  },
  {
   "cell_type": "code",
   "execution_count": 38,
   "id": "6f45efa2-7ae6-4313-bd8e-4bdccfa84809",
   "metadata": {},
   "outputs": [
    {
     "name": "stdout",
     "output_type": "stream",
     "text": [
      "13\n"
     ]
    }
   ],
   "source": [
    "def myfunction(x):\n",
    "    def multiplication(y):\n",
    "        return y*2\n",
    "    return multiplication(x)+3\n",
    "result=myfunction(5)\n",
    "print(result)"
   ]
  },
  {
   "cell_type": "code",
   "execution_count": 42,
   "id": "d054be0f-c6e4-4449-8628-b01c635c5d7a",
   "metadata": {},
   "outputs": [
    {
     "name": "stdout",
     "output_type": "stream",
     "text": [
      "apple\n"
     ]
    }
   ],
   "source": [
    "def longest_value(d:dict):\n",
    "    longest=max(d.values(),key=len)\n",
    "    return longest\n",
    "fruits={'fruit':'apple','color':'green'}\n",
    "print(longest_value(fruits))"
   ]
  },
  {
   "cell_type": "code",
   "execution_count": null,
   "id": "3c163a8c-387c-4bf9-a452-d979623bac49",
   "metadata": {},
   "outputs": [],
   "source": []
  }
 ],
 "metadata": {
  "kernelspec": {
   "display_name": "Python 3 (ipykernel)",
   "language": "python",
   "name": "python3"
  },
  "language_info": {
   "codemirror_mode": {
    "name": "ipython",
    "version": 3
   },
   "file_extension": ".py",
   "mimetype": "text/x-python",
   "name": "python",
   "nbconvert_exporter": "python",
   "pygments_lexer": "ipython3",
   "version": "3.12.4"
  }
 },
 "nbformat": 4,
 "nbformat_minor": 5
}
