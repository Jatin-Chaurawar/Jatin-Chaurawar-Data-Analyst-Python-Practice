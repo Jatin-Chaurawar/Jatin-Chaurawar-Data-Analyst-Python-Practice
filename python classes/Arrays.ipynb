{
 "cells": [
  {
   "cell_type": "code",
   "execution_count": 2,
   "id": "67249952-3261-44a4-84b7-b34613f83a63",
   "metadata": {},
   "outputs": [
    {
     "name": "stdout",
     "output_type": "stream",
     "text": [
      "[1, 2, 3, 4, 5]\n",
      "array('i', [1, 2, 3, 4, 5])\n",
      "[1 2 3 4 5]\n"
     ]
    }
   ],
   "source": [
    "import array\n",
    "import numpy as np\n",
    "# python list\n",
    "py_list=[1,2,3,4,5]\n",
    "# Array module\n",
    "arr=array.array('i',[1,2,3,4,5])\n",
    "# Numpy array\n",
    "np_arr=np.array([1,2,3,4,5])\n",
    "print(py_list)\n",
    "print(arr)\n",
    "print(np_arr)"
   ]
  },
  {
   "cell_type": "code",
   "execution_count": 4,
   "id": "b77e0b36-d972-4a4d-98cf-e88f4059b1bf",
   "metadata": {},
   "outputs": [
    {
     "name": "stdout",
     "output_type": "stream",
     "text": [
      "array('u', 'abcde')\n"
     ]
    }
   ],
   "source": [
    "import array\n",
    "# Create an arraynofUnicode characters\n",
    "char=array.array('u',['a','b','c','d','e'])\n",
    "print(char)"
   ]
  },
  {
   "cell_type": "code",
   "execution_count": 6,
   "id": "30dd382c-7faa-40c7-b0f9-4b9199958ffa",
   "metadata": {},
   "outputs": [
    {
     "name": "stdout",
     "output_type": "stream",
     "text": [
      "array('u', 'abcde')\n",
      "array('u', 'azcde')\n",
      "array('u', 'azcdef')\n"
     ]
    }
   ],
   "source": [
    "unicode_arr=array.array('u',['a','b','c','d','e'])\n",
    "#access element\n",
    "print(unicode_arr)\n",
    "#modify elements\n",
    "unicode_arr[1]='z'\n",
    "print(unicode_arr)\n",
    "#append new unicode character\n",
    "unicode_arr.append('f')\n",
    "print(unicode_arr)"
   ]
  },
  {
   "cell_type": "code",
   "execution_count": 10,
   "id": "5df600bf-d399-4b70-a503-3885f14138b0",
   "metadata": {},
   "outputs": [
    {
     "name": "stdout",
     "output_type": "stream",
     "text": [
      "Array Elements:\n",
      "1\n",
      "2\n",
      "3\n",
      "4\n",
      "5\n",
      "\n",
      "Accessing element at index 2: 3\n"
     ]
    }
   ],
   "source": [
    "import array\n",
    "a=array.array('i',[1,2,3,4,5])\n",
    "# Accessing elements\n",
    "print(\"Array Elements:\")\n",
    "for num in a:\n",
    "    print(num)\n",
    "#acceaaing element by index\n",
    "print(\"\\nAccessing element at index 2:\",a[2])"
   ]
  },
  {
   "cell_type": "code",
   "execution_count": 12,
   "id": "2157558f-a255-4901-b978-b4fd9a72dd7f",
   "metadata": {},
   "outputs": [
    {
     "name": "stdout",
     "output_type": "stream",
     "text": [
      "Original Array: array('f', [1.0, 2.0, 3.0, 4.0, 5.0])\n",
      "Array after removing element: array('f', [1.0, 2.0, 4.0, 5.0])\n"
     ]
    }
   ],
   "source": [
    "import array \n",
    "a=array.array('f',[1,2,3,4,5])\n",
    "print(\"Original Array:\",a)\n",
    "# Remove an element(3:3 in this case)\n",
    "a.remove(3)\n",
    "print(\"Array after removing element:\",a)"
   ]
  },
  {
   "cell_type": "code",
   "execution_count": 14,
   "id": "68f2f5d8-6a71-48e4-a6b7-efd52d049ef3",
   "metadata": {},
   "outputs": [
    {
     "name": "stdout",
     "output_type": "stream",
     "text": [
      "Original Array: array('i', [1, 2, 3, 4, 5])\n",
      "Array after insertion array('i', [1, 2, 100, 3, 4, 5])\n"
     ]
    }
   ],
   "source": [
    "import array\n",
    "a=array.array('i',[1,2,3,4,5])\n",
    "print(\"Original Array:\",a)\n",
    "a.insert(2,100)\n",
    "print(\"Array after insertion\",a)"
   ]
  },
  {
   "cell_type": "code",
   "execution_count": 16,
   "id": "b9b41d07-bd95-4db3-b787-a1d5551e7148",
   "metadata": {},
   "outputs": [
    {
     "name": "stdout",
     "output_type": "stream",
     "text": [
      "ORiginal Array array('i', [10, 20, 30, 40, 50])\n",
      "Array after updating elements: array('i', [10, 20, 35, 40, 50])\n"
     ]
    }
   ],
   "source": [
    "import array\n",
    "a=array.array('i',[10,20,30,40,50])\n",
    "print(\"ORiginal Array\",a)\n",
    "#update an element at index 2\n",
    "a[2]=35\n",
    "#display\n",
    "print(\"Array after updating elements:\",a)"
   ]
  },
  {
   "cell_type": "code",
   "execution_count": 18,
   "id": "161111f2-0b2f-4356-b7af-87cda63426ef",
   "metadata": {},
   "outputs": [
    {
     "name": "stdout",
     "output_type": "stream",
     "text": [
      "['apple']\n",
      "['apple', 'banna', 'cherry', 'kiwi', 'peach']\n",
      "['apple']\n",
      "['apple', 'banna', 'cherry', 'kiwi', 'peach']\n"
     ]
    }
   ],
   "source": [
    "fruits=['apple','banna','cherry','kiwi','peach']\n",
    "print(fruits[0:1])\n",
    "print(fruits[0:])\n",
    "print(fruits[:1])\n",
    "print(fruits[:])\n"
   ]
  },
  {
   "cell_type": "code",
   "execution_count": 22,
   "id": "f6cbb8e0-cc35-46f1-8b08-281e149e31ea",
   "metadata": {},
   "outputs": [
    {
     "name": "stdout",
     "output_type": "stream",
     "text": [
      "The index of 1st occurence of peach is: 2\n"
     ]
    }
   ],
   "source": [
    "arr=['apple','kiwi','peach','pineapple','banana','peach']\n",
    "print(\"The index of 1st occurence of peach is:\",end=\" \")\n",
    "print(arr.index('peach'))"
   ]
  },
  {
   "cell_type": "code",
   "execution_count": null,
   "id": "ad7e48c3-7a84-4626-b39f-546f25211df0",
   "metadata": {},
   "outputs": [],
   "source": []
  }
 ],
 "metadata": {
  "kernelspec": {
   "display_name": "Python 3 (ipykernel)",
   "language": "python",
   "name": "python3"
  },
  "language_info": {
   "codemirror_mode": {
    "name": "ipython",
    "version": 3
   },
   "file_extension": ".py",
   "mimetype": "text/x-python",
   "name": "python",
   "nbconvert_exporter": "python",
   "pygments_lexer": "ipython3",
   "version": "3.12.4"
  }
 },
 "nbformat": 4,
 "nbformat_minor": 5
}
