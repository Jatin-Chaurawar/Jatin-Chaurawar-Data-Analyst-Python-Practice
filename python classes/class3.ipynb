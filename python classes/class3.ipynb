{
 "cells": [
  {
   "cell_type": "code",
   "execution_count": 1,
   "id": "a1bef35f-4773-48d6-aef1-fd783bd77624",
   "metadata": {},
   "outputs": [
    {
     "name": "stdout",
     "output_type": "stream",
     "text": [
      "True\n",
      "False\n",
      "False\n",
      "True\n"
     ]
    }
   ],
   "source": [
    "#learning membership operator \n",
    "a=[\"aman\",\"pooja\"]\n",
    "print(\"aman\" in a) #using in operator\n",
    "print(\"aman\" not in a) #using not in operator\n",
    "print(\"medha\" in a) #using in operator\n",
    "print(\"medha\" not in a) #using not in operator"
   ]
  },
  {
   "cell_type": "code",
   "execution_count": 2,
   "id": "4d7a58e2-c93c-4d16-8ee7-f869c8af5d30",
   "metadata": {},
   "outputs": [
    {
     "name": "stdout",
     "output_type": "stream",
     "text": [
      "True\n",
      "True\n",
      "False\n",
      "False\n"
     ]
    }
   ],
   "source": [
    "#learning identity operator \n",
    "a=10\n",
    "b=10\n",
    "c=a\n",
    "print(a is b) #using is operator \n",
    "print(a is c)#using is operator \n",
    "print(a is not b) #using is not operator\n",
    "print(a is not c) #using is not operator"
   ]
  },
  {
   "cell_type": "code",
   "execution_count": 3,
   "id": "bfe377f4-5fd1-48e8-beaf-b9be8691af0e",
   "metadata": {},
   "outputs": [
    {
     "name": "stdout",
     "output_type": "stream",
     "text": [
      "False\n",
      "True\n",
      "True\n",
      "False\n",
      "2105171684864\n",
      "2105171683520\n",
      "2105171684864\n"
     ]
    }
   ],
   "source": [
    "#learning identity operator \n",
    "a=[10]\n",
    "b=[10]\n",
    "c=a\n",
    "print(a is b) #using is operator \n",
    "print(a is c)#using is operator \n",
    "print(a is not b) #using is not operator\n",
    "print(a is not c) #using is not operator\n",
    "print(id(a))\n",
    "print(id(b))\n",
    "print(id(c))"
   ]
  },
  {
   "cell_type": "code",
   "execution_count": 10,
   "id": "fe374a6e-e607-43f3-a1f0-4f6e895e27fa",
   "metadata": {},
   "outputs": [
    {
     "name": "stdin",
     "output_type": "stream",
     "text": [
      "enter value of a: 5\n",
      "enter value of b: 7.6\n"
     ]
    },
    {
     "name": "stdout",
     "output_type": "stream",
     "text": [
      "12.6\n"
     ]
    }
   ],
   "source": [
    "##### using input function\n",
    "a=int(input(\"enter value of a:\"))\n",
    "b=float(input(\"enter value of b:\"))\n",
    "print(a+b)"
   ]
  },
  {
   "cell_type": "code",
   "execution_count": 12,
   "id": "e520a015-b586-4098-ae34-22db2a80b39f",
   "metadata": {},
   "outputs": [
    {
     "name": "stdin",
     "output_type": "stream",
     "text": [
      "enter value of a: 3\n",
      "enter value of b: 4\n"
     ]
    },
    {
     "name": "stdout",
     "output_type": "stream",
     "text": [
      "34\n"
     ]
    }
   ],
   "source": [
    "##### using input function\n",
    "a=input(\"enter value of a:\")\n",
    "b=input(\"enter value of b:\")\n",
    "print(a+b)"
   ]
  },
  {
   "cell_type": "code",
   "execution_count": 19,
   "id": "522e46fd-5fa1-4c4a-a32b-7675e493f67d",
   "metadata": {},
   "outputs": [
    {
     "name": "stdout",
     "output_type": "stream",
     "text": [
      "P\n",
      "P\n",
      "N\n",
      "N\n"
     ]
    }
   ],
   "source": [
    "#doing indexing\n",
    "a='PYTHON'\n",
    "print(a[0]) #using normal indexing to print first letter \n",
    "print(a[-6]) #using negative indexing to print first letter \n",
    "print(a[5]) #using normal indexing to print last letter \n",
    "print(a[-1]) #using negative  indexing to print last letter \n",
    "\n"
   ]
  },
  {
   "cell_type": "code",
   "execution_count": 21,
   "id": "eddb2353-bec8-4f82-ae96-621d6a528a40",
   "metadata": {},
   "outputs": [
    {
     "name": "stdout",
     "output_type": "stream",
     "text": [
      "PYTHON\n",
      "PY\n",
      "PYT\n",
      "PTO\n",
      "PYTHON\n"
     ]
    }
   ],
   "source": [
    "#performing slicing \n",
    "a='PYTHON'\n",
    "print(a[0:]) #stating at 0\n",
    "print(a[:2]) #stoping at 2\n",
    "print(a[0:3]) #stating at 0 and stoping at 3\n",
    "print(a[0:5:2]) #stating at 0 stoping at 5 and taking step of 2\n",
    "print(a[:]) #not stating or stopping anywhere\n"
   ]
  },
  {
   "cell_type": "code",
   "execution_count": 67,
   "id": "733380e3-c222-4ac2-875b-e0d05a21fcf4",
   "metadata": {},
   "outputs": [
    {
     "name": "stdout",
     "output_type": "stream",
     "text": [
      "ET\n",
      "EE\n",
      "EPN\n",
      "ANT\n",
      "EEHN\n"
     ]
    }
   ],
   "source": [
    "a='ELEPHANT'\n",
    "print(a[0::7])\n",
    "print(a[0:3:2])\n",
    "print(a[0:7:3])\n",
    "print(a[5:])\n",
    "print(a[0:7:2])"
   ]
  },
  {
   "cell_type": "code",
   "execution_count": 65,
   "id": "ab109a60-da0f-4a97-9478-f45f78cb5a1a",
   "metadata": {},
   "outputs": [
    {
     "name": "stdout",
     "output_type": "stream",
     "text": [
      "ET\n",
      "EE\n",
      "EPN\n",
      "ANT\n",
      "EEHN\n"
     ]
    }
   ],
   "source": [
    "a='ELEPHANT'\n",
    "print(a[-8::7])\n",
    "print(a[-8:-5:2])\n",
    "print(a[-8:-1:3])\n",
    "print(a[-3:])\n",
    "print(a[-8:-1:2])"
   ]
  },
  {
   "cell_type": "code",
   "execution_count": null,
   "id": "d59d0fc0-f7f6-466f-87d6-8db448fc9284",
   "metadata": {},
   "outputs": [],
   "source": []
  }
 ],
 "metadata": {
  "kernelspec": {
   "display_name": "Python 3 (ipykernel)",
   "language": "python",
   "name": "python3"
  },
  "language_info": {
   "codemirror_mode": {
    "name": "ipython",
    "version": 3
   },
   "file_extension": ".py",
   "mimetype": "text/x-python",
   "name": "python",
   "nbconvert_exporter": "python",
   "pygments_lexer": "ipython3",
   "version": "3.12.4"
  }
 },
 "nbformat": 4,
 "nbformat_minor": 5
}
